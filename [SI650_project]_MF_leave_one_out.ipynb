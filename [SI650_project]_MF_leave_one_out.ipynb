{
 "cells": [
  {
   "cell_type": "markdown",
   "metadata": {
    "colab_type": "text",
    "id": "view-in-github"
   },
   "source": [
    "<a href=\"https://colab.research.google.com/github/Annie-Yeeun-Jang/Info_retrieval_project/blob/master/%5BSI650_project%5D_MF_leave_one_out.ipynb\" target=\"_parent\"><img src=\"https://colab.research.google.com/assets/colab-badge.svg\" alt=\"Open In Colab\"/></a>"
   ]
  },
  {
   "cell_type": "code",
   "execution_count": 4,
   "metadata": {
    "colab": {
     "base_uri": "https://localhost:8080/"
    },
    "id": "SvzCEzXtgq_F",
    "outputId": "9e557b3e-4101-47e4-ad49-123d92952b85"
   },
   "outputs": [],
   "source": [
    "import json\n",
    "import os\n",
    "import numpy as np\n",
    "import pandas as pd\n",
    "import matplotlib.pyplot as plt\n",
    "from scipy.sparse.linalg import svds\n"
   ]
  },
  {
   "cell_type": "code",
   "execution_count": 5,
   "metadata": {
    "id": "n-7LxMp-Vqxs"
   },
   "outputs": [],
   "source": [
    "jester=pd.read_excel('./FINAL jester 2006-15.xls', header=None) #ratings matrix with nan and range -10~+10 "
   ]
  },
  {
   "cell_type": "code",
   "execution_count": 6,
   "metadata": {
    "colab": {
     "base_uri": "https://localhost:8080/",
     "height": 424
    },
    "id": "JwsDwI_1rZjY",
    "outputId": "c1b00d67-3c1e-4baf-e1be-a92525c1d930"
   },
   "outputs": [
    {
     "data": {
      "text/html": [
       "<div>\n",
       "<style scoped>\n",
       "    .dataframe tbody tr th:only-of-type {\n",
       "        vertical-align: middle;\n",
       "    }\n",
       "\n",
       "    .dataframe tbody tr th {\n",
       "        vertical-align: top;\n",
       "    }\n",
       "\n",
       "    .dataframe thead th {\n",
       "        text-align: right;\n",
       "    }\n",
       "</style>\n",
       "<table border=\"1\" class=\"dataframe\">\n",
       "  <thead>\n",
       "    <tr style=\"text-align: right;\">\n",
       "      <th></th>\n",
       "      <th>0</th>\n",
       "      <th>1</th>\n",
       "      <th>2</th>\n",
       "      <th>3</th>\n",
       "      <th>4</th>\n",
       "      <th>5</th>\n",
       "      <th>6</th>\n",
       "      <th>7</th>\n",
       "      <th>8</th>\n",
       "      <th>9</th>\n",
       "      <th>...</th>\n",
       "      <th>141</th>\n",
       "      <th>142</th>\n",
       "      <th>143</th>\n",
       "      <th>144</th>\n",
       "      <th>145</th>\n",
       "      <th>146</th>\n",
       "      <th>147</th>\n",
       "      <th>148</th>\n",
       "      <th>149</th>\n",
       "      <th>150</th>\n",
       "    </tr>\n",
       "  </thead>\n",
       "  <tbody>\n",
       "    <tr>\n",
       "      <th>0</th>\n",
       "      <td>62.0</td>\n",
       "      <td>NaN</td>\n",
       "      <td>NaN</td>\n",
       "      <td>NaN</td>\n",
       "      <td>NaN</td>\n",
       "      <td>0.21875</td>\n",
       "      <td>NaN</td>\n",
       "      <td>-9.28125</td>\n",
       "      <td>-9.28125</td>\n",
       "      <td>NaN</td>\n",
       "      <td>...</td>\n",
       "      <td>NaN</td>\n",
       "      <td>NaN</td>\n",
       "      <td>NaN</td>\n",
       "      <td>NaN</td>\n",
       "      <td>NaN</td>\n",
       "      <td>NaN</td>\n",
       "      <td>NaN</td>\n",
       "      <td>NaN</td>\n",
       "      <td>NaN</td>\n",
       "      <td>NaN</td>\n",
       "    </tr>\n",
       "    <tr>\n",
       "      <th>1</th>\n",
       "      <td>34.0</td>\n",
       "      <td>NaN</td>\n",
       "      <td>NaN</td>\n",
       "      <td>NaN</td>\n",
       "      <td>NaN</td>\n",
       "      <td>-9.68750</td>\n",
       "      <td>NaN</td>\n",
       "      <td>9.93750</td>\n",
       "      <td>9.53125</td>\n",
       "      <td>NaN</td>\n",
       "      <td>...</td>\n",
       "      <td>NaN</td>\n",
       "      <td>NaN</td>\n",
       "      <td>NaN</td>\n",
       "      <td>NaN</td>\n",
       "      <td>NaN</td>\n",
       "      <td>NaN</td>\n",
       "      <td>NaN</td>\n",
       "      <td>NaN</td>\n",
       "      <td>NaN</td>\n",
       "      <td>NaN</td>\n",
       "    </tr>\n",
       "    <tr>\n",
       "      <th>2</th>\n",
       "      <td>18.0</td>\n",
       "      <td>NaN</td>\n",
       "      <td>NaN</td>\n",
       "      <td>NaN</td>\n",
       "      <td>NaN</td>\n",
       "      <td>-9.84375</td>\n",
       "      <td>NaN</td>\n",
       "      <td>-9.84375</td>\n",
       "      <td>-7.21875</td>\n",
       "      <td>NaN</td>\n",
       "      <td>...</td>\n",
       "      <td>NaN</td>\n",
       "      <td>NaN</td>\n",
       "      <td>NaN</td>\n",
       "      <td>NaN</td>\n",
       "      <td>NaN</td>\n",
       "      <td>NaN</td>\n",
       "      <td>NaN</td>\n",
       "      <td>NaN</td>\n",
       "      <td>NaN</td>\n",
       "      <td>NaN</td>\n",
       "    </tr>\n",
       "    <tr>\n",
       "      <th>3</th>\n",
       "      <td>82.0</td>\n",
       "      <td>NaN</td>\n",
       "      <td>NaN</td>\n",
       "      <td>NaN</td>\n",
       "      <td>NaN</td>\n",
       "      <td>6.90625</td>\n",
       "      <td>NaN</td>\n",
       "      <td>4.75000</td>\n",
       "      <td>-5.90625</td>\n",
       "      <td>NaN</td>\n",
       "      <td>...</td>\n",
       "      <td>NaN</td>\n",
       "      <td>NaN</td>\n",
       "      <td>NaN</td>\n",
       "      <td>NaN</td>\n",
       "      <td>NaN</td>\n",
       "      <td>NaN</td>\n",
       "      <td>NaN</td>\n",
       "      <td>NaN</td>\n",
       "      <td>NaN</td>\n",
       "      <td>NaN</td>\n",
       "    </tr>\n",
       "    <tr>\n",
       "      <th>4</th>\n",
       "      <td>27.0</td>\n",
       "      <td>NaN</td>\n",
       "      <td>NaN</td>\n",
       "      <td>NaN</td>\n",
       "      <td>NaN</td>\n",
       "      <td>-0.03125</td>\n",
       "      <td>NaN</td>\n",
       "      <td>-9.09375</td>\n",
       "      <td>-0.40625</td>\n",
       "      <td>NaN</td>\n",
       "      <td>...</td>\n",
       "      <td>NaN</td>\n",
       "      <td>NaN</td>\n",
       "      <td>NaN</td>\n",
       "      <td>NaN</td>\n",
       "      <td>NaN</td>\n",
       "      <td>NaN</td>\n",
       "      <td>NaN</td>\n",
       "      <td>NaN</td>\n",
       "      <td>NaN</td>\n",
       "      <td>NaN</td>\n",
       "    </tr>\n",
       "    <tr>\n",
       "      <th>...</th>\n",
       "      <td>...</td>\n",
       "      <td>...</td>\n",
       "      <td>...</td>\n",
       "      <td>...</td>\n",
       "      <td>...</td>\n",
       "      <td>...</td>\n",
       "      <td>...</td>\n",
       "      <td>...</td>\n",
       "      <td>...</td>\n",
       "      <td>...</td>\n",
       "      <td>...</td>\n",
       "      <td>...</td>\n",
       "      <td>...</td>\n",
       "      <td>...</td>\n",
       "      <td>...</td>\n",
       "      <td>...</td>\n",
       "      <td>...</td>\n",
       "      <td>...</td>\n",
       "      <td>...</td>\n",
       "      <td>...</td>\n",
       "      <td>...</td>\n",
       "    </tr>\n",
       "    <tr>\n",
       "      <th>54900</th>\n",
       "      <td>13.0</td>\n",
       "      <td>NaN</td>\n",
       "      <td>NaN</td>\n",
       "      <td>NaN</td>\n",
       "      <td>NaN</td>\n",
       "      <td>NaN</td>\n",
       "      <td>NaN</td>\n",
       "      <td>-6.53125</td>\n",
       "      <td>-2.34375</td>\n",
       "      <td>NaN</td>\n",
       "      <td>...</td>\n",
       "      <td>NaN</td>\n",
       "      <td>NaN</td>\n",
       "      <td>NaN</td>\n",
       "      <td>NaN</td>\n",
       "      <td>NaN</td>\n",
       "      <td>NaN</td>\n",
       "      <td>NaN</td>\n",
       "      <td>NaN</td>\n",
       "      <td>NaN</td>\n",
       "      <td>NaN</td>\n",
       "    </tr>\n",
       "    <tr>\n",
       "      <th>54901</th>\n",
       "      <td>8.0</td>\n",
       "      <td>NaN</td>\n",
       "      <td>NaN</td>\n",
       "      <td>NaN</td>\n",
       "      <td>NaN</td>\n",
       "      <td>NaN</td>\n",
       "      <td>NaN</td>\n",
       "      <td>8.93750</td>\n",
       "      <td>9.78125</td>\n",
       "      <td>NaN</td>\n",
       "      <td>...</td>\n",
       "      <td>NaN</td>\n",
       "      <td>NaN</td>\n",
       "      <td>NaN</td>\n",
       "      <td>NaN</td>\n",
       "      <td>NaN</td>\n",
       "      <td>NaN</td>\n",
       "      <td>NaN</td>\n",
       "      <td>NaN</td>\n",
       "      <td>NaN</td>\n",
       "      <td>NaN</td>\n",
       "    </tr>\n",
       "    <tr>\n",
       "      <th>54902</th>\n",
       "      <td>27.0</td>\n",
       "      <td>NaN</td>\n",
       "      <td>NaN</td>\n",
       "      <td>NaN</td>\n",
       "      <td>NaN</td>\n",
       "      <td>NaN</td>\n",
       "      <td>NaN</td>\n",
       "      <td>-1.59375</td>\n",
       "      <td>4.53125</td>\n",
       "      <td>NaN</td>\n",
       "      <td>...</td>\n",
       "      <td>NaN</td>\n",
       "      <td>NaN</td>\n",
       "      <td>NaN</td>\n",
       "      <td>NaN</td>\n",
       "      <td>NaN</td>\n",
       "      <td>NaN</td>\n",
       "      <td>NaN</td>\n",
       "      <td>NaN</td>\n",
       "      <td>NaN</td>\n",
       "      <td>NaN</td>\n",
       "    </tr>\n",
       "    <tr>\n",
       "      <th>54903</th>\n",
       "      <td>8.0</td>\n",
       "      <td>NaN</td>\n",
       "      <td>NaN</td>\n",
       "      <td>NaN</td>\n",
       "      <td>NaN</td>\n",
       "      <td>NaN</td>\n",
       "      <td>NaN</td>\n",
       "      <td>-7.40625</td>\n",
       "      <td>6.93750</td>\n",
       "      <td>NaN</td>\n",
       "      <td>...</td>\n",
       "      <td>NaN</td>\n",
       "      <td>NaN</td>\n",
       "      <td>NaN</td>\n",
       "      <td>NaN</td>\n",
       "      <td>NaN</td>\n",
       "      <td>NaN</td>\n",
       "      <td>NaN</td>\n",
       "      <td>NaN</td>\n",
       "      <td>NaN</td>\n",
       "      <td>NaN</td>\n",
       "    </tr>\n",
       "    <tr>\n",
       "      <th>54904</th>\n",
       "      <td>12.0</td>\n",
       "      <td>NaN</td>\n",
       "      <td>NaN</td>\n",
       "      <td>NaN</td>\n",
       "      <td>NaN</td>\n",
       "      <td>NaN</td>\n",
       "      <td>NaN</td>\n",
       "      <td>4.25000</td>\n",
       "      <td>6.59375</td>\n",
       "      <td>NaN</td>\n",
       "      <td>...</td>\n",
       "      <td>NaN</td>\n",
       "      <td>NaN</td>\n",
       "      <td>NaN</td>\n",
       "      <td>NaN</td>\n",
       "      <td>NaN</td>\n",
       "      <td>NaN</td>\n",
       "      <td>NaN</td>\n",
       "      <td>NaN</td>\n",
       "      <td>NaN</td>\n",
       "      <td>NaN</td>\n",
       "    </tr>\n",
       "  </tbody>\n",
       "</table>\n",
       "<p>54905 rows × 151 columns</p>\n",
       "</div>"
      ],
      "text/plain": [
       "        0    1    2    3    4        5    6        7        8    9    ...  \\\n",
       "0      62.0  NaN  NaN  NaN  NaN  0.21875  NaN -9.28125 -9.28125  NaN  ...   \n",
       "1      34.0  NaN  NaN  NaN  NaN -9.68750  NaN  9.93750  9.53125  NaN  ...   \n",
       "2      18.0  NaN  NaN  NaN  NaN -9.84375  NaN -9.84375 -7.21875  NaN  ...   \n",
       "3      82.0  NaN  NaN  NaN  NaN  6.90625  NaN  4.75000 -5.90625  NaN  ...   \n",
       "4      27.0  NaN  NaN  NaN  NaN -0.03125  NaN -9.09375 -0.40625  NaN  ...   \n",
       "...     ...  ...  ...  ...  ...      ...  ...      ...      ...  ...  ...   \n",
       "54900  13.0  NaN  NaN  NaN  NaN      NaN  NaN -6.53125 -2.34375  NaN  ...   \n",
       "54901   8.0  NaN  NaN  NaN  NaN      NaN  NaN  8.93750  9.78125  NaN  ...   \n",
       "54902  27.0  NaN  NaN  NaN  NaN      NaN  NaN -1.59375  4.53125  NaN  ...   \n",
       "54903   8.0  NaN  NaN  NaN  NaN      NaN  NaN -7.40625  6.93750  NaN  ...   \n",
       "54904  12.0  NaN  NaN  NaN  NaN      NaN  NaN  4.25000  6.59375  NaN  ...   \n",
       "\n",
       "       141  142  143  144  145  146  147  148  149  150  \n",
       "0      NaN  NaN  NaN  NaN  NaN  NaN  NaN  NaN  NaN  NaN  \n",
       "1      NaN  NaN  NaN  NaN  NaN  NaN  NaN  NaN  NaN  NaN  \n",
       "2      NaN  NaN  NaN  NaN  NaN  NaN  NaN  NaN  NaN  NaN  \n",
       "3      NaN  NaN  NaN  NaN  NaN  NaN  NaN  NaN  NaN  NaN  \n",
       "4      NaN  NaN  NaN  NaN  NaN  NaN  NaN  NaN  NaN  NaN  \n",
       "...    ...  ...  ...  ...  ...  ...  ...  ...  ...  ...  \n",
       "54900  NaN  NaN  NaN  NaN  NaN  NaN  NaN  NaN  NaN  NaN  \n",
       "54901  NaN  NaN  NaN  NaN  NaN  NaN  NaN  NaN  NaN  NaN  \n",
       "54902  NaN  NaN  NaN  NaN  NaN  NaN  NaN  NaN  NaN  NaN  \n",
       "54903  NaN  NaN  NaN  NaN  NaN  NaN  NaN  NaN  NaN  NaN  \n",
       "54904  NaN  NaN  NaN  NaN  NaN  NaN  NaN  NaN  NaN  NaN  \n",
       "\n",
       "[54905 rows x 151 columns]"
      ]
     },
     "execution_count": 6,
     "metadata": {},
     "output_type": "execute_result"
    }
   ],
   "source": [
    "jester"
   ]
  },
  {
   "cell_type": "code",
   "execution_count": 7,
   "metadata": {
    "colab": {
     "base_uri": "https://localhost:8080/"
    },
    "id": "qn3OJ8u-V0U6",
    "outputId": "9061796f-dddb-4ca3-c2c7-40e9f97bd006"
   },
   "outputs": [
    {
     "data": {
      "text/plain": [
       "0     54820\n",
       "1         0\n",
       "2         0\n",
       "3         0\n",
       "4         0\n",
       "5       566\n",
       "6         0\n",
       "7     54905\n",
       "8     54905\n",
       "9         0\n",
       "10        0\n",
       "11        0\n",
       "12        0\n",
       "13    54905\n",
       "14        0\n",
       "15    54905\n",
       "16    54905\n",
       "17    54905\n",
       "18    54905\n",
       "19    54905\n",
       "dtype: int64"
      ]
     },
     "execution_count": 7,
     "metadata": {},
     "output_type": "execute_result"
    }
   ],
   "source": [
    "jester.notnull().sum()[:20] #they are some jokes that nobody rated [1,2,3,4,6,9,10,11,12,14]"
   ]
  },
  {
   "cell_type": "markdown",
   "metadata": {
    "id": "CkT-V_zhvwhD"
   },
   "source": [
    "### we need to do some preprocessing (users only having negative ratings or few ratings(<5), jokes that have never been rated)"
   ]
  },
  {
   "cell_type": "code",
   "execution_count": 10,
   "metadata": {
    "colab": {
     "base_uri": "https://localhost:8080/",
     "height": 424
    },
    "id": "bjMc1vlbvv5s",
    "outputId": "00152b47-e4f2-460c-c5fd-417f44abe699"
   },
   "outputs": [
    {
     "data": {
      "text/html": [
       "<div>\n",
       "<style scoped>\n",
       "    .dataframe tbody tr th:only-of-type {\n",
       "        vertical-align: middle;\n",
       "    }\n",
       "\n",
       "    .dataframe tbody tr th {\n",
       "        vertical-align: top;\n",
       "    }\n",
       "\n",
       "    .dataframe thead th {\n",
       "        text-align: right;\n",
       "    }\n",
       "</style>\n",
       "<table border=\"1\" class=\"dataframe\">\n",
       "  <thead>\n",
       "    <tr style=\"text-align: right;\">\n",
       "      <th></th>\n",
       "      <th>0</th>\n",
       "      <th>5</th>\n",
       "      <th>7</th>\n",
       "      <th>8</th>\n",
       "      <th>13</th>\n",
       "      <th>15</th>\n",
       "      <th>16</th>\n",
       "      <th>17</th>\n",
       "      <th>18</th>\n",
       "      <th>19</th>\n",
       "      <th>...</th>\n",
       "      <th>141</th>\n",
       "      <th>142</th>\n",
       "      <th>143</th>\n",
       "      <th>144</th>\n",
       "      <th>145</th>\n",
       "      <th>146</th>\n",
       "      <th>147</th>\n",
       "      <th>148</th>\n",
       "      <th>149</th>\n",
       "      <th>150</th>\n",
       "    </tr>\n",
       "  </thead>\n",
       "  <tbody>\n",
       "    <tr>\n",
       "      <th>0</th>\n",
       "      <td>62.0</td>\n",
       "      <td>0.21875</td>\n",
       "      <td>-9.28125</td>\n",
       "      <td>-9.28125</td>\n",
       "      <td>-6.78125</td>\n",
       "      <td>0.87500</td>\n",
       "      <td>-9.65625</td>\n",
       "      <td>-9.03125</td>\n",
       "      <td>-7.46875</td>\n",
       "      <td>-8.71875</td>\n",
       "      <td>...</td>\n",
       "      <td>NaN</td>\n",
       "      <td>NaN</td>\n",
       "      <td>NaN</td>\n",
       "      <td>NaN</td>\n",
       "      <td>NaN</td>\n",
       "      <td>NaN</td>\n",
       "      <td>NaN</td>\n",
       "      <td>NaN</td>\n",
       "      <td>NaN</td>\n",
       "      <td>NaN</td>\n",
       "    </tr>\n",
       "    <tr>\n",
       "      <th>1</th>\n",
       "      <td>34.0</td>\n",
       "      <td>-9.68750</td>\n",
       "      <td>9.93750</td>\n",
       "      <td>9.53125</td>\n",
       "      <td>9.93750</td>\n",
       "      <td>0.40625</td>\n",
       "      <td>3.71875</td>\n",
       "      <td>9.65625</td>\n",
       "      <td>-2.68750</td>\n",
       "      <td>-9.56250</td>\n",
       "      <td>...</td>\n",
       "      <td>NaN</td>\n",
       "      <td>NaN</td>\n",
       "      <td>NaN</td>\n",
       "      <td>NaN</td>\n",
       "      <td>NaN</td>\n",
       "      <td>NaN</td>\n",
       "      <td>NaN</td>\n",
       "      <td>NaN</td>\n",
       "      <td>NaN</td>\n",
       "      <td>NaN</td>\n",
       "    </tr>\n",
       "    <tr>\n",
       "      <th>2</th>\n",
       "      <td>18.0</td>\n",
       "      <td>-9.84375</td>\n",
       "      <td>-9.84375</td>\n",
       "      <td>-7.21875</td>\n",
       "      <td>-2.03125</td>\n",
       "      <td>-9.93750</td>\n",
       "      <td>-9.96875</td>\n",
       "      <td>-9.87500</td>\n",
       "      <td>-9.81250</td>\n",
       "      <td>-9.78125</td>\n",
       "      <td>...</td>\n",
       "      <td>NaN</td>\n",
       "      <td>NaN</td>\n",
       "      <td>NaN</td>\n",
       "      <td>NaN</td>\n",
       "      <td>NaN</td>\n",
       "      <td>NaN</td>\n",
       "      <td>NaN</td>\n",
       "      <td>NaN</td>\n",
       "      <td>NaN</td>\n",
       "      <td>NaN</td>\n",
       "    </tr>\n",
       "    <tr>\n",
       "      <th>3</th>\n",
       "      <td>82.0</td>\n",
       "      <td>6.90625</td>\n",
       "      <td>4.75000</td>\n",
       "      <td>-5.90625</td>\n",
       "      <td>-0.40625</td>\n",
       "      <td>-4.03125</td>\n",
       "      <td>3.87500</td>\n",
       "      <td>6.21875</td>\n",
       "      <td>5.65625</td>\n",
       "      <td>6.09375</td>\n",
       "      <td>...</td>\n",
       "      <td>NaN</td>\n",
       "      <td>NaN</td>\n",
       "      <td>NaN</td>\n",
       "      <td>NaN</td>\n",
       "      <td>NaN</td>\n",
       "      <td>NaN</td>\n",
       "      <td>NaN</td>\n",
       "      <td>NaN</td>\n",
       "      <td>NaN</td>\n",
       "      <td>NaN</td>\n",
       "    </tr>\n",
       "    <tr>\n",
       "      <th>4</th>\n",
       "      <td>27.0</td>\n",
       "      <td>-0.03125</td>\n",
       "      <td>-9.09375</td>\n",
       "      <td>-0.40625</td>\n",
       "      <td>7.50000</td>\n",
       "      <td>-7.21875</td>\n",
       "      <td>-9.43750</td>\n",
       "      <td>0.12500</td>\n",
       "      <td>-9.15625</td>\n",
       "      <td>3.65625</td>\n",
       "      <td>...</td>\n",
       "      <td>NaN</td>\n",
       "      <td>NaN</td>\n",
       "      <td>NaN</td>\n",
       "      <td>NaN</td>\n",
       "      <td>NaN</td>\n",
       "      <td>NaN</td>\n",
       "      <td>NaN</td>\n",
       "      <td>NaN</td>\n",
       "      <td>NaN</td>\n",
       "      <td>NaN</td>\n",
       "    </tr>\n",
       "    <tr>\n",
       "      <th>...</th>\n",
       "      <td>...</td>\n",
       "      <td>...</td>\n",
       "      <td>...</td>\n",
       "      <td>...</td>\n",
       "      <td>...</td>\n",
       "      <td>...</td>\n",
       "      <td>...</td>\n",
       "      <td>...</td>\n",
       "      <td>...</td>\n",
       "      <td>...</td>\n",
       "      <td>...</td>\n",
       "      <td>...</td>\n",
       "      <td>...</td>\n",
       "      <td>...</td>\n",
       "      <td>...</td>\n",
       "      <td>...</td>\n",
       "      <td>...</td>\n",
       "      <td>...</td>\n",
       "      <td>...</td>\n",
       "      <td>...</td>\n",
       "      <td>...</td>\n",
       "    </tr>\n",
       "    <tr>\n",
       "      <th>54900</th>\n",
       "      <td>13.0</td>\n",
       "      <td>NaN</td>\n",
       "      <td>-6.53125</td>\n",
       "      <td>-2.34375</td>\n",
       "      <td>1.43750</td>\n",
       "      <td>-4.37500</td>\n",
       "      <td>-9.90625</td>\n",
       "      <td>-4.06250</td>\n",
       "      <td>-3.93750</td>\n",
       "      <td>-9.00000</td>\n",
       "      <td>...</td>\n",
       "      <td>NaN</td>\n",
       "      <td>NaN</td>\n",
       "      <td>NaN</td>\n",
       "      <td>NaN</td>\n",
       "      <td>NaN</td>\n",
       "      <td>NaN</td>\n",
       "      <td>NaN</td>\n",
       "      <td>NaN</td>\n",
       "      <td>NaN</td>\n",
       "      <td>NaN</td>\n",
       "    </tr>\n",
       "    <tr>\n",
       "      <th>54901</th>\n",
       "      <td>8.0</td>\n",
       "      <td>NaN</td>\n",
       "      <td>8.93750</td>\n",
       "      <td>9.78125</td>\n",
       "      <td>9.53125</td>\n",
       "      <td>9.50000</td>\n",
       "      <td>9.93750</td>\n",
       "      <td>9.87500</td>\n",
       "      <td>9.96875</td>\n",
       "      <td>9.96875</td>\n",
       "      <td>...</td>\n",
       "      <td>NaN</td>\n",
       "      <td>NaN</td>\n",
       "      <td>NaN</td>\n",
       "      <td>NaN</td>\n",
       "      <td>NaN</td>\n",
       "      <td>NaN</td>\n",
       "      <td>NaN</td>\n",
       "      <td>NaN</td>\n",
       "      <td>NaN</td>\n",
       "      <td>NaN</td>\n",
       "    </tr>\n",
       "    <tr>\n",
       "      <th>54902</th>\n",
       "      <td>27.0</td>\n",
       "      <td>NaN</td>\n",
       "      <td>-1.59375</td>\n",
       "      <td>4.53125</td>\n",
       "      <td>-9.21875</td>\n",
       "      <td>-3.09375</td>\n",
       "      <td>-1.96875</td>\n",
       "      <td>1.12500</td>\n",
       "      <td>-5.93750</td>\n",
       "      <td>-4.34375</td>\n",
       "      <td>...</td>\n",
       "      <td>NaN</td>\n",
       "      <td>NaN</td>\n",
       "      <td>NaN</td>\n",
       "      <td>NaN</td>\n",
       "      <td>NaN</td>\n",
       "      <td>NaN</td>\n",
       "      <td>NaN</td>\n",
       "      <td>NaN</td>\n",
       "      <td>NaN</td>\n",
       "      <td>NaN</td>\n",
       "    </tr>\n",
       "    <tr>\n",
       "      <th>54903</th>\n",
       "      <td>8.0</td>\n",
       "      <td>NaN</td>\n",
       "      <td>-7.40625</td>\n",
       "      <td>6.93750</td>\n",
       "      <td>-8.00000</td>\n",
       "      <td>-5.40625</td>\n",
       "      <td>-0.03125</td>\n",
       "      <td>5.15625</td>\n",
       "      <td>-3.62500</td>\n",
       "      <td>4.15625</td>\n",
       "      <td>...</td>\n",
       "      <td>NaN</td>\n",
       "      <td>NaN</td>\n",
       "      <td>NaN</td>\n",
       "      <td>NaN</td>\n",
       "      <td>NaN</td>\n",
       "      <td>NaN</td>\n",
       "      <td>NaN</td>\n",
       "      <td>NaN</td>\n",
       "      <td>NaN</td>\n",
       "      <td>NaN</td>\n",
       "    </tr>\n",
       "    <tr>\n",
       "      <th>54904</th>\n",
       "      <td>12.0</td>\n",
       "      <td>NaN</td>\n",
       "      <td>4.25000</td>\n",
       "      <td>6.59375</td>\n",
       "      <td>9.31250</td>\n",
       "      <td>8.25000</td>\n",
       "      <td>7.59375</td>\n",
       "      <td>6.84375</td>\n",
       "      <td>6.65625</td>\n",
       "      <td>6.06250</td>\n",
       "      <td>...</td>\n",
       "      <td>NaN</td>\n",
       "      <td>NaN</td>\n",
       "      <td>NaN</td>\n",
       "      <td>NaN</td>\n",
       "      <td>NaN</td>\n",
       "      <td>NaN</td>\n",
       "      <td>NaN</td>\n",
       "      <td>NaN</td>\n",
       "      <td>NaN</td>\n",
       "      <td>NaN</td>\n",
       "    </tr>\n",
       "  </tbody>\n",
       "</table>\n",
       "<p>54905 rows × 141 columns</p>\n",
       "</div>"
      ],
      "text/plain": [
       "        0        5        7        8        13       15       16       17   \\\n",
       "0      62.0  0.21875 -9.28125 -9.28125 -6.78125  0.87500 -9.65625 -9.03125   \n",
       "1      34.0 -9.68750  9.93750  9.53125  9.93750  0.40625  3.71875  9.65625   \n",
       "2      18.0 -9.84375 -9.84375 -7.21875 -2.03125 -9.93750 -9.96875 -9.87500   \n",
       "3      82.0  6.90625  4.75000 -5.90625 -0.40625 -4.03125  3.87500  6.21875   \n",
       "4      27.0 -0.03125 -9.09375 -0.40625  7.50000 -7.21875 -9.43750  0.12500   \n",
       "...     ...      ...      ...      ...      ...      ...      ...      ...   \n",
       "54900  13.0      NaN -6.53125 -2.34375  1.43750 -4.37500 -9.90625 -4.06250   \n",
       "54901   8.0      NaN  8.93750  9.78125  9.53125  9.50000  9.93750  9.87500   \n",
       "54902  27.0      NaN -1.59375  4.53125 -9.21875 -3.09375 -1.96875  1.12500   \n",
       "54903   8.0      NaN -7.40625  6.93750 -8.00000 -5.40625 -0.03125  5.15625   \n",
       "54904  12.0      NaN  4.25000  6.59375  9.31250  8.25000  7.59375  6.84375   \n",
       "\n",
       "           18       19   ...  141  142  143  144  145  146  147  148  149  150  \n",
       "0     -7.46875 -8.71875  ...  NaN  NaN  NaN  NaN  NaN  NaN  NaN  NaN  NaN  NaN  \n",
       "1     -2.68750 -9.56250  ...  NaN  NaN  NaN  NaN  NaN  NaN  NaN  NaN  NaN  NaN  \n",
       "2     -9.81250 -9.78125  ...  NaN  NaN  NaN  NaN  NaN  NaN  NaN  NaN  NaN  NaN  \n",
       "3      5.65625  6.09375  ...  NaN  NaN  NaN  NaN  NaN  NaN  NaN  NaN  NaN  NaN  \n",
       "4     -9.15625  3.65625  ...  NaN  NaN  NaN  NaN  NaN  NaN  NaN  NaN  NaN  NaN  \n",
       "...        ...      ...  ...  ...  ...  ...  ...  ...  ...  ...  ...  ...  ...  \n",
       "54900 -3.93750 -9.00000  ...  NaN  NaN  NaN  NaN  NaN  NaN  NaN  NaN  NaN  NaN  \n",
       "54901  9.96875  9.96875  ...  NaN  NaN  NaN  NaN  NaN  NaN  NaN  NaN  NaN  NaN  \n",
       "54902 -5.93750 -4.34375  ...  NaN  NaN  NaN  NaN  NaN  NaN  NaN  NaN  NaN  NaN  \n",
       "54903 -3.62500  4.15625  ...  NaN  NaN  NaN  NaN  NaN  NaN  NaN  NaN  NaN  NaN  \n",
       "54904  6.65625  6.06250  ...  NaN  NaN  NaN  NaN  NaN  NaN  NaN  NaN  NaN  NaN  \n",
       "\n",
       "[54905 rows x 141 columns]"
      ]
     },
     "execution_count": 10,
     "metadata": {},
     "output_type": "execute_result"
    }
   ],
   "source": [
    "#dropping jokes that have never been rated\n",
    "proc=jester.drop(columns=[1,2,3,4,6,9,10,11,12,14], axis=1)\n",
    "proc"
   ]
  },
  {
   "cell_type": "code",
   "execution_count": 11,
   "metadata": {
    "colab": {
     "base_uri": "https://localhost:8080/"
    },
    "id": "W1715WhmxR2q",
    "outputId": "f83429b0-8fe0-4575-8279-4aa95e916b28"
   },
   "outputs": [
    {
     "data": {
      "text/plain": [
       "166"
      ]
     },
     "execution_count": 11,
     "metadata": {},
     "output_type": "execute_result"
    }
   ],
   "source": [
    "proc.notnull().sum().min()"
   ]
  },
  {
   "cell_type": "code",
   "execution_count": 12,
   "metadata": {
    "colab": {
     "base_uri": "https://localhost:8080/"
    },
    "id": "mMv45UBVvv1e",
    "outputId": "8a21f13e-90cd-447a-dc77-cd90735493f8"
   },
   "outputs": [
    {
     "data": {
      "text/plain": [
       "0        62.00000\n",
       "1        34.00000\n",
       "2        18.00000\n",
       "3        82.00000\n",
       "4        27.00000\n",
       "           ...   \n",
       "54900    13.00000\n",
       "54901     9.96875\n",
       "54902    27.00000\n",
       "54903     8.00000\n",
       "54904    12.00000\n",
       "Length: 54905, dtype: float64"
      ]
     },
     "execution_count": 12,
     "metadata": {},
     "output_type": "execute_result"
    }
   ],
   "source": [
    "proc.max(axis=1)"
   ]
  },
  {
   "cell_type": "code",
   "execution_count": 13,
   "metadata": {
    "colab": {
     "base_uri": "https://localhost:8080/"
    },
    "id": "uJr4ql9J26fB",
    "outputId": "7f5229eb-a23c-47ad-aece-613c63203697"
   },
   "outputs": [
    {
     "data": {
      "text/plain": [
       "array([[62.     ,  0.21875, -9.28125, ...,      nan,      nan,      nan],\n",
       "       [34.     , -9.6875 ,  9.9375 , ...,      nan,      nan,      nan],\n",
       "       [18.     , -9.84375, -9.84375, ...,      nan,      nan,      nan],\n",
       "       ...,\n",
       "       [27.     ,      nan, -1.59375, ...,      nan,      nan,      nan],\n",
       "       [ 8.     ,      nan, -7.40625, ...,      nan,      nan,      nan],\n",
       "       [12.     ,      nan,  4.25   , ...,      nan,      nan,      nan]])"
      ]
     },
     "execution_count": 13,
     "metadata": {},
     "output_type": "execute_result"
    }
   ],
   "source": [
    "proc.values"
   ]
  },
  {
   "cell_type": "code",
   "execution_count": 14,
   "metadata": {
    "colab": {
     "base_uri": "https://localhost:8080/"
    },
    "id": "PHpGK-663Lr_",
    "outputId": "3f53bea4-8e9f-4525-cf47-58feb2e8db20"
   },
   "outputs": [
    {
     "data": {
      "text/plain": [
       "array([[62.     ,  0.21875, -9.28125, ...,      nan,      nan,      nan],\n",
       "       [34.     , -9.6875 ,  9.9375 , ...,      nan,      nan,      nan],\n",
       "       [18.     , -9.84375, -9.84375, ...,      nan,      nan,      nan],\n",
       "       ...,\n",
       "       [27.     ,      nan, -1.59375, ...,      nan,      nan,      nan],\n",
       "       [ 8.     ,      nan, -7.40625, ...,      nan,      nan,      nan],\n",
       "       [12.     ,      nan,  4.25   , ...,      nan,      nan,      nan]])"
      ]
     },
     "execution_count": 14,
     "metadata": {},
     "output_type": "execute_result"
    }
   ],
   "source": [
    "#how to change it to 0-1 rating ; https://stackoverflow.com/questions/19766757/replacing-numpy-elements-if-condition-is-met\n",
    "proc.values"
   ]
  },
  {
   "cell_type": "code",
   "execution_count": 15,
   "metadata": {
    "colab": {
     "base_uri": "https://localhost:8080/",
     "height": 424
    },
    "id": "aRYsuq-S3Luk",
    "outputId": "4e530c83-4d15-4a5d-f6bf-aa5b732d05b8"
   },
   "outputs": [
    {
     "data": {
      "text/html": [
       "<div>\n",
       "<style scoped>\n",
       "    .dataframe tbody tr th:only-of-type {\n",
       "        vertical-align: middle;\n",
       "    }\n",
       "\n",
       "    .dataframe tbody tr th {\n",
       "        vertical-align: top;\n",
       "    }\n",
       "\n",
       "    .dataframe thead th {\n",
       "        text-align: right;\n",
       "    }\n",
       "</style>\n",
       "<table border=\"1\" class=\"dataframe\">\n",
       "  <thead>\n",
       "    <tr style=\"text-align: right;\">\n",
       "      <th></th>\n",
       "      <th>0</th>\n",
       "      <th>5</th>\n",
       "      <th>7</th>\n",
       "      <th>8</th>\n",
       "      <th>13</th>\n",
       "      <th>15</th>\n",
       "      <th>16</th>\n",
       "      <th>17</th>\n",
       "      <th>18</th>\n",
       "      <th>19</th>\n",
       "      <th>...</th>\n",
       "      <th>141</th>\n",
       "      <th>142</th>\n",
       "      <th>143</th>\n",
       "      <th>144</th>\n",
       "      <th>145</th>\n",
       "      <th>146</th>\n",
       "      <th>147</th>\n",
       "      <th>148</th>\n",
       "      <th>149</th>\n",
       "      <th>150</th>\n",
       "    </tr>\n",
       "  </thead>\n",
       "  <tbody>\n",
       "    <tr>\n",
       "      <th>0</th>\n",
       "      <td>1</td>\n",
       "      <td>1</td>\n",
       "      <td>0</td>\n",
       "      <td>0</td>\n",
       "      <td>0</td>\n",
       "      <td>1</td>\n",
       "      <td>0</td>\n",
       "      <td>0</td>\n",
       "      <td>0</td>\n",
       "      <td>0</td>\n",
       "      <td>...</td>\n",
       "      <td>0</td>\n",
       "      <td>0</td>\n",
       "      <td>0</td>\n",
       "      <td>0</td>\n",
       "      <td>0</td>\n",
       "      <td>0</td>\n",
       "      <td>0</td>\n",
       "      <td>0</td>\n",
       "      <td>0</td>\n",
       "      <td>0</td>\n",
       "    </tr>\n",
       "    <tr>\n",
       "      <th>1</th>\n",
       "      <td>1</td>\n",
       "      <td>0</td>\n",
       "      <td>1</td>\n",
       "      <td>1</td>\n",
       "      <td>1</td>\n",
       "      <td>1</td>\n",
       "      <td>1</td>\n",
       "      <td>1</td>\n",
       "      <td>0</td>\n",
       "      <td>0</td>\n",
       "      <td>...</td>\n",
       "      <td>0</td>\n",
       "      <td>0</td>\n",
       "      <td>0</td>\n",
       "      <td>0</td>\n",
       "      <td>0</td>\n",
       "      <td>0</td>\n",
       "      <td>0</td>\n",
       "      <td>0</td>\n",
       "      <td>0</td>\n",
       "      <td>0</td>\n",
       "    </tr>\n",
       "    <tr>\n",
       "      <th>2</th>\n",
       "      <td>1</td>\n",
       "      <td>0</td>\n",
       "      <td>0</td>\n",
       "      <td>0</td>\n",
       "      <td>0</td>\n",
       "      <td>0</td>\n",
       "      <td>0</td>\n",
       "      <td>0</td>\n",
       "      <td>0</td>\n",
       "      <td>0</td>\n",
       "      <td>...</td>\n",
       "      <td>0</td>\n",
       "      <td>0</td>\n",
       "      <td>0</td>\n",
       "      <td>0</td>\n",
       "      <td>0</td>\n",
       "      <td>0</td>\n",
       "      <td>0</td>\n",
       "      <td>0</td>\n",
       "      <td>0</td>\n",
       "      <td>0</td>\n",
       "    </tr>\n",
       "    <tr>\n",
       "      <th>3</th>\n",
       "      <td>1</td>\n",
       "      <td>1</td>\n",
       "      <td>1</td>\n",
       "      <td>0</td>\n",
       "      <td>0</td>\n",
       "      <td>0</td>\n",
       "      <td>1</td>\n",
       "      <td>1</td>\n",
       "      <td>1</td>\n",
       "      <td>1</td>\n",
       "      <td>...</td>\n",
       "      <td>0</td>\n",
       "      <td>0</td>\n",
       "      <td>0</td>\n",
       "      <td>0</td>\n",
       "      <td>0</td>\n",
       "      <td>0</td>\n",
       "      <td>0</td>\n",
       "      <td>0</td>\n",
       "      <td>0</td>\n",
       "      <td>0</td>\n",
       "    </tr>\n",
       "    <tr>\n",
       "      <th>4</th>\n",
       "      <td>1</td>\n",
       "      <td>0</td>\n",
       "      <td>0</td>\n",
       "      <td>0</td>\n",
       "      <td>1</td>\n",
       "      <td>0</td>\n",
       "      <td>0</td>\n",
       "      <td>1</td>\n",
       "      <td>0</td>\n",
       "      <td>1</td>\n",
       "      <td>...</td>\n",
       "      <td>0</td>\n",
       "      <td>0</td>\n",
       "      <td>0</td>\n",
       "      <td>0</td>\n",
       "      <td>0</td>\n",
       "      <td>0</td>\n",
       "      <td>0</td>\n",
       "      <td>0</td>\n",
       "      <td>0</td>\n",
       "      <td>0</td>\n",
       "    </tr>\n",
       "    <tr>\n",
       "      <th>...</th>\n",
       "      <td>...</td>\n",
       "      <td>...</td>\n",
       "      <td>...</td>\n",
       "      <td>...</td>\n",
       "      <td>...</td>\n",
       "      <td>...</td>\n",
       "      <td>...</td>\n",
       "      <td>...</td>\n",
       "      <td>...</td>\n",
       "      <td>...</td>\n",
       "      <td>...</td>\n",
       "      <td>...</td>\n",
       "      <td>...</td>\n",
       "      <td>...</td>\n",
       "      <td>...</td>\n",
       "      <td>...</td>\n",
       "      <td>...</td>\n",
       "      <td>...</td>\n",
       "      <td>...</td>\n",
       "      <td>...</td>\n",
       "      <td>...</td>\n",
       "    </tr>\n",
       "    <tr>\n",
       "      <th>54900</th>\n",
       "      <td>1</td>\n",
       "      <td>0</td>\n",
       "      <td>0</td>\n",
       "      <td>0</td>\n",
       "      <td>1</td>\n",
       "      <td>0</td>\n",
       "      <td>0</td>\n",
       "      <td>0</td>\n",
       "      <td>0</td>\n",
       "      <td>0</td>\n",
       "      <td>...</td>\n",
       "      <td>0</td>\n",
       "      <td>0</td>\n",
       "      <td>0</td>\n",
       "      <td>0</td>\n",
       "      <td>0</td>\n",
       "      <td>0</td>\n",
       "      <td>0</td>\n",
       "      <td>0</td>\n",
       "      <td>0</td>\n",
       "      <td>0</td>\n",
       "    </tr>\n",
       "    <tr>\n",
       "      <th>54901</th>\n",
       "      <td>1</td>\n",
       "      <td>0</td>\n",
       "      <td>1</td>\n",
       "      <td>1</td>\n",
       "      <td>1</td>\n",
       "      <td>1</td>\n",
       "      <td>1</td>\n",
       "      <td>1</td>\n",
       "      <td>1</td>\n",
       "      <td>1</td>\n",
       "      <td>...</td>\n",
       "      <td>0</td>\n",
       "      <td>0</td>\n",
       "      <td>0</td>\n",
       "      <td>0</td>\n",
       "      <td>0</td>\n",
       "      <td>0</td>\n",
       "      <td>0</td>\n",
       "      <td>0</td>\n",
       "      <td>0</td>\n",
       "      <td>0</td>\n",
       "    </tr>\n",
       "    <tr>\n",
       "      <th>54902</th>\n",
       "      <td>1</td>\n",
       "      <td>0</td>\n",
       "      <td>0</td>\n",
       "      <td>1</td>\n",
       "      <td>0</td>\n",
       "      <td>0</td>\n",
       "      <td>0</td>\n",
       "      <td>1</td>\n",
       "      <td>0</td>\n",
       "      <td>0</td>\n",
       "      <td>...</td>\n",
       "      <td>0</td>\n",
       "      <td>0</td>\n",
       "      <td>0</td>\n",
       "      <td>0</td>\n",
       "      <td>0</td>\n",
       "      <td>0</td>\n",
       "      <td>0</td>\n",
       "      <td>0</td>\n",
       "      <td>0</td>\n",
       "      <td>0</td>\n",
       "    </tr>\n",
       "    <tr>\n",
       "      <th>54903</th>\n",
       "      <td>1</td>\n",
       "      <td>0</td>\n",
       "      <td>0</td>\n",
       "      <td>1</td>\n",
       "      <td>0</td>\n",
       "      <td>0</td>\n",
       "      <td>0</td>\n",
       "      <td>1</td>\n",
       "      <td>0</td>\n",
       "      <td>1</td>\n",
       "      <td>...</td>\n",
       "      <td>0</td>\n",
       "      <td>0</td>\n",
       "      <td>0</td>\n",
       "      <td>0</td>\n",
       "      <td>0</td>\n",
       "      <td>0</td>\n",
       "      <td>0</td>\n",
       "      <td>0</td>\n",
       "      <td>0</td>\n",
       "      <td>0</td>\n",
       "    </tr>\n",
       "    <tr>\n",
       "      <th>54904</th>\n",
       "      <td>1</td>\n",
       "      <td>0</td>\n",
       "      <td>1</td>\n",
       "      <td>1</td>\n",
       "      <td>1</td>\n",
       "      <td>1</td>\n",
       "      <td>1</td>\n",
       "      <td>1</td>\n",
       "      <td>1</td>\n",
       "      <td>1</td>\n",
       "      <td>...</td>\n",
       "      <td>0</td>\n",
       "      <td>0</td>\n",
       "      <td>0</td>\n",
       "      <td>0</td>\n",
       "      <td>0</td>\n",
       "      <td>0</td>\n",
       "      <td>0</td>\n",
       "      <td>0</td>\n",
       "      <td>0</td>\n",
       "      <td>0</td>\n",
       "    </tr>\n",
       "  </tbody>\n",
       "</table>\n",
       "<p>54905 rows × 141 columns</p>\n",
       "</div>"
      ],
      "text/plain": [
       "       0    5    7    8    13   15   16   17   18   19   ...  141  142  143  \\\n",
       "0        1    1    0    0    0    1    0    0    0    0  ...    0    0    0   \n",
       "1        1    0    1    1    1    1    1    1    0    0  ...    0    0    0   \n",
       "2        1    0    0    0    0    0    0    0    0    0  ...    0    0    0   \n",
       "3        1    1    1    0    0    0    1    1    1    1  ...    0    0    0   \n",
       "4        1    0    0    0    1    0    0    1    0    1  ...    0    0    0   \n",
       "...    ...  ...  ...  ...  ...  ...  ...  ...  ...  ...  ...  ...  ...  ...   \n",
       "54900    1    0    0    0    1    0    0    0    0    0  ...    0    0    0   \n",
       "54901    1    0    1    1    1    1    1    1    1    1  ...    0    0    0   \n",
       "54902    1    0    0    1    0    0    0    1    0    0  ...    0    0    0   \n",
       "54903    1    0    0    1    0    0    0    1    0    1  ...    0    0    0   \n",
       "54904    1    0    1    1    1    1    1    1    1    1  ...    0    0    0   \n",
       "\n",
       "       144  145  146  147  148  149  150  \n",
       "0        0    0    0    0    0    0    0  \n",
       "1        0    0    0    0    0    0    0  \n",
       "2        0    0    0    0    0    0    0  \n",
       "3        0    0    0    0    0    0    0  \n",
       "4        0    0    0    0    0    0    0  \n",
       "...    ...  ...  ...  ...  ...  ...  ...  \n",
       "54900    0    0    0    0    0    0    0  \n",
       "54901    0    0    0    0    0    0    0  \n",
       "54902    0    0    0    0    0    0    0  \n",
       "54903    0    0    0    0    0    0    0  \n",
       "54904    0    0    0    0    0    0    0  \n",
       "\n",
       "[54905 rows x 141 columns]"
      ]
     },
     "execution_count": 15,
     "metadata": {},
     "output_type": "execute_result"
    }
   ],
   "source": [
    "zero_one_mat=pd.DataFrame((proc.values > 0).astype(int), index=proc.index, columns=proc.columns)\n",
    "zero_one_mat"
   ]
  },
  {
   "cell_type": "code",
   "execution_count": 25,
   "metadata": {},
   "outputs": [],
   "source": [
    "import torch\n",
    "import torch.nn as nn\n",
    "import torch.nn.functional as F\n",
    "from torch.autograd import Variable\n",
    "import numpy as np"
   ]
  },
  {
   "cell_type": "code",
   "execution_count": 26,
   "metadata": {},
   "outputs": [],
   "source": [
    "class Encoder(nn.Module):\n",
    "    \"\"\"\n",
    "    Function to define SVAE encoder module\n",
    "    \"\"\"\n",
    "    def __init__(self, hyper_params):\n",
    "        super(Encoder, self).__init__()\n",
    "        self.linear1 = nn.Linear(\n",
    "            hyper_params['rnn_size'], hyper_params['hidden_size']\n",
    "        )\n",
    "        nn.init.xavier_normal(self.linear1.weight)\n",
    "        self.activation = nn.Tanh()\n",
    "\n",
    "    def forward(self, x):\n",
    "        x = self.linear1(x)\n",
    "        x = self.activation(x)\n",
    "        return x"
   ]
  },
  {
   "cell_type": "code",
   "execution_count": 27,
   "metadata": {},
   "outputs": [],
   "source": [
    "class Decoder(nn.Module):\n",
    "    \"\"\"\n",
    "    Function to define SVAE decoder module\n",
    "    \"\"\"\n",
    "    def __init__(self, hyper_params):\n",
    "        super(Decoder, self).__init__()\n",
    "        self.linear1 = nn.Linear(hyper_params['latent_size'], hyper_params['hidden_size'])\n",
    "        self.linear2 = nn.Linear(hyper_params['hidden_size'], hyper_params['total_items'])\n",
    "        nn.init.xavier_normal(self.linear1.weight)\n",
    "        nn.init.xavier_normal(self.linear2.weight)\n",
    "        self.activation = nn.Tanh()\n",
    "\n",
    "    def forward(self, x):\n",
    "        x = self.linear1(x)\n",
    "        x = self.activation(x)\n",
    "        x = self.linear2(x)\n",
    "        return x"
   ]
  },
  {
   "cell_type": "code",
   "execution_count": 28,
   "metadata": {},
   "outputs": [],
   "source": [
    "class Model(nn.Module):\n",
    "    \"\"\"\n",
    "    Function to build the SVAE model\n",
    "    \"\"\"\n",
    "    def __init__(self, hyper_params):\n",
    "        super(Model, self).__init__()\n",
    "        self.hyper_params = hyper_params\n",
    "\n",
    "        self.encoder = Encoder(hyper_params)\n",
    "        self.decoder = Decoder(hyper_params)\n",
    "\n",
    "        # Since we don't need padding, our vocabulary size will be \"hyper_params['total_items']\"\n",
    "        # and not \"hyper_params['total_items'] + 1\"\n",
    "        self.item_embed = nn.Embedding(hyper_params['total_items'], hyper_params['item_embed_size'])\n",
    "\n",
    "        self.gru = nn.GRU(\n",
    "            hyper_params['item_embed_size'], hyper_params['rnn_size'],\n",
    "            batch_first=True, num_layers=1\n",
    "        )\n",
    "\n",
    "        self.linear1 = nn.Linear(hyper_params['hidden_size'], 2 * hyper_params['latent_size'])\n",
    "        nn.init.xavier_normal(self.linear1.weight)\n",
    "\n",
    "        self.tanh = nn.Tanh()\n",
    "\n",
    "    def sample_latent(self, h_enc):\n",
    "        \"\"\"\n",
    "        Return the latent normal sample z ~ N(mu, sigma^2)\n",
    "        \"\"\"\n",
    "        temp_out = self.linear1(h_enc)\n",
    "\n",
    "        mu = temp_out[:, :self.hyper_params['latent_size']]\n",
    "        log_sigma = temp_out[:, self.hyper_params['latent_size']:]\n",
    "\n",
    "        sigma = torch.exp(log_sigma)\n",
    "        std_z = torch.from_numpy(np.random.normal(0, 1, size=sigma.size())).float()\n",
    "\n",
    "        self.z_mean = mu\n",
    "        self.z_log_sigma = log_sigma\n",
    "\n",
    "        return mu + sigma * Variable(std_z, requires_grad=False)  # Reparameterization trick\n",
    "\n",
    "    def forward(self, x):\n",
    "        \"\"\"\n",
    "        Function to do a forward pass\n",
    "        :param x: the input\n",
    "        \"\"\"\n",
    "        in_shape = x.shape  # [bsz x seq_len] = [1 x seq_len]\n",
    "        x = x.view(-1)  # [seq_len]\n",
    "\n",
    "        x = self.item_embed(x)  # [seq_len x embed_size]\n",
    "        x = x.view(in_shape[0], in_shape[1], -1)  # [1 x seq_len x embed_size]\n",
    "\n",
    "        rnn_out, _ = self.gru(x)  # [1 x seq_len x rnn_size]\n",
    "        rnn_out = rnn_out.view(in_shape[0] * in_shape[1], -1)  # [seq_len x rnn_size]\n",
    "\n",
    "        enc_out = self.encoder(rnn_out)  # [seq_len x hidden_size]\n",
    "        sampled_z = self.sample_latent(enc_out)  # [seq_len x latent_size]\n",
    "\n",
    "        dec_out = self.decoder(sampled_z)  # [seq_len x total_items]\n",
    "        dec_out = dec_out.view(in_shape[0], in_shape[1], -1)  # [1 x seq_len x total_items]\n",
    "\n",
    "        return dec_out, self.z_mean, self.z_log_sigma"
   ]
  },
  {
   "cell_type": "code",
   "execution_count": 29,
   "metadata": {},
   "outputs": [],
   "source": [
    "class VAELoss(torch.nn.Module):\n",
    "    \"\"\"\n",
    "    Function to calculate the VAE loss\n",
    "    \"\"\"\n",
    "    def __init__(self, hyper_params):\n",
    "        super(VAELoss, self).__init__()\n",
    "        self.hyper_params = hyper_params\n",
    "\n",
    "    def forward(self, decoder_output, mu_q, logvar_q, y_true_s, anneal):\n",
    "        # Calculate KL Divergence loss\n",
    "        kld = torch.mean(torch.sum(0.5 * (-logvar_q + torch.exp(logvar_q) + mu_q ** 2 - 1), -1))\n",
    "\n",
    "        # Calculate Likelihood\n",
    "        dec_shape = decoder_output.shape  # [batch_size x seq_len x total_items] = [1 x seq_len x total_items]\n",
    "\n",
    "        decoder_output = F.log_softmax(decoder_output, -1)\n",
    "        num_ones = float(torch.sum(y_true_s[0, 0]))\n",
    "\n",
    "        likelihood = torch.sum(\n",
    "            -1.0 * y_true_s.view(dec_shape[0] * dec_shape[1], -1) * \\\n",
    "            decoder_output.view(dec_shape[0] * dec_shape[1], -1)\n",
    "        ) / (float(self.hyper_params['batch_size']) * num_ones)\n",
    "\n",
    "        # Calculate the final VAE loss\n",
    "        final = (anneal * kld) + likelihood\n",
    "\n",
    "        return final"
   ]
  },
  {
   "cell_type": "code",
   "execution_count": 31,
   "metadata": {},
   "outputs": [
    {
     "name": "stderr",
     "output_type": "stream",
     "text": [
      "Unable to create process using 'C:\\Users\\Zhao Yunjie\\Documents\\Anaconda\\python.exe \"C:\\Users\\Zhao Yunjie\\Documents\\Anaconda\\Scripts\\pip-script.py\" install comet_ml'\n"
     ]
    },
    {
     "ename": "ModuleNotFoundError",
     "evalue": "No module named 'comet_ml'",
     "output_type": "error",
     "traceback": [
      "\u001b[1;31m---------------------------------------------------------------------------\u001b[0m",
      "\u001b[1;31mModuleNotFoundError\u001b[0m                       Traceback (most recent call last)",
      "\u001b[1;32mC:\\Users\\ZHAOYU~1\\AppData\\Local\\Temp/ipykernel_42336/3795263223.py\u001b[0m in \u001b[0;36m<module>\u001b[1;34m\u001b[0m\n\u001b[0;32m      1\u001b[0m \u001b[0mget_ipython\u001b[0m\u001b[1;33m(\u001b[0m\u001b[1;33m)\u001b[0m\u001b[1;33m.\u001b[0m\u001b[0msystem\u001b[0m\u001b[1;33m(\u001b[0m\u001b[1;34m'pip install comet_ml'\u001b[0m\u001b[1;33m)\u001b[0m\u001b[1;33m\u001b[0m\u001b[1;33m\u001b[0m\u001b[0m\n\u001b[1;32m----> 2\u001b[1;33m \u001b[1;32mfrom\u001b[0m \u001b[0mcomet_ml\u001b[0m \u001b[1;32mimport\u001b[0m \u001b[0mExperiment\u001b[0m\u001b[1;33m\u001b[0m\u001b[1;33m\u001b[0m\u001b[0m\n\u001b[0m\u001b[0;32m      3\u001b[0m \u001b[1;33m\u001b[0m\u001b[0m\n\u001b[0;32m      4\u001b[0m \u001b[1;31m# Import packages\u001b[0m\u001b[1;33m\u001b[0m\u001b[1;33m\u001b[0m\u001b[1;33m\u001b[0m\u001b[0m\n\u001b[0;32m      5\u001b[0m \u001b[1;32mimport\u001b[0m \u001b[0mos\u001b[0m\u001b[1;33m\u001b[0m\u001b[1;33m\u001b[0m\u001b[0m\n",
      "\u001b[1;31mModuleNotFoundError\u001b[0m: No module named 'comet_ml'"
     ]
    }
   ],
   "source": [
    "!pip install comet_ml\n",
    "from comet_ml import Experiment\n",
    "\n",
    "# Import packages\n",
    "import os\n",
    "import torch\n",
    "import datetime as dt\n",
    "import time\n",
    "import matplotlib.pyplot as plt"
   ]
  },
  {
   "cell_type": "code",
   "execution_count": 32,
   "metadata": {},
   "outputs": [
    {
     "ename": "NameError",
     "evalue": "name 'Experiment' is not defined",
     "output_type": "error",
     "traceback": [
      "\u001b[1;31m---------------------------------------------------------------------------\u001b[0m",
      "\u001b[1;31mNameError\u001b[0m                                 Traceback (most recent call last)",
      "\u001b[1;32mC:\\Users\\ZHAOYU~1\\AppData\\Local\\Temp/ipykernel_42336/1195957368.py\u001b[0m in \u001b[0;36m<module>\u001b[1;34m\u001b[0m\n\u001b[1;32m----> 1\u001b[1;33m \u001b[0mexperiment\u001b[0m \u001b[1;33m=\u001b[0m \u001b[0mExperiment\u001b[0m\u001b[1;33m(\u001b[0m\u001b[0mapi_key\u001b[0m\u001b[1;33m=\u001b[0m\u001b[1;34m\"GaicgDHvizDRCbpq2wVV8NHnX\"\u001b[0m\u001b[1;33m,\u001b[0m \u001b[0mproject_name\u001b[0m\u001b[1;33m=\u001b[0m\u001b[1;34m\"autoencoders-movielens1M\"\u001b[0m\u001b[1;33m)\u001b[0m\u001b[1;33m\u001b[0m\u001b[1;33m\u001b[0m\u001b[0m\n\u001b[0m\u001b[0;32m      2\u001b[0m \u001b[1;33m\u001b[0m\u001b[0m\n\u001b[0;32m      3\u001b[0m \u001b[1;31m# Dictionary to store model hyper-parameters\u001b[0m\u001b[1;33m\u001b[0m\u001b[1;33m\u001b[0m\u001b[1;33m\u001b[0m\u001b[0m\n\u001b[0;32m      4\u001b[0m hyper_params = {\n\u001b[0;32m      5\u001b[0m     \u001b[1;34m'project_name'\u001b[0m\u001b[1;33m:\u001b[0m \u001b[1;34m'svae_ml1m'\u001b[0m\u001b[1;33m,\u001b[0m  \u001b[1;31m# Project name\u001b[0m\u001b[1;33m\u001b[0m\u001b[1;33m\u001b[0m\u001b[0m\n",
      "\u001b[1;31mNameError\u001b[0m: name 'Experiment' is not defined"
     ]
    }
   ],
   "source": [
    "experiment = Experiment(api_key=\"GaicgDHvizDRCbpq2wVV8NHnX\", project_name=\"autoencoders-movielens1M\")\n",
    "\n",
    "# Dictionary to store model hyper-parameters\n",
    "hyper_params = {\n",
    "    'project_name': 'svae_ml1m',  # Project name\n",
    "    'model_file_name': '',  # Model file name\n",
    "    'log_file': '',  # Log file name\n",
    "    'history_split_test': [0.8, 0.2],  # Part of test history to train on : Part of test history to test\n",
    "    'learning_rate': 0.01,  # Choice of learning rate (required only if optimizer is AdaGrad)\n",
    "    'optimizer': 'adam',  # Choice of optimizer defaulted to Adam\n",
    "    'weight_decay': float(5e-3),  # Choice of weight decay defaulted to 0.005\n",
    "    'epochs': 50,  # Number of epochs\n",
    "    'batch_size': 1,  # Needs to be 1, because we don't pack multiple sequences in the same batch\n",
    "    'item_embed_size': 256,  # Item embedding layer of size 256\n",
    "    'rnn_size': 200,  # Recurrent layer realized as a GRU with 200 cells\n",
    "    'hidden_size': 150,  # Encoding layer of size 150\n",
    "    'latent_size': 64,  # Number of latent factors set to 64\n",
    "    'loss_type': 'next_k',  # [predict_next, same, prefix, postfix, exp_decay, next_k]\n",
    "    'next_k': 4,  # Size for the number of items forward in time to predict on\n",
    "    'number_users_to_keep': 1000000000,  # Number of held-out users for evaluation purpose\n",
    "    'batch_log_interval': 1000,  # Log metrics after this number of batches\n",
    "    'train_cp_users': 200,\n",
    "    'exploding_clip': 0.25,  # Exploding gradient clipping\n",
    "}\n",
    "\n",
    "# Log model hyper-parameters\n",
    "experiment.log_parameters(hyper_params)"
   ]
  },
  {
   "cell_type": "code",
   "execution_count": null,
   "metadata": {},
   "outputs": [],
   "source": [
    "file_name = '_optimizer_' + str(hyper_params['optimizer'])\n",
    "if hyper_params['optimizer'] == 'adagrad':\n",
    "    file_name += '_lr_' + str(hyper_params['learning_rate'])\n",
    "file_name += '_weight_decay_' + str(hyper_params['weight_decay'])\n",
    "file_name += '_loss_type_' + str(hyper_params['loss_type'])\n",
    "file_name += '_item_embed_size_' + str(hyper_params['item_embed_size'])\n",
    "file_name += '_rnn_size_' + str(hyper_params['rnn_size'])\n",
    "file_name += '_latent_size_' + str(hyper_params['latent_size'])\n",
    "\n",
    "# Path to store the log file and the model file\n",
    "log_file_root = \"saved_logs/\"\n",
    "model_file_root = \"saved_models/\"\n",
    "if not os.path.isdir(log_file_root):\n",
    "    os.mkdir(log_file_root)\n",
    "if not os.path.isdir(model_file_root):\n",
    "    os.mkdir(model_file_root)\n",
    "hyper_params['log_file'] = log_file_root + hyper_params['project_name'] + '_log' + file_name + '.txt'\n",
    "hyper_params['model_file_name'] = model_file_root + hyper_params['project_name'] + '_model' + file_name + '.pt'\n"
   ]
  },
  {
   "cell_type": "code",
   "execution_count": null,
   "metadata": {},
   "outputs": [],
   "source": [
    "train_reader, val_reader, test_reader, total_items = load_data(hyper_params)\n",
    "hyper_params['total_items'] = total_items\n",
    "hyper_params['testing_batch_limit'] = test_reader.num_b\n",
    "\n",
    "file_write(hyper_params['log_file'], \"\\n\\nSimulation run on: \" + str(dt.datetime.now()) + \"\\n\\n\")\n",
    "file_write(hyper_params['log_file'], \"Data reading complete!\")\n",
    "file_write(hyper_params['log_file'], \"Number of train batches: {:4d}\".format(train_reader.num_b))\n",
    "file_write(hyper_params['log_file'], \"Number of validation batches: {:4d}\".format(val_reader.num_b))\n",
    "file_write(hyper_params['log_file'], \"Number of test batches: {:4d}\".format(test_reader.num_b))\n",
    "file_write(hyper_params['log_file'], \"Total Items: \" + str(total_items) + \"\\n\")"
   ]
  },
  {
   "cell_type": "code",
   "execution_count": null,
   "metadata": {},
   "outputs": [],
   "source": [
    "model = Model(hyper_params)\n",
    "# Loss function is the VAE loss\n",
    "criterion = VAELoss(hyper_params)\n",
    "\n",
    "# Different options for the optimizer\n",
    "if hyper_params['optimizer'] == 'adagrad':\n",
    "    # AdaGrad\n",
    "    optimizer = torch.optim.Adagrad(\n",
    "        model.parameters(), weight_decay=hyper_params['weight_decay'], lr=hyper_params['learning_rate']\n",
    "    )\n",
    "elif hyper_params['optimizer'] == 'adadelta':\n",
    "    # AdaDelta\n",
    "    optimizer = torch.optim.Adadelta(\n",
    "        model.parameters(), weight_decay=hyper_params['weight_decay']\n",
    "    )\n",
    "elif hyper_params['optimizer'] == 'adam':\n",
    "    # Adam\n",
    "    optimizer = torch.optim.Adam(\n",
    "        model.parameters(), weight_decay=hyper_params['weight_decay']\n",
    "    )\n",
    "elif hyper_params['optimizer'] == 'rmsprop':\n",
    "    # RMSProp\n",
    "    optimizer = torch.optim.RMSprop(\n",
    "        model.parameters(), weight_decay=hyper_params['weight_decay']\n",
    "    )\n",
    "file_write(hyper_params['log_file'], str(model))\n",
    "file_write(hyper_params['log_file'], \"\\nModel Built!\\nStarting Training...\\n\")\n",
    "\n",
    "best_val_ndcg = None"
   ]
  },
  {
   "cell_type": "code",
   "execution_count": null,
   "metadata": {},
   "outputs": [],
   "source": [
    "try:\n",
    "    for epoch in range(1, hyper_params['epochs'] + 1):\n",
    "        # Keep track the time for every epoch\n",
    "        epoch_start_time = time.time()\n",
    "\n",
    "        # Perform training\n",
    "        train(model, criterion, train_reader, optimizer, epoch, hyper_params, experiment)\n",
    "\n",
    "        # Calculate the metrics on the train set\n",
    "        metrics, _ = evaluate(model, criterion, train_reader, hyper_params, True, experiment)\n",
    "\n",
    "        string = \"\"\n",
    "        for m in metrics:\n",
    "            string += \" | \" + m + ' = ' + str(metrics[m])\n",
    "        string += ' (TRAIN)'\n",
    "\n",
    "        # Calculate the metrics on the validation set\n",
    "        metrics, _ = evaluate(model, criterion, val_reader, hyper_params, False, experiment)\n",
    "\n",
    "        string2 = \"\"\n",
    "        for m in metrics:\n",
    "            string2 += \" | \" + m + ' = ' + str(metrics[m])\n",
    "        string2 += ' (VAL)'\n",
    "\n",
    "        ss = '-' * 89\n",
    "        ss += '\\n| end of epoch {:3d} | time: {:5.2f}s'.format(epoch, (time.time() - epoch_start_time))\n",
    "        ss += string\n",
    "        ss += '\\n'\n",
    "        ss += '-' * 89\n",
    "        ss += '\\n| end of epoch {:3d} | time: {:5.2f}s'.format(epoch, (time.time() - epoch_start_time))\n",
    "        ss += string2\n",
    "        ss += '\\n'\n",
    "        ss += '-' * 89\n",
    "        file_write(hyper_params['log_file'], ss)\n",
    "\n",
    "        # Log the best NDCG@100 metric on the validation set\n",
    "        if not best_val_ndcg or metrics['NDCG@100'] >= best_val_ndcg:\n",
    "            with open(hyper_params['model_file_name'], 'wb') as f:\n",
    "                torch.save(model, f)\n",
    "            best_val_ndcg = metrics['NDCG@100']\n",
    "\n",
    "except KeyboardInterrupt:\n",
    "    print('Exiting from training early')"
   ]
  },
  {
   "cell_type": "code",
   "execution_count": null,
   "metadata": {},
   "outputs": [],
   "source": [
    "f = open(model.hyper_params['log_file'])\n",
    "lines = f.readlines()\n",
    "lines.reverse()\n",
    "\n",
    "train = []\n",
    "test = []\n",
    "\n",
    "for line in lines:\n",
    "    if line[:10] == 'Simulation' and len(train) > 1:\n",
    "        break\n",
    "    elif line[:10] == 'Simulation' and len(train) <= 1:\n",
    "        train, test = [], []\n",
    "\n",
    "    if line[2:5] == 'end' and line[-5:-2] == 'VAL':\n",
    "        test.append(line.strip().split(\"|\"))\n",
    "    elif line[2:5] == 'end' and line[-7:-2] == 'TRAIN':\n",
    "        train.append(line.strip().split(\"|\"))\n"
   ]
  },
  {
   "cell_type": "code",
   "execution_count": null,
   "metadata": {},
   "outputs": [],
   "source": [
    "train.reverse()\n",
    "test.reverse()\n",
    "\n",
    "train_ndcg = []\n",
    "test_ndcg = []\n",
    "test_loss, train_loss = [], []\n",
    "\n",
    "for i in train:\n",
    "    for metric in i:\n",
    "        if metric.split(\"=\")[0] == \" NDCG@100 \":\n",
    "            train_ndcg.append(float(metric.split('=')[1].split(' ')[1]))\n",
    "        if metric.split(\"=\")[0] == \" loss \":\n",
    "            train_loss.append(float(metric.split(\"=\")[1].split(' ')[1]))\n",
    "\n",
    "total, avg_runtime = 0.0, 0.0\n",
    "\n",
    "for i in test:\n",
    "    avg_runtime += float(i[2].split(\" \")[2][:-1])\n",
    "    total += 1.0\n",
    "\n",
    "    for metric in i:\n",
    "        if metric.split(\"=\")[0] == \" NDCG@100 \":\n",
    "            test_ndcg.append(float(metric.split('=')[1].split(' ')[1]))\n",
    "        if metric.split(\"=\")[0] == \" loss \":\n",
    "            test_loss.append(float(metric.split(\"=\")[1].split(' ')[1]))\n"
   ]
  },
  {
   "cell_type": "code",
   "execution_count": null,
   "metadata": {},
   "outputs": [],
   "source": [
    "fig, ax1 = plt.subplots(figsize=(12, 5))\n",
    "ax1.set_title(hyper_params[\"project_name\"], fontweight=\"bold\", size=20)\n",
    "ax1.plot(test_ndcg, 'b-')\n",
    "ax1.set_xlabel('Epochs', fontsize=20.0)\n",
    "ax1.set_ylabel('NDCG@100', color='b', fontsize=20.0)\n",
    "ax1.tick_params('y', colors='b')\n",
    "\n",
    "ax2 = ax1.twinx()\n",
    "ax2.plot(test_loss, 'r--')\n",
    "ax2.set_ylabel('Loss', color='r')\n",
    "ax2.tick_params('y', colors='r')\n",
    "\n",
    "fig.tight_layout()\n",
    "if not os.path.isdir(\"saved_plots/\"):\n",
    "    os.mkdir(\"saved_plots/\")\n",
    "fig.savefig(\"saved_plots/learning_curve_\" + hyper_params[\"project_name\"] + \".png\")\n",
    "plt.show()\n",
    "\n",
    "# Log figure\n",
    "experiment.log_figure(figure=plt)\n"
   ]
  },
  {
   "cell_type": "code",
   "execution_count": null,
   "metadata": {},
   "outputs": [],
   "source": [
    "with open(hyper_params['model_file_name'], 'rb') as f:\n",
    "    model = torch.load(f)\n",
    "\n",
    "# Calculate the metrics on the test set\n",
    "metrics, len_to_ndcg_at_100_map = evaluate(model, criterion, test_reader, hyper_params, False, experiment)\n",
    "\n",
    "# Plot sequence length vs NDCG@100 graph\n",
    "plot_len_vs_ndcg(len_to_ndcg_at_100_map, experiment)\n",
    "\n",
    "string = \"\"\n",
    "for m in metrics:\n",
    "    string += \" | \" + m + ' = ' + str(metrics[m])\n",
    "\n",
    "ss = '=' * 89\n",
    "ss += '\\n| End of training'\n",
    "ss += string + \" (TEST)\"\n",
    "ss += '\\n'\n",
    "ss += '=' * 89\n",
    "file_write(hyper_params['log_file'], ss)\n",
    "print(\"average runtime per epoch =\", round(avg_runtime / float(total), 4), \"s\")"
   ]
  },
  {
   "cell_type": "code",
   "execution_count": 16,
   "metadata": {
    "colab": {
     "base_uri": "https://localhost:8080/"
    },
    "id": "Jn1SfGT93Lws",
    "outputId": "dc9c23ea-a821-4e61-bcba-2d3797d59fa1"
   },
   "outputs": [
    {
     "data": {
      "text/plain": [
       "0        44\n",
       "1        25\n",
       "2         4\n",
       "3        75\n",
       "4        11\n",
       "         ..\n",
       "54900     6\n",
       "54901     9\n",
       "54902     9\n",
       "54903     4\n",
       "54904    13\n",
       "Length: 54905, dtype: int64"
      ]
     },
     "execution_count": 16,
     "metadata": {},
     "output_type": "execute_result"
    }
   ],
   "source": [
    "zero_one_mat.sum(axis=1)"
   ]
  },
  {
   "cell_type": "code",
   "execution_count": 17,
   "metadata": {
    "colab": {
     "base_uri": "https://localhost:8080/"
    },
    "id": "J3zDCwlG5Lei",
    "outputId": "90d9049c-d4a2-4fee-8e93-b380676837b6"
   },
   "outputs": [
    {
     "data": {
      "text/plain": [
       "(1, 7260)"
      ]
     },
     "execution_count": 17,
     "metadata": {},
     "output_type": "execute_result"
    }
   ],
   "source": [
    "np.array(np.where(zero_one_mat.sum(axis=1) <5)).shape"
   ]
  },
  {
   "cell_type": "code",
   "execution_count": 18,
   "metadata": {
    "colab": {
     "base_uri": "https://localhost:8080/",
     "height": 424
    },
    "id": "RvNLuA815Lgz",
    "outputId": "ae466289-1607-457d-a4a2-f764f614dd39"
   },
   "outputs": [
    {
     "data": {
      "text/html": [
       "<div>\n",
       "<style scoped>\n",
       "    .dataframe tbody tr th:only-of-type {\n",
       "        vertical-align: middle;\n",
       "    }\n",
       "\n",
       "    .dataframe tbody tr th {\n",
       "        vertical-align: top;\n",
       "    }\n",
       "\n",
       "    .dataframe thead th {\n",
       "        text-align: right;\n",
       "    }\n",
       "</style>\n",
       "<table border=\"1\" class=\"dataframe\">\n",
       "  <thead>\n",
       "    <tr style=\"text-align: right;\">\n",
       "      <th></th>\n",
       "      <th>0</th>\n",
       "      <th>5</th>\n",
       "      <th>7</th>\n",
       "      <th>8</th>\n",
       "      <th>13</th>\n",
       "      <th>15</th>\n",
       "      <th>16</th>\n",
       "      <th>17</th>\n",
       "      <th>18</th>\n",
       "      <th>19</th>\n",
       "      <th>...</th>\n",
       "      <th>141</th>\n",
       "      <th>142</th>\n",
       "      <th>143</th>\n",
       "      <th>144</th>\n",
       "      <th>145</th>\n",
       "      <th>146</th>\n",
       "      <th>147</th>\n",
       "      <th>148</th>\n",
       "      <th>149</th>\n",
       "      <th>150</th>\n",
       "    </tr>\n",
       "  </thead>\n",
       "  <tbody>\n",
       "    <tr>\n",
       "      <th>0</th>\n",
       "      <td>1</td>\n",
       "      <td>1</td>\n",
       "      <td>0</td>\n",
       "      <td>0</td>\n",
       "      <td>0</td>\n",
       "      <td>1</td>\n",
       "      <td>0</td>\n",
       "      <td>0</td>\n",
       "      <td>0</td>\n",
       "      <td>0</td>\n",
       "      <td>...</td>\n",
       "      <td>0</td>\n",
       "      <td>0</td>\n",
       "      <td>0</td>\n",
       "      <td>0</td>\n",
       "      <td>0</td>\n",
       "      <td>0</td>\n",
       "      <td>0</td>\n",
       "      <td>0</td>\n",
       "      <td>0</td>\n",
       "      <td>0</td>\n",
       "    </tr>\n",
       "    <tr>\n",
       "      <th>1</th>\n",
       "      <td>1</td>\n",
       "      <td>0</td>\n",
       "      <td>1</td>\n",
       "      <td>1</td>\n",
       "      <td>1</td>\n",
       "      <td>1</td>\n",
       "      <td>1</td>\n",
       "      <td>1</td>\n",
       "      <td>0</td>\n",
       "      <td>0</td>\n",
       "      <td>...</td>\n",
       "      <td>0</td>\n",
       "      <td>0</td>\n",
       "      <td>0</td>\n",
       "      <td>0</td>\n",
       "      <td>0</td>\n",
       "      <td>0</td>\n",
       "      <td>0</td>\n",
       "      <td>0</td>\n",
       "      <td>0</td>\n",
       "      <td>0</td>\n",
       "    </tr>\n",
       "    <tr>\n",
       "      <th>3</th>\n",
       "      <td>1</td>\n",
       "      <td>1</td>\n",
       "      <td>1</td>\n",
       "      <td>0</td>\n",
       "      <td>0</td>\n",
       "      <td>0</td>\n",
       "      <td>1</td>\n",
       "      <td>1</td>\n",
       "      <td>1</td>\n",
       "      <td>1</td>\n",
       "      <td>...</td>\n",
       "      <td>0</td>\n",
       "      <td>0</td>\n",
       "      <td>0</td>\n",
       "      <td>0</td>\n",
       "      <td>0</td>\n",
       "      <td>0</td>\n",
       "      <td>0</td>\n",
       "      <td>0</td>\n",
       "      <td>0</td>\n",
       "      <td>0</td>\n",
       "    </tr>\n",
       "    <tr>\n",
       "      <th>4</th>\n",
       "      <td>1</td>\n",
       "      <td>0</td>\n",
       "      <td>0</td>\n",
       "      <td>0</td>\n",
       "      <td>1</td>\n",
       "      <td>0</td>\n",
       "      <td>0</td>\n",
       "      <td>1</td>\n",
       "      <td>0</td>\n",
       "      <td>1</td>\n",
       "      <td>...</td>\n",
       "      <td>0</td>\n",
       "      <td>0</td>\n",
       "      <td>0</td>\n",
       "      <td>0</td>\n",
       "      <td>0</td>\n",
       "      <td>0</td>\n",
       "      <td>0</td>\n",
       "      <td>0</td>\n",
       "      <td>0</td>\n",
       "      <td>0</td>\n",
       "    </tr>\n",
       "    <tr>\n",
       "      <th>5</th>\n",
       "      <td>1</td>\n",
       "      <td>0</td>\n",
       "      <td>0</td>\n",
       "      <td>0</td>\n",
       "      <td>0</td>\n",
       "      <td>1</td>\n",
       "      <td>1</td>\n",
       "      <td>1</td>\n",
       "      <td>1</td>\n",
       "      <td>1</td>\n",
       "      <td>...</td>\n",
       "      <td>0</td>\n",
       "      <td>0</td>\n",
       "      <td>0</td>\n",
       "      <td>0</td>\n",
       "      <td>0</td>\n",
       "      <td>0</td>\n",
       "      <td>0</td>\n",
       "      <td>0</td>\n",
       "      <td>0</td>\n",
       "      <td>0</td>\n",
       "    </tr>\n",
       "    <tr>\n",
       "      <th>...</th>\n",
       "      <td>...</td>\n",
       "      <td>...</td>\n",
       "      <td>...</td>\n",
       "      <td>...</td>\n",
       "      <td>...</td>\n",
       "      <td>...</td>\n",
       "      <td>...</td>\n",
       "      <td>...</td>\n",
       "      <td>...</td>\n",
       "      <td>...</td>\n",
       "      <td>...</td>\n",
       "      <td>...</td>\n",
       "      <td>...</td>\n",
       "      <td>...</td>\n",
       "      <td>...</td>\n",
       "      <td>...</td>\n",
       "      <td>...</td>\n",
       "      <td>...</td>\n",
       "      <td>...</td>\n",
       "      <td>...</td>\n",
       "      <td>...</td>\n",
       "    </tr>\n",
       "    <tr>\n",
       "      <th>54899</th>\n",
       "      <td>1</td>\n",
       "      <td>0</td>\n",
       "      <td>1</td>\n",
       "      <td>0</td>\n",
       "      <td>0</td>\n",
       "      <td>1</td>\n",
       "      <td>0</td>\n",
       "      <td>1</td>\n",
       "      <td>0</td>\n",
       "      <td>0</td>\n",
       "      <td>...</td>\n",
       "      <td>0</td>\n",
       "      <td>0</td>\n",
       "      <td>0</td>\n",
       "      <td>0</td>\n",
       "      <td>0</td>\n",
       "      <td>0</td>\n",
       "      <td>0</td>\n",
       "      <td>0</td>\n",
       "      <td>0</td>\n",
       "      <td>0</td>\n",
       "    </tr>\n",
       "    <tr>\n",
       "      <th>54900</th>\n",
       "      <td>1</td>\n",
       "      <td>0</td>\n",
       "      <td>0</td>\n",
       "      <td>0</td>\n",
       "      <td>1</td>\n",
       "      <td>0</td>\n",
       "      <td>0</td>\n",
       "      <td>0</td>\n",
       "      <td>0</td>\n",
       "      <td>0</td>\n",
       "      <td>...</td>\n",
       "      <td>0</td>\n",
       "      <td>0</td>\n",
       "      <td>0</td>\n",
       "      <td>0</td>\n",
       "      <td>0</td>\n",
       "      <td>0</td>\n",
       "      <td>0</td>\n",
       "      <td>0</td>\n",
       "      <td>0</td>\n",
       "      <td>0</td>\n",
       "    </tr>\n",
       "    <tr>\n",
       "      <th>54901</th>\n",
       "      <td>1</td>\n",
       "      <td>0</td>\n",
       "      <td>1</td>\n",
       "      <td>1</td>\n",
       "      <td>1</td>\n",
       "      <td>1</td>\n",
       "      <td>1</td>\n",
       "      <td>1</td>\n",
       "      <td>1</td>\n",
       "      <td>1</td>\n",
       "      <td>...</td>\n",
       "      <td>0</td>\n",
       "      <td>0</td>\n",
       "      <td>0</td>\n",
       "      <td>0</td>\n",
       "      <td>0</td>\n",
       "      <td>0</td>\n",
       "      <td>0</td>\n",
       "      <td>0</td>\n",
       "      <td>0</td>\n",
       "      <td>0</td>\n",
       "    </tr>\n",
       "    <tr>\n",
       "      <th>54902</th>\n",
       "      <td>1</td>\n",
       "      <td>0</td>\n",
       "      <td>0</td>\n",
       "      <td>1</td>\n",
       "      <td>0</td>\n",
       "      <td>0</td>\n",
       "      <td>0</td>\n",
       "      <td>1</td>\n",
       "      <td>0</td>\n",
       "      <td>0</td>\n",
       "      <td>...</td>\n",
       "      <td>0</td>\n",
       "      <td>0</td>\n",
       "      <td>0</td>\n",
       "      <td>0</td>\n",
       "      <td>0</td>\n",
       "      <td>0</td>\n",
       "      <td>0</td>\n",
       "      <td>0</td>\n",
       "      <td>0</td>\n",
       "      <td>0</td>\n",
       "    </tr>\n",
       "    <tr>\n",
       "      <th>54904</th>\n",
       "      <td>1</td>\n",
       "      <td>0</td>\n",
       "      <td>1</td>\n",
       "      <td>1</td>\n",
       "      <td>1</td>\n",
       "      <td>1</td>\n",
       "      <td>1</td>\n",
       "      <td>1</td>\n",
       "      <td>1</td>\n",
       "      <td>1</td>\n",
       "      <td>...</td>\n",
       "      <td>0</td>\n",
       "      <td>0</td>\n",
       "      <td>0</td>\n",
       "      <td>0</td>\n",
       "      <td>0</td>\n",
       "      <td>0</td>\n",
       "      <td>0</td>\n",
       "      <td>0</td>\n",
       "      <td>0</td>\n",
       "      <td>0</td>\n",
       "    </tr>\n",
       "  </tbody>\n",
       "</table>\n",
       "<p>47645 rows × 141 columns</p>\n",
       "</div>"
      ],
      "text/plain": [
       "       0    5    7    8    13   15   16   17   18   19   ...  141  142  143  \\\n",
       "0        1    1    0    0    0    1    0    0    0    0  ...    0    0    0   \n",
       "1        1    0    1    1    1    1    1    1    0    0  ...    0    0    0   \n",
       "3        1    1    1    0    0    0    1    1    1    1  ...    0    0    0   \n",
       "4        1    0    0    0    1    0    0    1    0    1  ...    0    0    0   \n",
       "5        1    0    0    0    0    1    1    1    1    1  ...    0    0    0   \n",
       "...    ...  ...  ...  ...  ...  ...  ...  ...  ...  ...  ...  ...  ...  ...   \n",
       "54899    1    0    1    0    0    1    0    1    0    0  ...    0    0    0   \n",
       "54900    1    0    0    0    1    0    0    0    0    0  ...    0    0    0   \n",
       "54901    1    0    1    1    1    1    1    1    1    1  ...    0    0    0   \n",
       "54902    1    0    0    1    0    0    0    1    0    0  ...    0    0    0   \n",
       "54904    1    0    1    1    1    1    1    1    1    1  ...    0    0    0   \n",
       "\n",
       "       144  145  146  147  148  149  150  \n",
       "0        0    0    0    0    0    0    0  \n",
       "1        0    0    0    0    0    0    0  \n",
       "3        0    0    0    0    0    0    0  \n",
       "4        0    0    0    0    0    0    0  \n",
       "5        0    0    0    0    0    0    0  \n",
       "...    ...  ...  ...  ...  ...  ...  ...  \n",
       "54899    0    0    0    0    0    0    0  \n",
       "54900    0    0    0    0    0    0    0  \n",
       "54901    0    0    0    0    0    0    0  \n",
       "54902    0    0    0    0    0    0    0  \n",
       "54904    0    0    0    0    0    0    0  \n",
       "\n",
       "[47645 rows x 141 columns]"
      ]
     },
     "execution_count": 18,
     "metadata": {},
     "output_type": "execute_result"
    }
   ],
   "source": [
    "zero_one_mat=zero_one_mat.iloc[np.where(zero_one_mat.sum(axis=1) >4)]\n",
    "zero_one_mat # matrix only having users rated >4 jokes"
   ]
  },
  {
   "cell_type": "code",
   "execution_count": 19,
   "metadata": {
    "id": "EqY2Q0pr6bam"
   },
   "outputs": [],
   "source": [
    "zero_one_mat.to_pickle('zero_one_mat_filtered.pkl')"
   ]
  },
  {
   "cell_type": "code",
   "execution_count": 20,
   "metadata": {
    "id": "DRTLSntV6sMQ"
   },
   "outputs": [],
   "source": [
    "good_users_list=zero_one_mat.index"
   ]
  },
  {
   "cell_type": "code",
   "execution_count": 21,
   "metadata": {
    "colab": {
     "base_uri": "https://localhost:8080/"
    },
    "id": "CnRSeuCr7ECD",
    "outputId": "a318f570-ab46-4b2e-9625-59ab656f4790"
   },
   "outputs": [
    {
     "data": {
      "text/plain": [
       "Int64Index([    0,     1,     3,     4,     5,     6,     7,     8,     9,\n",
       "               10,\n",
       "            ...\n",
       "            54893, 54894, 54895, 54896, 54897, 54899, 54900, 54901, 54902,\n",
       "            54904],\n",
       "           dtype='int64', length=47645)"
      ]
     },
     "execution_count": 21,
     "metadata": {},
     "output_type": "execute_result"
    }
   ],
   "source": [
    "good_users_list"
   ]
  },
  {
   "cell_type": "code",
   "execution_count": 22,
   "metadata": {
    "colab": {
     "base_uri": "https://localhost:8080/",
     "height": 424
    },
    "id": "jAFeO_Ol6z8b",
    "outputId": "2e6a2480-065b-40eb-96b4-a8c642c2a9a5"
   },
   "outputs": [
    {
     "data": {
      "text/html": [
       "<div>\n",
       "<style scoped>\n",
       "    .dataframe tbody tr th:only-of-type {\n",
       "        vertical-align: middle;\n",
       "    }\n",
       "\n",
       "    .dataframe tbody tr th {\n",
       "        vertical-align: top;\n",
       "    }\n",
       "\n",
       "    .dataframe thead th {\n",
       "        text-align: right;\n",
       "    }\n",
       "</style>\n",
       "<table border=\"1\" class=\"dataframe\">\n",
       "  <thead>\n",
       "    <tr style=\"text-align: right;\">\n",
       "      <th></th>\n",
       "      <th>0</th>\n",
       "      <th>5</th>\n",
       "      <th>7</th>\n",
       "      <th>8</th>\n",
       "      <th>13</th>\n",
       "      <th>15</th>\n",
       "      <th>16</th>\n",
       "      <th>17</th>\n",
       "      <th>18</th>\n",
       "      <th>19</th>\n",
       "      <th>...</th>\n",
       "      <th>141</th>\n",
       "      <th>142</th>\n",
       "      <th>143</th>\n",
       "      <th>144</th>\n",
       "      <th>145</th>\n",
       "      <th>146</th>\n",
       "      <th>147</th>\n",
       "      <th>148</th>\n",
       "      <th>149</th>\n",
       "      <th>150</th>\n",
       "    </tr>\n",
       "  </thead>\n",
       "  <tbody>\n",
       "    <tr>\n",
       "      <th>0</th>\n",
       "      <td>62.0</td>\n",
       "      <td>0.21875</td>\n",
       "      <td>-9.28125</td>\n",
       "      <td>-9.28125</td>\n",
       "      <td>-6.78125</td>\n",
       "      <td>0.87500</td>\n",
       "      <td>-9.65625</td>\n",
       "      <td>-9.03125</td>\n",
       "      <td>-7.46875</td>\n",
       "      <td>-8.71875</td>\n",
       "      <td>...</td>\n",
       "      <td>NaN</td>\n",
       "      <td>NaN</td>\n",
       "      <td>NaN</td>\n",
       "      <td>NaN</td>\n",
       "      <td>NaN</td>\n",
       "      <td>NaN</td>\n",
       "      <td>NaN</td>\n",
       "      <td>NaN</td>\n",
       "      <td>NaN</td>\n",
       "      <td>NaN</td>\n",
       "    </tr>\n",
       "    <tr>\n",
       "      <th>1</th>\n",
       "      <td>34.0</td>\n",
       "      <td>-9.68750</td>\n",
       "      <td>9.93750</td>\n",
       "      <td>9.53125</td>\n",
       "      <td>9.93750</td>\n",
       "      <td>0.40625</td>\n",
       "      <td>3.71875</td>\n",
       "      <td>9.65625</td>\n",
       "      <td>-2.68750</td>\n",
       "      <td>-9.56250</td>\n",
       "      <td>...</td>\n",
       "      <td>NaN</td>\n",
       "      <td>NaN</td>\n",
       "      <td>NaN</td>\n",
       "      <td>NaN</td>\n",
       "      <td>NaN</td>\n",
       "      <td>NaN</td>\n",
       "      <td>NaN</td>\n",
       "      <td>NaN</td>\n",
       "      <td>NaN</td>\n",
       "      <td>NaN</td>\n",
       "    </tr>\n",
       "    <tr>\n",
       "      <th>3</th>\n",
       "      <td>82.0</td>\n",
       "      <td>6.90625</td>\n",
       "      <td>4.75000</td>\n",
       "      <td>-5.90625</td>\n",
       "      <td>-0.40625</td>\n",
       "      <td>-4.03125</td>\n",
       "      <td>3.87500</td>\n",
       "      <td>6.21875</td>\n",
       "      <td>5.65625</td>\n",
       "      <td>6.09375</td>\n",
       "      <td>...</td>\n",
       "      <td>NaN</td>\n",
       "      <td>NaN</td>\n",
       "      <td>NaN</td>\n",
       "      <td>NaN</td>\n",
       "      <td>NaN</td>\n",
       "      <td>NaN</td>\n",
       "      <td>NaN</td>\n",
       "      <td>NaN</td>\n",
       "      <td>NaN</td>\n",
       "      <td>NaN</td>\n",
       "    </tr>\n",
       "    <tr>\n",
       "      <th>4</th>\n",
       "      <td>27.0</td>\n",
       "      <td>-0.03125</td>\n",
       "      <td>-9.09375</td>\n",
       "      <td>-0.40625</td>\n",
       "      <td>7.50000</td>\n",
       "      <td>-7.21875</td>\n",
       "      <td>-9.43750</td>\n",
       "      <td>0.12500</td>\n",
       "      <td>-9.15625</td>\n",
       "      <td>3.65625</td>\n",
       "      <td>...</td>\n",
       "      <td>NaN</td>\n",
       "      <td>NaN</td>\n",
       "      <td>NaN</td>\n",
       "      <td>NaN</td>\n",
       "      <td>NaN</td>\n",
       "      <td>NaN</td>\n",
       "      <td>NaN</td>\n",
       "      <td>NaN</td>\n",
       "      <td>NaN</td>\n",
       "      <td>NaN</td>\n",
       "    </tr>\n",
       "    <tr>\n",
       "      <th>5</th>\n",
       "      <td>46.0</td>\n",
       "      <td>-2.90625</td>\n",
       "      <td>-2.34375</td>\n",
       "      <td>-0.50000</td>\n",
       "      <td>-0.96875</td>\n",
       "      <td>2.25000</td>\n",
       "      <td>0.40625</td>\n",
       "      <td>0.87500</td>\n",
       "      <td>0.40625</td>\n",
       "      <td>1.43750</td>\n",
       "      <td>...</td>\n",
       "      <td>NaN</td>\n",
       "      <td>NaN</td>\n",
       "      <td>NaN</td>\n",
       "      <td>NaN</td>\n",
       "      <td>NaN</td>\n",
       "      <td>NaN</td>\n",
       "      <td>NaN</td>\n",
       "      <td>NaN</td>\n",
       "      <td>NaN</td>\n",
       "      <td>NaN</td>\n",
       "    </tr>\n",
       "    <tr>\n",
       "      <th>...</th>\n",
       "      <td>...</td>\n",
       "      <td>...</td>\n",
       "      <td>...</td>\n",
       "      <td>...</td>\n",
       "      <td>...</td>\n",
       "      <td>...</td>\n",
       "      <td>...</td>\n",
       "      <td>...</td>\n",
       "      <td>...</td>\n",
       "      <td>...</td>\n",
       "      <td>...</td>\n",
       "      <td>...</td>\n",
       "      <td>...</td>\n",
       "      <td>...</td>\n",
       "      <td>...</td>\n",
       "      <td>...</td>\n",
       "      <td>...</td>\n",
       "      <td>...</td>\n",
       "      <td>...</td>\n",
       "      <td>...</td>\n",
       "      <td>...</td>\n",
       "    </tr>\n",
       "    <tr>\n",
       "      <th>54899</th>\n",
       "      <td>14.0</td>\n",
       "      <td>NaN</td>\n",
       "      <td>3.62500</td>\n",
       "      <td>-8.40625</td>\n",
       "      <td>-7.40625</td>\n",
       "      <td>5.28125</td>\n",
       "      <td>-8.93750</td>\n",
       "      <td>3.12500</td>\n",
       "      <td>-7.09375</td>\n",
       "      <td>-9.40625</td>\n",
       "      <td>...</td>\n",
       "      <td>NaN</td>\n",
       "      <td>NaN</td>\n",
       "      <td>NaN</td>\n",
       "      <td>NaN</td>\n",
       "      <td>NaN</td>\n",
       "      <td>NaN</td>\n",
       "      <td>NaN</td>\n",
       "      <td>NaN</td>\n",
       "      <td>NaN</td>\n",
       "      <td>NaN</td>\n",
       "    </tr>\n",
       "    <tr>\n",
       "      <th>54900</th>\n",
       "      <td>13.0</td>\n",
       "      <td>NaN</td>\n",
       "      <td>-6.53125</td>\n",
       "      <td>-2.34375</td>\n",
       "      <td>1.43750</td>\n",
       "      <td>-4.37500</td>\n",
       "      <td>-9.90625</td>\n",
       "      <td>-4.06250</td>\n",
       "      <td>-3.93750</td>\n",
       "      <td>-9.00000</td>\n",
       "      <td>...</td>\n",
       "      <td>NaN</td>\n",
       "      <td>NaN</td>\n",
       "      <td>NaN</td>\n",
       "      <td>NaN</td>\n",
       "      <td>NaN</td>\n",
       "      <td>NaN</td>\n",
       "      <td>NaN</td>\n",
       "      <td>NaN</td>\n",
       "      <td>NaN</td>\n",
       "      <td>NaN</td>\n",
       "    </tr>\n",
       "    <tr>\n",
       "      <th>54901</th>\n",
       "      <td>8.0</td>\n",
       "      <td>NaN</td>\n",
       "      <td>8.93750</td>\n",
       "      <td>9.78125</td>\n",
       "      <td>9.53125</td>\n",
       "      <td>9.50000</td>\n",
       "      <td>9.93750</td>\n",
       "      <td>9.87500</td>\n",
       "      <td>9.96875</td>\n",
       "      <td>9.96875</td>\n",
       "      <td>...</td>\n",
       "      <td>NaN</td>\n",
       "      <td>NaN</td>\n",
       "      <td>NaN</td>\n",
       "      <td>NaN</td>\n",
       "      <td>NaN</td>\n",
       "      <td>NaN</td>\n",
       "      <td>NaN</td>\n",
       "      <td>NaN</td>\n",
       "      <td>NaN</td>\n",
       "      <td>NaN</td>\n",
       "    </tr>\n",
       "    <tr>\n",
       "      <th>54902</th>\n",
       "      <td>27.0</td>\n",
       "      <td>NaN</td>\n",
       "      <td>-1.59375</td>\n",
       "      <td>4.53125</td>\n",
       "      <td>-9.21875</td>\n",
       "      <td>-3.09375</td>\n",
       "      <td>-1.96875</td>\n",
       "      <td>1.12500</td>\n",
       "      <td>-5.93750</td>\n",
       "      <td>-4.34375</td>\n",
       "      <td>...</td>\n",
       "      <td>NaN</td>\n",
       "      <td>NaN</td>\n",
       "      <td>NaN</td>\n",
       "      <td>NaN</td>\n",
       "      <td>NaN</td>\n",
       "      <td>NaN</td>\n",
       "      <td>NaN</td>\n",
       "      <td>NaN</td>\n",
       "      <td>NaN</td>\n",
       "      <td>NaN</td>\n",
       "    </tr>\n",
       "    <tr>\n",
       "      <th>54904</th>\n",
       "      <td>12.0</td>\n",
       "      <td>NaN</td>\n",
       "      <td>4.25000</td>\n",
       "      <td>6.59375</td>\n",
       "      <td>9.31250</td>\n",
       "      <td>8.25000</td>\n",
       "      <td>7.59375</td>\n",
       "      <td>6.84375</td>\n",
       "      <td>6.65625</td>\n",
       "      <td>6.06250</td>\n",
       "      <td>...</td>\n",
       "      <td>NaN</td>\n",
       "      <td>NaN</td>\n",
       "      <td>NaN</td>\n",
       "      <td>NaN</td>\n",
       "      <td>NaN</td>\n",
       "      <td>NaN</td>\n",
       "      <td>NaN</td>\n",
       "      <td>NaN</td>\n",
       "      <td>NaN</td>\n",
       "      <td>NaN</td>\n",
       "    </tr>\n",
       "  </tbody>\n",
       "</table>\n",
       "<p>47645 rows × 141 columns</p>\n",
       "</div>"
      ],
      "text/plain": [
       "        0        5        7        8        13       15       16       17   \\\n",
       "0      62.0  0.21875 -9.28125 -9.28125 -6.78125  0.87500 -9.65625 -9.03125   \n",
       "1      34.0 -9.68750  9.93750  9.53125  9.93750  0.40625  3.71875  9.65625   \n",
       "3      82.0  6.90625  4.75000 -5.90625 -0.40625 -4.03125  3.87500  6.21875   \n",
       "4      27.0 -0.03125 -9.09375 -0.40625  7.50000 -7.21875 -9.43750  0.12500   \n",
       "5      46.0 -2.90625 -2.34375 -0.50000 -0.96875  2.25000  0.40625  0.87500   \n",
       "...     ...      ...      ...      ...      ...      ...      ...      ...   \n",
       "54899  14.0      NaN  3.62500 -8.40625 -7.40625  5.28125 -8.93750  3.12500   \n",
       "54900  13.0      NaN -6.53125 -2.34375  1.43750 -4.37500 -9.90625 -4.06250   \n",
       "54901   8.0      NaN  8.93750  9.78125  9.53125  9.50000  9.93750  9.87500   \n",
       "54902  27.0      NaN -1.59375  4.53125 -9.21875 -3.09375 -1.96875  1.12500   \n",
       "54904  12.0      NaN  4.25000  6.59375  9.31250  8.25000  7.59375  6.84375   \n",
       "\n",
       "           18       19   ...  141  142  143  144  145  146  147  148  149  150  \n",
       "0     -7.46875 -8.71875  ...  NaN  NaN  NaN  NaN  NaN  NaN  NaN  NaN  NaN  NaN  \n",
       "1     -2.68750 -9.56250  ...  NaN  NaN  NaN  NaN  NaN  NaN  NaN  NaN  NaN  NaN  \n",
       "3      5.65625  6.09375  ...  NaN  NaN  NaN  NaN  NaN  NaN  NaN  NaN  NaN  NaN  \n",
       "4     -9.15625  3.65625  ...  NaN  NaN  NaN  NaN  NaN  NaN  NaN  NaN  NaN  NaN  \n",
       "5      0.40625  1.43750  ...  NaN  NaN  NaN  NaN  NaN  NaN  NaN  NaN  NaN  NaN  \n",
       "...        ...      ...  ...  ...  ...  ...  ...  ...  ...  ...  ...  ...  ...  \n",
       "54899 -7.09375 -9.40625  ...  NaN  NaN  NaN  NaN  NaN  NaN  NaN  NaN  NaN  NaN  \n",
       "54900 -3.93750 -9.00000  ...  NaN  NaN  NaN  NaN  NaN  NaN  NaN  NaN  NaN  NaN  \n",
       "54901  9.96875  9.96875  ...  NaN  NaN  NaN  NaN  NaN  NaN  NaN  NaN  NaN  NaN  \n",
       "54902 -5.93750 -4.34375  ...  NaN  NaN  NaN  NaN  NaN  NaN  NaN  NaN  NaN  NaN  \n",
       "54904  6.65625  6.06250  ...  NaN  NaN  NaN  NaN  NaN  NaN  NaN  NaN  NaN  NaN  \n",
       "\n",
       "[47645 rows x 141 columns]"
      ]
     },
     "execution_count": 22,
     "metadata": {},
     "output_type": "execute_result"
    }
   ],
   "source": [
    "proc_filtered=proc.iloc[good_users_list]\n",
    "proc_filtered #numeric ratings only contining good users "
   ]
  },
  {
   "cell_type": "code",
   "execution_count": 23,
   "metadata": {
    "colab": {
     "base_uri": "https://localhost:8080/"
    },
    "id": "YWiqXeFb60Aq",
    "outputId": "26d042a9-d528-479d-e5e8-e70ef0c63a14"
   },
   "outputs": [
    {
     "data": {
      "text/plain": [
       "3.1875"
      ]
     },
     "execution_count": 23,
     "metadata": {},
     "output_type": "execute_result"
    }
   ],
   "source": [
    "proc_filtered.max(axis=1).min() #negative users are gone"
   ]
  },
  {
   "cell_type": "code",
   "execution_count": 24,
   "metadata": {
    "id": "2gZ_o_lt60Cv"
   },
   "outputs": [],
   "source": [
    "proc_filtered.to_pickle('filtered_rating_mat.pkl') #should I reset the user idx?(think it's better to reset)"
   ]
  },
  {
   "cell_type": "code",
   "execution_count": null,
   "metadata": {
    "id": "c94xhiDg60En"
   },
   "outputs": [],
   "source": []
  },
  {
   "cell_type": "markdown",
   "metadata": {
    "id": "EDaqEH-cKEn0"
   },
   "source": [
    "## Leave one out test split"
   ]
  },
  {
   "cell_type": "code",
   "execution_count": 30,
   "metadata": {
    "colab": {
     "base_uri": "https://localhost:8080/"
    },
    "id": "bpf6vnbiKEBH",
    "outputId": "f2163f9b-d3b6-422a-cf90-0922db4b68aa"
   },
   "outputs": [
    {
     "data": {
      "text/plain": [
       "array([[ 27,  29,  31,  32,  35,  36,  50,  53,  54,  65,  66,  69,  72,\n",
       "         76,  83,  87,  89,  91,  93, 108, 109, 119, 120, 121, 123, 127]])"
      ]
     },
     "execution_count": 30,
     "metadata": {},
     "output_type": "execute_result"
    }
   ],
   "source": [
    "#cut off by certain threshold (rating >5)\n",
    "arr=np.array(jester.iloc[0])\n",
    "thres=5\n",
    "np.array(np.where(arr > thres))+1 #indices of elements with positive ratings"
   ]
  },
  {
   "cell_type": "code",
   "execution_count": 93,
   "metadata": {
    "id": "uZamQOaYqF8t"
   },
   "outputs": [],
   "source": [
    "train_matrix=jester.copy()"
   ]
  },
  {
   "cell_type": "code",
   "execution_count": 96,
   "metadata": {
    "colab": {
     "base_uri": "https://localhost:8080/"
    },
    "id": "ijS-vNEPrzSx",
    "outputId": "8ff53405-c47d-4941-a8b7-c1eeeca1aa7f"
   },
   "outputs": [
    {
     "data": {
      "text/plain": [
       "1        0\n",
       "2       94\n",
       "3       95\n",
       "4       96\n",
       "5       97\n",
       "      ... \n",
       "146     12\n",
       "147     38\n",
       "148     37\n",
       "149    101\n",
       "150    104\n",
       "Name: 2, Length: 150, dtype: int64"
      ]
     },
     "execution_count": 96,
     "metadata": {},
     "output_type": "execute_result"
    }
   ],
   "source": [
    "row=2\n",
    "arr=jester.iloc[row].fillna(-1000)\n",
    "top_k_idx=np.argsort(arr)\n",
    "top_k_idx"
   ]
  },
  {
   "cell_type": "code",
   "execution_count": 97,
   "metadata": {
    "colab": {
     "base_uri": "https://localhost:8080/"
    },
    "id": "GMxceMuxtgoC",
    "outputId": "68f3bb00-412a-4b69-d0d1-125b8b5c3eb3"
   },
   "outputs": [
    {
     "data": {
      "text/plain": [
       "array([104, 101,  37,  38,  12,  19,   7,  18,  33,  32])"
      ]
     },
     "execution_count": 97,
     "metadata": {},
     "output_type": "execute_result"
    }
   ],
   "source": [
    "np.array(top_k_idx[::-1][:10])"
   ]
  },
  {
   "cell_type": "code",
   "execution_count": null,
   "metadata": {
    "id": "xqg_gXn7u02u"
   },
   "outputs": [],
   "source": []
  },
  {
   "cell_type": "code",
   "execution_count": 100,
   "metadata": {
    "colab": {
     "base_uri": "https://localhost:8080/"
    },
    "id": "pPkpPAiOuvnW",
    "outputId": "4495323f-6cbf-4e5f-ae52-cfbacd5331bf"
   },
   "outputs": [
    {
     "data": {
      "text/plain": [
       "1.25"
      ]
     },
     "execution_count": 100,
     "metadata": {},
     "output_type": "execute_result"
    }
   ],
   "source": [
    "train_matrix.iloc[row,104]"
   ]
  },
  {
   "cell_type": "code",
   "execution_count": 103,
   "metadata": {
    "colab": {
     "base_uri": "https://localhost:8080/"
    },
    "id": "IGSzD2QQvFBX",
    "outputId": "b818c572-dfea-4429-ea75-db53029a7fb6"
   },
   "outputs": [
    {
     "data": {
      "text/plain": [
       "-10.0"
      ]
     },
     "execution_count": 103,
     "metadata": {},
     "output_type": "execute_result"
    }
   ],
   "source": [
    "jester.max(axis=1).min() #wtf such a negative user"
   ]
  },
  {
   "cell_type": "code",
   "execution_count": 193,
   "metadata": {
    "colab": {
     "base_uri": "https://localhost:8080/"
    },
    "id": "h8xenCBH_MAv",
    "outputId": "e577183b-2a06-466d-96fb-9ed8b21ffa87"
   },
   "outputs": [
    {
     "data": {
      "text/plain": [
       "Index(['5', '7', '8', '13', '15', '16', '17', '18', '19', '20',\n",
       "       ...\n",
       "       '141', '142', '143', '144', '145', '146', '147', '148', '149', '150'],\n",
       "      dtype='object', length=140)"
      ]
     },
     "execution_count": 193,
     "metadata": {},
     "output_type": "execute_result"
    }
   ],
   "source": [
    "true_cols=proc_filtered.columns[1:]\n",
    "true_cols"
   ]
  },
  {
   "cell_type": "code",
   "execution_count": 179,
   "metadata": {
    "id": "-ex70lY49oml"
   },
   "outputs": [],
   "source": [
    "proc_filtered=proc_filtered.reset_index()"
   ]
  },
  {
   "cell_type": "code",
   "execution_count": 194,
   "metadata": {
    "id": "IF0vhWKS_YMM"
   },
   "outputs": [],
   "source": [
    "proc_filtered.drop(columns=['index'],inplace=True)"
   ]
  },
  {
   "cell_type": "code",
   "execution_count": 196,
   "metadata": {
    "id": "F4B7_GvG_e9S"
   },
   "outputs": [],
   "source": [
    "proc_filtered.columns=range(0,140)"
   ]
  },
  {
   "cell_type": "code",
   "execution_count": 198,
   "metadata": {
    "id": "QX_XhZle84wk"
   },
   "outputs": [],
   "source": [
    "train_matrix=proc_filtered.copy()"
   ]
  },
  {
   "cell_type": "code",
   "execution_count": 199,
   "metadata": {
    "colab": {
     "base_uri": "https://localhost:8080/",
     "height": 424
    },
    "id": "kUElG6C5_pIx",
    "outputId": "4519cea8-bffd-49a8-dea2-82e1af7331d2"
   },
   "outputs": [
    {
     "data": {
      "text/html": [
       "\n",
       "  <div id=\"df-562d466c-5820-4705-adf7-aa8bb5fd5139\">\n",
       "    <div class=\"colab-df-container\">\n",
       "      <div>\n",
       "<style scoped>\n",
       "    .dataframe tbody tr th:only-of-type {\n",
       "        vertical-align: middle;\n",
       "    }\n",
       "\n",
       "    .dataframe tbody tr th {\n",
       "        vertical-align: top;\n",
       "    }\n",
       "\n",
       "    .dataframe thead th {\n",
       "        text-align: right;\n",
       "    }\n",
       "</style>\n",
       "<table border=\"1\" class=\"dataframe\">\n",
       "  <thead>\n",
       "    <tr style=\"text-align: right;\">\n",
       "      <th></th>\n",
       "      <th>0</th>\n",
       "      <th>1</th>\n",
       "      <th>2</th>\n",
       "      <th>3</th>\n",
       "      <th>4</th>\n",
       "      <th>5</th>\n",
       "      <th>6</th>\n",
       "      <th>7</th>\n",
       "      <th>8</th>\n",
       "      <th>9</th>\n",
       "      <th>...</th>\n",
       "      <th>130</th>\n",
       "      <th>131</th>\n",
       "      <th>132</th>\n",
       "      <th>133</th>\n",
       "      <th>134</th>\n",
       "      <th>135</th>\n",
       "      <th>136</th>\n",
       "      <th>137</th>\n",
       "      <th>138</th>\n",
       "      <th>139</th>\n",
       "    </tr>\n",
       "  </thead>\n",
       "  <tbody>\n",
       "    <tr>\n",
       "      <th>0</th>\n",
       "      <td>0.21875</td>\n",
       "      <td>-9.28125</td>\n",
       "      <td>-9.28125</td>\n",
       "      <td>-6.78125</td>\n",
       "      <td>0.87500</td>\n",
       "      <td>-9.65625</td>\n",
       "      <td>-9.03125</td>\n",
       "      <td>-7.46875</td>\n",
       "      <td>-8.71875</td>\n",
       "      <td>-9.15625</td>\n",
       "      <td>...</td>\n",
       "      <td>NaN</td>\n",
       "      <td>NaN</td>\n",
       "      <td>NaN</td>\n",
       "      <td>NaN</td>\n",
       "      <td>NaN</td>\n",
       "      <td>NaN</td>\n",
       "      <td>NaN</td>\n",
       "      <td>NaN</td>\n",
       "      <td>NaN</td>\n",
       "      <td>NaN</td>\n",
       "    </tr>\n",
       "    <tr>\n",
       "      <th>1</th>\n",
       "      <td>-9.68750</td>\n",
       "      <td>9.93750</td>\n",
       "      <td>9.53125</td>\n",
       "      <td>9.93750</td>\n",
       "      <td>0.40625</td>\n",
       "      <td>3.71875</td>\n",
       "      <td>9.65625</td>\n",
       "      <td>-2.68750</td>\n",
       "      <td>-9.56250</td>\n",
       "      <td>-9.12500</td>\n",
       "      <td>...</td>\n",
       "      <td>NaN</td>\n",
       "      <td>NaN</td>\n",
       "      <td>NaN</td>\n",
       "      <td>NaN</td>\n",
       "      <td>NaN</td>\n",
       "      <td>NaN</td>\n",
       "      <td>NaN</td>\n",
       "      <td>NaN</td>\n",
       "      <td>NaN</td>\n",
       "      <td>NaN</td>\n",
       "    </tr>\n",
       "    <tr>\n",
       "      <th>2</th>\n",
       "      <td>6.90625</td>\n",
       "      <td>4.75000</td>\n",
       "      <td>-5.90625</td>\n",
       "      <td>-0.40625</td>\n",
       "      <td>-4.03125</td>\n",
       "      <td>3.87500</td>\n",
       "      <td>6.21875</td>\n",
       "      <td>5.65625</td>\n",
       "      <td>6.09375</td>\n",
       "      <td>5.40625</td>\n",
       "      <td>...</td>\n",
       "      <td>NaN</td>\n",
       "      <td>NaN</td>\n",
       "      <td>NaN</td>\n",
       "      <td>NaN</td>\n",
       "      <td>NaN</td>\n",
       "      <td>NaN</td>\n",
       "      <td>NaN</td>\n",
       "      <td>NaN</td>\n",
       "      <td>NaN</td>\n",
       "      <td>NaN</td>\n",
       "    </tr>\n",
       "    <tr>\n",
       "      <th>3</th>\n",
       "      <td>-0.03125</td>\n",
       "      <td>-9.09375</td>\n",
       "      <td>-0.40625</td>\n",
       "      <td>7.50000</td>\n",
       "      <td>-7.21875</td>\n",
       "      <td>-9.43750</td>\n",
       "      <td>0.12500</td>\n",
       "      <td>-9.15625</td>\n",
       "      <td>3.65625</td>\n",
       "      <td>-9.43750</td>\n",
       "      <td>...</td>\n",
       "      <td>NaN</td>\n",
       "      <td>NaN</td>\n",
       "      <td>NaN</td>\n",
       "      <td>NaN</td>\n",
       "      <td>NaN</td>\n",
       "      <td>NaN</td>\n",
       "      <td>NaN</td>\n",
       "      <td>NaN</td>\n",
       "      <td>NaN</td>\n",
       "      <td>NaN</td>\n",
       "    </tr>\n",
       "    <tr>\n",
       "      <th>4</th>\n",
       "      <td>-2.90625</td>\n",
       "      <td>-2.34375</td>\n",
       "      <td>-0.50000</td>\n",
       "      <td>-0.96875</td>\n",
       "      <td>2.25000</td>\n",
       "      <td>0.40625</td>\n",
       "      <td>0.87500</td>\n",
       "      <td>0.40625</td>\n",
       "      <td>1.43750</td>\n",
       "      <td>-0.03125</td>\n",
       "      <td>...</td>\n",
       "      <td>NaN</td>\n",
       "      <td>NaN</td>\n",
       "      <td>NaN</td>\n",
       "      <td>NaN</td>\n",
       "      <td>NaN</td>\n",
       "      <td>NaN</td>\n",
       "      <td>NaN</td>\n",
       "      <td>NaN</td>\n",
       "      <td>NaN</td>\n",
       "      <td>NaN</td>\n",
       "    </tr>\n",
       "    <tr>\n",
       "      <th>...</th>\n",
       "      <td>...</td>\n",
       "      <td>...</td>\n",
       "      <td>...</td>\n",
       "      <td>...</td>\n",
       "      <td>...</td>\n",
       "      <td>...</td>\n",
       "      <td>...</td>\n",
       "      <td>...</td>\n",
       "      <td>...</td>\n",
       "      <td>...</td>\n",
       "      <td>...</td>\n",
       "      <td>...</td>\n",
       "      <td>...</td>\n",
       "      <td>...</td>\n",
       "      <td>...</td>\n",
       "      <td>...</td>\n",
       "      <td>...</td>\n",
       "      <td>...</td>\n",
       "      <td>...</td>\n",
       "      <td>...</td>\n",
       "      <td>...</td>\n",
       "    </tr>\n",
       "    <tr>\n",
       "      <th>44796</th>\n",
       "      <td>NaN</td>\n",
       "      <td>3.62500</td>\n",
       "      <td>-8.40625</td>\n",
       "      <td>-7.40625</td>\n",
       "      <td>5.28125</td>\n",
       "      <td>-8.93750</td>\n",
       "      <td>3.12500</td>\n",
       "      <td>-7.09375</td>\n",
       "      <td>-9.40625</td>\n",
       "      <td>NaN</td>\n",
       "      <td>...</td>\n",
       "      <td>NaN</td>\n",
       "      <td>NaN</td>\n",
       "      <td>NaN</td>\n",
       "      <td>NaN</td>\n",
       "      <td>NaN</td>\n",
       "      <td>NaN</td>\n",
       "      <td>NaN</td>\n",
       "      <td>NaN</td>\n",
       "      <td>NaN</td>\n",
       "      <td>NaN</td>\n",
       "    </tr>\n",
       "    <tr>\n",
       "      <th>44797</th>\n",
       "      <td>NaN</td>\n",
       "      <td>-6.53125</td>\n",
       "      <td>-2.34375</td>\n",
       "      <td>1.43750</td>\n",
       "      <td>-4.37500</td>\n",
       "      <td>-9.90625</td>\n",
       "      <td>-4.06250</td>\n",
       "      <td>-3.93750</td>\n",
       "      <td>-9.00000</td>\n",
       "      <td>NaN</td>\n",
       "      <td>...</td>\n",
       "      <td>NaN</td>\n",
       "      <td>NaN</td>\n",
       "      <td>NaN</td>\n",
       "      <td>NaN</td>\n",
       "      <td>NaN</td>\n",
       "      <td>NaN</td>\n",
       "      <td>NaN</td>\n",
       "      <td>NaN</td>\n",
       "      <td>NaN</td>\n",
       "      <td>NaN</td>\n",
       "    </tr>\n",
       "    <tr>\n",
       "      <th>44798</th>\n",
       "      <td>NaN</td>\n",
       "      <td>8.93750</td>\n",
       "      <td>9.78125</td>\n",
       "      <td>9.53125</td>\n",
       "      <td>9.50000</td>\n",
       "      <td>9.93750</td>\n",
       "      <td>9.87500</td>\n",
       "      <td>9.96875</td>\n",
       "      <td>9.96875</td>\n",
       "      <td>NaN</td>\n",
       "      <td>...</td>\n",
       "      <td>NaN</td>\n",
       "      <td>NaN</td>\n",
       "      <td>NaN</td>\n",
       "      <td>NaN</td>\n",
       "      <td>NaN</td>\n",
       "      <td>NaN</td>\n",
       "      <td>NaN</td>\n",
       "      <td>NaN</td>\n",
       "      <td>NaN</td>\n",
       "      <td>NaN</td>\n",
       "    </tr>\n",
       "    <tr>\n",
       "      <th>44799</th>\n",
       "      <td>NaN</td>\n",
       "      <td>-1.59375</td>\n",
       "      <td>4.53125</td>\n",
       "      <td>-9.21875</td>\n",
       "      <td>-3.09375</td>\n",
       "      <td>-1.96875</td>\n",
       "      <td>1.12500</td>\n",
       "      <td>-5.93750</td>\n",
       "      <td>-4.34375</td>\n",
       "      <td>NaN</td>\n",
       "      <td>...</td>\n",
       "      <td>NaN</td>\n",
       "      <td>NaN</td>\n",
       "      <td>NaN</td>\n",
       "      <td>NaN</td>\n",
       "      <td>NaN</td>\n",
       "      <td>NaN</td>\n",
       "      <td>NaN</td>\n",
       "      <td>NaN</td>\n",
       "      <td>NaN</td>\n",
       "      <td>NaN</td>\n",
       "    </tr>\n",
       "    <tr>\n",
       "      <th>44800</th>\n",
       "      <td>NaN</td>\n",
       "      <td>4.25000</td>\n",
       "      <td>6.59375</td>\n",
       "      <td>9.31250</td>\n",
       "      <td>8.25000</td>\n",
       "      <td>7.59375</td>\n",
       "      <td>6.84375</td>\n",
       "      <td>6.65625</td>\n",
       "      <td>6.06250</td>\n",
       "      <td>NaN</td>\n",
       "      <td>...</td>\n",
       "      <td>NaN</td>\n",
       "      <td>NaN</td>\n",
       "      <td>NaN</td>\n",
       "      <td>NaN</td>\n",
       "      <td>NaN</td>\n",
       "      <td>NaN</td>\n",
       "      <td>NaN</td>\n",
       "      <td>NaN</td>\n",
       "      <td>NaN</td>\n",
       "      <td>NaN</td>\n",
       "    </tr>\n",
       "  </tbody>\n",
       "</table>\n",
       "<p>44801 rows × 140 columns</p>\n",
       "</div>\n",
       "      <button class=\"colab-df-convert\" onclick=\"convertToInteractive('df-562d466c-5820-4705-adf7-aa8bb5fd5139')\"\n",
       "              title=\"Convert this dataframe to an interactive table.\"\n",
       "              style=\"display:none;\">\n",
       "        \n",
       "  <svg xmlns=\"http://www.w3.org/2000/svg\" height=\"24px\"viewBox=\"0 0 24 24\"\n",
       "       width=\"24px\">\n",
       "    <path d=\"M0 0h24v24H0V0z\" fill=\"none\"/>\n",
       "    <path d=\"M18.56 5.44l.94 2.06.94-2.06 2.06-.94-2.06-.94-.94-2.06-.94 2.06-2.06.94zm-11 1L8.5 8.5l.94-2.06 2.06-.94-2.06-.94L8.5 2.5l-.94 2.06-2.06.94zm10 10l.94 2.06.94-2.06 2.06-.94-2.06-.94-.94-2.06-.94 2.06-2.06.94z\"/><path d=\"M17.41 7.96l-1.37-1.37c-.4-.4-.92-.59-1.43-.59-.52 0-1.04.2-1.43.59L10.3 9.45l-7.72 7.72c-.78.78-.78 2.05 0 2.83L4 21.41c.39.39.9.59 1.41.59.51 0 1.02-.2 1.41-.59l7.78-7.78 2.81-2.81c.8-.78.8-2.07 0-2.86zM5.41 20L4 18.59l7.72-7.72 1.47 1.35L5.41 20z\"/>\n",
       "  </svg>\n",
       "      </button>\n",
       "      \n",
       "  <style>\n",
       "    .colab-df-container {\n",
       "      display:flex;\n",
       "      flex-wrap:wrap;\n",
       "      gap: 12px;\n",
       "    }\n",
       "\n",
       "    .colab-df-convert {\n",
       "      background-color: #E8F0FE;\n",
       "      border: none;\n",
       "      border-radius: 50%;\n",
       "      cursor: pointer;\n",
       "      display: none;\n",
       "      fill: #1967D2;\n",
       "      height: 32px;\n",
       "      padding: 0 0 0 0;\n",
       "      width: 32px;\n",
       "    }\n",
       "\n",
       "    .colab-df-convert:hover {\n",
       "      background-color: #E2EBFA;\n",
       "      box-shadow: 0px 1px 2px rgba(60, 64, 67, 0.3), 0px 1px 3px 1px rgba(60, 64, 67, 0.15);\n",
       "      fill: #174EA6;\n",
       "    }\n",
       "\n",
       "    [theme=dark] .colab-df-convert {\n",
       "      background-color: #3B4455;\n",
       "      fill: #D2E3FC;\n",
       "    }\n",
       "\n",
       "    [theme=dark] .colab-df-convert:hover {\n",
       "      background-color: #434B5C;\n",
       "      box-shadow: 0px 1px 3px 1px rgba(0, 0, 0, 0.15);\n",
       "      filter: drop-shadow(0px 1px 2px rgba(0, 0, 0, 0.3));\n",
       "      fill: #FFFFFF;\n",
       "    }\n",
       "  </style>\n",
       "\n",
       "      <script>\n",
       "        const buttonEl =\n",
       "          document.querySelector('#df-562d466c-5820-4705-adf7-aa8bb5fd5139 button.colab-df-convert');\n",
       "        buttonEl.style.display =\n",
       "          google.colab.kernel.accessAllowed ? 'block' : 'none';\n",
       "\n",
       "        async function convertToInteractive(key) {\n",
       "          const element = document.querySelector('#df-562d466c-5820-4705-adf7-aa8bb5fd5139');\n",
       "          const dataTable =\n",
       "            await google.colab.kernel.invokeFunction('convertToInteractive',\n",
       "                                                     [key], {});\n",
       "          if (!dataTable) return;\n",
       "\n",
       "          const docLinkHtml = 'Like what you see? Visit the ' +\n",
       "            '<a target=\"_blank\" href=https://colab.research.google.com/notebooks/data_table.ipynb>data table notebook</a>'\n",
       "            + ' to learn more about interactive tables.';\n",
       "          element.innerHTML = '';\n",
       "          dataTable['output_type'] = 'display_data';\n",
       "          await google.colab.output.renderOutput(dataTable, element);\n",
       "          const docLink = document.createElement('div');\n",
       "          docLink.innerHTML = docLinkHtml;\n",
       "          element.appendChild(docLink);\n",
       "        }\n",
       "      </script>\n",
       "    </div>\n",
       "  </div>\n",
       "  "
      ],
      "text/plain": [
       "           0        1        2        3        4        5        6        7    \\\n",
       "0      0.21875 -9.28125 -9.28125 -6.78125  0.87500 -9.65625 -9.03125 -7.46875   \n",
       "1     -9.68750  9.93750  9.53125  9.93750  0.40625  3.71875  9.65625 -2.68750   \n",
       "2      6.90625  4.75000 -5.90625 -0.40625 -4.03125  3.87500  6.21875  5.65625   \n",
       "3     -0.03125 -9.09375 -0.40625  7.50000 -7.21875 -9.43750  0.12500 -9.15625   \n",
       "4     -2.90625 -2.34375 -0.50000 -0.96875  2.25000  0.40625  0.87500  0.40625   \n",
       "...        ...      ...      ...      ...      ...      ...      ...      ...   \n",
       "44796      NaN  3.62500 -8.40625 -7.40625  5.28125 -8.93750  3.12500 -7.09375   \n",
       "44797      NaN -6.53125 -2.34375  1.43750 -4.37500 -9.90625 -4.06250 -3.93750   \n",
       "44798      NaN  8.93750  9.78125  9.53125  9.50000  9.93750  9.87500  9.96875   \n",
       "44799      NaN -1.59375  4.53125 -9.21875 -3.09375 -1.96875  1.12500 -5.93750   \n",
       "44800      NaN  4.25000  6.59375  9.31250  8.25000  7.59375  6.84375  6.65625   \n",
       "\n",
       "           8        9    ...  130  131  132  133  134  135  136  137  138  139  \n",
       "0     -8.71875 -9.15625  ...  NaN  NaN  NaN  NaN  NaN  NaN  NaN  NaN  NaN  NaN  \n",
       "1     -9.56250 -9.12500  ...  NaN  NaN  NaN  NaN  NaN  NaN  NaN  NaN  NaN  NaN  \n",
       "2      6.09375  5.40625  ...  NaN  NaN  NaN  NaN  NaN  NaN  NaN  NaN  NaN  NaN  \n",
       "3      3.65625 -9.43750  ...  NaN  NaN  NaN  NaN  NaN  NaN  NaN  NaN  NaN  NaN  \n",
       "4      1.43750 -0.03125  ...  NaN  NaN  NaN  NaN  NaN  NaN  NaN  NaN  NaN  NaN  \n",
       "...        ...      ...  ...  ...  ...  ...  ...  ...  ...  ...  ...  ...  ...  \n",
       "44796 -9.40625      NaN  ...  NaN  NaN  NaN  NaN  NaN  NaN  NaN  NaN  NaN  NaN  \n",
       "44797 -9.00000      NaN  ...  NaN  NaN  NaN  NaN  NaN  NaN  NaN  NaN  NaN  NaN  \n",
       "44798  9.96875      NaN  ...  NaN  NaN  NaN  NaN  NaN  NaN  NaN  NaN  NaN  NaN  \n",
       "44799 -4.34375      NaN  ...  NaN  NaN  NaN  NaN  NaN  NaN  NaN  NaN  NaN  NaN  \n",
       "44800  6.06250      NaN  ...  NaN  NaN  NaN  NaN  NaN  NaN  NaN  NaN  NaN  NaN  \n",
       "\n",
       "[44801 rows x 140 columns]"
      ]
     },
     "execution_count": 199,
     "metadata": {},
     "output_type": "execute_result"
    }
   ],
   "source": [
    "train_matrix"
   ]
  },
  {
   "cell_type": "code",
   "execution_count": 200,
   "metadata": {
    "id": "mXmjgnpwmywY"
   },
   "outputs": [],
   "source": [
    "#ndcg: just row-to-row comparision btw gt and pred with rows full of 0,1s\n",
    "#code seems okay(need some sanity checks), but we should filter out some inappropriate users/jokes\n",
    "#do some sanity checks\n",
    "import random\n",
    "k=5\n",
    "test_jokes=[]\n",
    "for row in proc_filtered.index:\n",
    "  #arr=np.array(jester.iloc[row].dropna())\n",
    "  arr=proc_filtered.iloc[row].fillna(-1000)\n",
    "  top_k_idx=np.array(np.argsort(arr)[::-1][:k]) #top k indices\n",
    "  #print(top_k_idx)\n",
    "  chosen_test=random.choice(top_k_idx)\n",
    "  test_jokes.append(chosen_test)\n",
    "  #print(train_matrix.iloc[row,chosen_test])\n",
    "  train_matrix.iloc[row,chosen_test]=np.nan"
   ]
  },
  {
   "cell_type": "code",
   "execution_count": 201,
   "metadata": {
    "colab": {
     "base_uri": "https://localhost:8080/"
    },
    "id": "uIqIj0c5_vAj",
    "outputId": "111159eb-09e7-4f93-feea-d2367bc32ab0"
   },
   "outputs": [
    {
     "data": {
      "text/plain": [
       "44800"
      ]
     },
     "execution_count": 201,
     "metadata": {},
     "output_type": "execute_result"
    }
   ],
   "source": [
    "row"
   ]
  },
  {
   "cell_type": "markdown",
   "metadata": {
    "id": "QyC-j7Eq9LmZ"
   },
   "source": [
    "Think it works well!!"
   ]
  },
  {
   "cell_type": "code",
   "execution_count": 202,
   "metadata": {
    "colab": {
     "base_uri": "https://localhost:8080/",
     "height": 424
    },
    "id": "_HN9x_Jm_0km",
    "outputId": "0354466f-4a49-4091-d0b1-882a9cd8d31f"
   },
   "outputs": [
    {
     "data": {
      "text/html": [
       "\n",
       "  <div id=\"df-d7ae38c1-8eb8-4edc-aedb-501dfde2a52c\">\n",
       "    <div class=\"colab-df-container\">\n",
       "      <div>\n",
       "<style scoped>\n",
       "    .dataframe tbody tr th:only-of-type {\n",
       "        vertical-align: middle;\n",
       "    }\n",
       "\n",
       "    .dataframe tbody tr th {\n",
       "        vertical-align: top;\n",
       "    }\n",
       "\n",
       "    .dataframe thead th {\n",
       "        text-align: right;\n",
       "    }\n",
       "</style>\n",
       "<table border=\"1\" class=\"dataframe\">\n",
       "  <thead>\n",
       "    <tr style=\"text-align: right;\">\n",
       "      <th></th>\n",
       "      <th>0</th>\n",
       "      <th>1</th>\n",
       "      <th>2</th>\n",
       "      <th>3</th>\n",
       "      <th>4</th>\n",
       "      <th>5</th>\n",
       "      <th>6</th>\n",
       "      <th>7</th>\n",
       "      <th>8</th>\n",
       "      <th>9</th>\n",
       "      <th>...</th>\n",
       "      <th>130</th>\n",
       "      <th>131</th>\n",
       "      <th>132</th>\n",
       "      <th>133</th>\n",
       "      <th>134</th>\n",
       "      <th>135</th>\n",
       "      <th>136</th>\n",
       "      <th>137</th>\n",
       "      <th>138</th>\n",
       "      <th>139</th>\n",
       "    </tr>\n",
       "  </thead>\n",
       "  <tbody>\n",
       "    <tr>\n",
       "      <th>0</th>\n",
       "      <td>0.21875</td>\n",
       "      <td>-9.28125</td>\n",
       "      <td>-9.28125</td>\n",
       "      <td>-6.78125</td>\n",
       "      <td>0.87500</td>\n",
       "      <td>-9.65625</td>\n",
       "      <td>-9.03125</td>\n",
       "      <td>-7.46875</td>\n",
       "      <td>-8.71875</td>\n",
       "      <td>-9.15625</td>\n",
       "      <td>...</td>\n",
       "      <td>NaN</td>\n",
       "      <td>NaN</td>\n",
       "      <td>NaN</td>\n",
       "      <td>NaN</td>\n",
       "      <td>NaN</td>\n",
       "      <td>NaN</td>\n",
       "      <td>NaN</td>\n",
       "      <td>NaN</td>\n",
       "      <td>NaN</td>\n",
       "      <td>NaN</td>\n",
       "    </tr>\n",
       "    <tr>\n",
       "      <th>1</th>\n",
       "      <td>-9.68750</td>\n",
       "      <td>9.93750</td>\n",
       "      <td>9.53125</td>\n",
       "      <td>9.93750</td>\n",
       "      <td>0.40625</td>\n",
       "      <td>3.71875</td>\n",
       "      <td>9.65625</td>\n",
       "      <td>-2.68750</td>\n",
       "      <td>-9.56250</td>\n",
       "      <td>-9.12500</td>\n",
       "      <td>...</td>\n",
       "      <td>NaN</td>\n",
       "      <td>NaN</td>\n",
       "      <td>NaN</td>\n",
       "      <td>NaN</td>\n",
       "      <td>NaN</td>\n",
       "      <td>NaN</td>\n",
       "      <td>NaN</td>\n",
       "      <td>NaN</td>\n",
       "      <td>NaN</td>\n",
       "      <td>NaN</td>\n",
       "    </tr>\n",
       "    <tr>\n",
       "      <th>2</th>\n",
       "      <td>6.90625</td>\n",
       "      <td>4.75000</td>\n",
       "      <td>-5.90625</td>\n",
       "      <td>-0.40625</td>\n",
       "      <td>-4.03125</td>\n",
       "      <td>3.87500</td>\n",
       "      <td>6.21875</td>\n",
       "      <td>5.65625</td>\n",
       "      <td>6.09375</td>\n",
       "      <td>5.40625</td>\n",
       "      <td>...</td>\n",
       "      <td>NaN</td>\n",
       "      <td>NaN</td>\n",
       "      <td>NaN</td>\n",
       "      <td>NaN</td>\n",
       "      <td>NaN</td>\n",
       "      <td>NaN</td>\n",
       "      <td>NaN</td>\n",
       "      <td>NaN</td>\n",
       "      <td>NaN</td>\n",
       "      <td>NaN</td>\n",
       "    </tr>\n",
       "    <tr>\n",
       "      <th>3</th>\n",
       "      <td>-0.03125</td>\n",
       "      <td>-9.09375</td>\n",
       "      <td>-0.40625</td>\n",
       "      <td>7.50000</td>\n",
       "      <td>-7.21875</td>\n",
       "      <td>-9.43750</td>\n",
       "      <td>0.12500</td>\n",
       "      <td>-9.15625</td>\n",
       "      <td>3.65625</td>\n",
       "      <td>-9.43750</td>\n",
       "      <td>...</td>\n",
       "      <td>NaN</td>\n",
       "      <td>NaN</td>\n",
       "      <td>NaN</td>\n",
       "      <td>NaN</td>\n",
       "      <td>NaN</td>\n",
       "      <td>NaN</td>\n",
       "      <td>NaN</td>\n",
       "      <td>NaN</td>\n",
       "      <td>NaN</td>\n",
       "      <td>NaN</td>\n",
       "    </tr>\n",
       "    <tr>\n",
       "      <th>4</th>\n",
       "      <td>-2.90625</td>\n",
       "      <td>-2.34375</td>\n",
       "      <td>-0.50000</td>\n",
       "      <td>-0.96875</td>\n",
       "      <td>2.25000</td>\n",
       "      <td>0.40625</td>\n",
       "      <td>0.87500</td>\n",
       "      <td>0.40625</td>\n",
       "      <td>1.43750</td>\n",
       "      <td>-0.03125</td>\n",
       "      <td>...</td>\n",
       "      <td>NaN</td>\n",
       "      <td>NaN</td>\n",
       "      <td>NaN</td>\n",
       "      <td>NaN</td>\n",
       "      <td>NaN</td>\n",
       "      <td>NaN</td>\n",
       "      <td>NaN</td>\n",
       "      <td>NaN</td>\n",
       "      <td>NaN</td>\n",
       "      <td>NaN</td>\n",
       "    </tr>\n",
       "    <tr>\n",
       "      <th>...</th>\n",
       "      <td>...</td>\n",
       "      <td>...</td>\n",
       "      <td>...</td>\n",
       "      <td>...</td>\n",
       "      <td>...</td>\n",
       "      <td>...</td>\n",
       "      <td>...</td>\n",
       "      <td>...</td>\n",
       "      <td>...</td>\n",
       "      <td>...</td>\n",
       "      <td>...</td>\n",
       "      <td>...</td>\n",
       "      <td>...</td>\n",
       "      <td>...</td>\n",
       "      <td>...</td>\n",
       "      <td>...</td>\n",
       "      <td>...</td>\n",
       "      <td>...</td>\n",
       "      <td>...</td>\n",
       "      <td>...</td>\n",
       "      <td>...</td>\n",
       "    </tr>\n",
       "    <tr>\n",
       "      <th>44796</th>\n",
       "      <td>NaN</td>\n",
       "      <td>NaN</td>\n",
       "      <td>-8.40625</td>\n",
       "      <td>-7.40625</td>\n",
       "      <td>5.28125</td>\n",
       "      <td>-8.93750</td>\n",
       "      <td>3.12500</td>\n",
       "      <td>-7.09375</td>\n",
       "      <td>-9.40625</td>\n",
       "      <td>NaN</td>\n",
       "      <td>...</td>\n",
       "      <td>NaN</td>\n",
       "      <td>NaN</td>\n",
       "      <td>NaN</td>\n",
       "      <td>NaN</td>\n",
       "      <td>NaN</td>\n",
       "      <td>NaN</td>\n",
       "      <td>NaN</td>\n",
       "      <td>NaN</td>\n",
       "      <td>NaN</td>\n",
       "      <td>NaN</td>\n",
       "    </tr>\n",
       "    <tr>\n",
       "      <th>44797</th>\n",
       "      <td>NaN</td>\n",
       "      <td>-6.53125</td>\n",
       "      <td>-2.34375</td>\n",
       "      <td>1.43750</td>\n",
       "      <td>-4.37500</td>\n",
       "      <td>-9.90625</td>\n",
       "      <td>-4.06250</td>\n",
       "      <td>-3.93750</td>\n",
       "      <td>-9.00000</td>\n",
       "      <td>NaN</td>\n",
       "      <td>...</td>\n",
       "      <td>NaN</td>\n",
       "      <td>NaN</td>\n",
       "      <td>NaN</td>\n",
       "      <td>NaN</td>\n",
       "      <td>NaN</td>\n",
       "      <td>NaN</td>\n",
       "      <td>NaN</td>\n",
       "      <td>NaN</td>\n",
       "      <td>NaN</td>\n",
       "      <td>NaN</td>\n",
       "    </tr>\n",
       "    <tr>\n",
       "      <th>44798</th>\n",
       "      <td>NaN</td>\n",
       "      <td>8.93750</td>\n",
       "      <td>9.78125</td>\n",
       "      <td>9.53125</td>\n",
       "      <td>9.50000</td>\n",
       "      <td>NaN</td>\n",
       "      <td>9.87500</td>\n",
       "      <td>9.96875</td>\n",
       "      <td>9.96875</td>\n",
       "      <td>NaN</td>\n",
       "      <td>...</td>\n",
       "      <td>NaN</td>\n",
       "      <td>NaN</td>\n",
       "      <td>NaN</td>\n",
       "      <td>NaN</td>\n",
       "      <td>NaN</td>\n",
       "      <td>NaN</td>\n",
       "      <td>NaN</td>\n",
       "      <td>NaN</td>\n",
       "      <td>NaN</td>\n",
       "      <td>NaN</td>\n",
       "    </tr>\n",
       "    <tr>\n",
       "      <th>44799</th>\n",
       "      <td>NaN</td>\n",
       "      <td>-1.59375</td>\n",
       "      <td>NaN</td>\n",
       "      <td>-9.21875</td>\n",
       "      <td>-3.09375</td>\n",
       "      <td>-1.96875</td>\n",
       "      <td>1.12500</td>\n",
       "      <td>-5.93750</td>\n",
       "      <td>-4.34375</td>\n",
       "      <td>NaN</td>\n",
       "      <td>...</td>\n",
       "      <td>NaN</td>\n",
       "      <td>NaN</td>\n",
       "      <td>NaN</td>\n",
       "      <td>NaN</td>\n",
       "      <td>NaN</td>\n",
       "      <td>NaN</td>\n",
       "      <td>NaN</td>\n",
       "      <td>NaN</td>\n",
       "      <td>NaN</td>\n",
       "      <td>NaN</td>\n",
       "    </tr>\n",
       "    <tr>\n",
       "      <th>44800</th>\n",
       "      <td>NaN</td>\n",
       "      <td>4.25000</td>\n",
       "      <td>6.59375</td>\n",
       "      <td>9.31250</td>\n",
       "      <td>8.25000</td>\n",
       "      <td>7.59375</td>\n",
       "      <td>6.84375</td>\n",
       "      <td>6.65625</td>\n",
       "      <td>6.06250</td>\n",
       "      <td>NaN</td>\n",
       "      <td>...</td>\n",
       "      <td>NaN</td>\n",
       "      <td>NaN</td>\n",
       "      <td>NaN</td>\n",
       "      <td>NaN</td>\n",
       "      <td>NaN</td>\n",
       "      <td>NaN</td>\n",
       "      <td>NaN</td>\n",
       "      <td>NaN</td>\n",
       "      <td>NaN</td>\n",
       "      <td>NaN</td>\n",
       "    </tr>\n",
       "  </tbody>\n",
       "</table>\n",
       "<p>44801 rows × 140 columns</p>\n",
       "</div>\n",
       "      <button class=\"colab-df-convert\" onclick=\"convertToInteractive('df-d7ae38c1-8eb8-4edc-aedb-501dfde2a52c')\"\n",
       "              title=\"Convert this dataframe to an interactive table.\"\n",
       "              style=\"display:none;\">\n",
       "        \n",
       "  <svg xmlns=\"http://www.w3.org/2000/svg\" height=\"24px\"viewBox=\"0 0 24 24\"\n",
       "       width=\"24px\">\n",
       "    <path d=\"M0 0h24v24H0V0z\" fill=\"none\"/>\n",
       "    <path d=\"M18.56 5.44l.94 2.06.94-2.06 2.06-.94-2.06-.94-.94-2.06-.94 2.06-2.06.94zm-11 1L8.5 8.5l.94-2.06 2.06-.94-2.06-.94L8.5 2.5l-.94 2.06-2.06.94zm10 10l.94 2.06.94-2.06 2.06-.94-2.06-.94-.94-2.06-.94 2.06-2.06.94z\"/><path d=\"M17.41 7.96l-1.37-1.37c-.4-.4-.92-.59-1.43-.59-.52 0-1.04.2-1.43.59L10.3 9.45l-7.72 7.72c-.78.78-.78 2.05 0 2.83L4 21.41c.39.39.9.59 1.41.59.51 0 1.02-.2 1.41-.59l7.78-7.78 2.81-2.81c.8-.78.8-2.07 0-2.86zM5.41 20L4 18.59l7.72-7.72 1.47 1.35L5.41 20z\"/>\n",
       "  </svg>\n",
       "      </button>\n",
       "      \n",
       "  <style>\n",
       "    .colab-df-container {\n",
       "      display:flex;\n",
       "      flex-wrap:wrap;\n",
       "      gap: 12px;\n",
       "    }\n",
       "\n",
       "    .colab-df-convert {\n",
       "      background-color: #E8F0FE;\n",
       "      border: none;\n",
       "      border-radius: 50%;\n",
       "      cursor: pointer;\n",
       "      display: none;\n",
       "      fill: #1967D2;\n",
       "      height: 32px;\n",
       "      padding: 0 0 0 0;\n",
       "      width: 32px;\n",
       "    }\n",
       "\n",
       "    .colab-df-convert:hover {\n",
       "      background-color: #E2EBFA;\n",
       "      box-shadow: 0px 1px 2px rgba(60, 64, 67, 0.3), 0px 1px 3px 1px rgba(60, 64, 67, 0.15);\n",
       "      fill: #174EA6;\n",
       "    }\n",
       "\n",
       "    [theme=dark] .colab-df-convert {\n",
       "      background-color: #3B4455;\n",
       "      fill: #D2E3FC;\n",
       "    }\n",
       "\n",
       "    [theme=dark] .colab-df-convert:hover {\n",
       "      background-color: #434B5C;\n",
       "      box-shadow: 0px 1px 3px 1px rgba(0, 0, 0, 0.15);\n",
       "      filter: drop-shadow(0px 1px 2px rgba(0, 0, 0, 0.3));\n",
       "      fill: #FFFFFF;\n",
       "    }\n",
       "  </style>\n",
       "\n",
       "      <script>\n",
       "        const buttonEl =\n",
       "          document.querySelector('#df-d7ae38c1-8eb8-4edc-aedb-501dfde2a52c button.colab-df-convert');\n",
       "        buttonEl.style.display =\n",
       "          google.colab.kernel.accessAllowed ? 'block' : 'none';\n",
       "\n",
       "        async function convertToInteractive(key) {\n",
       "          const element = document.querySelector('#df-d7ae38c1-8eb8-4edc-aedb-501dfde2a52c');\n",
       "          const dataTable =\n",
       "            await google.colab.kernel.invokeFunction('convertToInteractive',\n",
       "                                                     [key], {});\n",
       "          if (!dataTable) return;\n",
       "\n",
       "          const docLinkHtml = 'Like what you see? Visit the ' +\n",
       "            '<a target=\"_blank\" href=https://colab.research.google.com/notebooks/data_table.ipynb>data table notebook</a>'\n",
       "            + ' to learn more about interactive tables.';\n",
       "          element.innerHTML = '';\n",
       "          dataTable['output_type'] = 'display_data';\n",
       "          await google.colab.output.renderOutput(dataTable, element);\n",
       "          const docLink = document.createElement('div');\n",
       "          docLink.innerHTML = docLinkHtml;\n",
       "          element.appendChild(docLink);\n",
       "        }\n",
       "      </script>\n",
       "    </div>\n",
       "  </div>\n",
       "  "
      ],
      "text/plain": [
       "           0        1        2        3        4        5        6        7    \\\n",
       "0      0.21875 -9.28125 -9.28125 -6.78125  0.87500 -9.65625 -9.03125 -7.46875   \n",
       "1     -9.68750  9.93750  9.53125  9.93750  0.40625  3.71875  9.65625 -2.68750   \n",
       "2      6.90625  4.75000 -5.90625 -0.40625 -4.03125  3.87500  6.21875  5.65625   \n",
       "3     -0.03125 -9.09375 -0.40625  7.50000 -7.21875 -9.43750  0.12500 -9.15625   \n",
       "4     -2.90625 -2.34375 -0.50000 -0.96875  2.25000  0.40625  0.87500  0.40625   \n",
       "...        ...      ...      ...      ...      ...      ...      ...      ...   \n",
       "44796      NaN      NaN -8.40625 -7.40625  5.28125 -8.93750  3.12500 -7.09375   \n",
       "44797      NaN -6.53125 -2.34375  1.43750 -4.37500 -9.90625 -4.06250 -3.93750   \n",
       "44798      NaN  8.93750  9.78125  9.53125  9.50000      NaN  9.87500  9.96875   \n",
       "44799      NaN -1.59375      NaN -9.21875 -3.09375 -1.96875  1.12500 -5.93750   \n",
       "44800      NaN  4.25000  6.59375  9.31250  8.25000  7.59375  6.84375  6.65625   \n",
       "\n",
       "           8        9    ...  130  131  132  133  134  135  136  137  138  139  \n",
       "0     -8.71875 -9.15625  ...  NaN  NaN  NaN  NaN  NaN  NaN  NaN  NaN  NaN  NaN  \n",
       "1     -9.56250 -9.12500  ...  NaN  NaN  NaN  NaN  NaN  NaN  NaN  NaN  NaN  NaN  \n",
       "2      6.09375  5.40625  ...  NaN  NaN  NaN  NaN  NaN  NaN  NaN  NaN  NaN  NaN  \n",
       "3      3.65625 -9.43750  ...  NaN  NaN  NaN  NaN  NaN  NaN  NaN  NaN  NaN  NaN  \n",
       "4      1.43750 -0.03125  ...  NaN  NaN  NaN  NaN  NaN  NaN  NaN  NaN  NaN  NaN  \n",
       "...        ...      ...  ...  ...  ...  ...  ...  ...  ...  ...  ...  ...  ...  \n",
       "44796 -9.40625      NaN  ...  NaN  NaN  NaN  NaN  NaN  NaN  NaN  NaN  NaN  NaN  \n",
       "44797 -9.00000      NaN  ...  NaN  NaN  NaN  NaN  NaN  NaN  NaN  NaN  NaN  NaN  \n",
       "44798  9.96875      NaN  ...  NaN  NaN  NaN  NaN  NaN  NaN  NaN  NaN  NaN  NaN  \n",
       "44799 -4.34375      NaN  ...  NaN  NaN  NaN  NaN  NaN  NaN  NaN  NaN  NaN  NaN  \n",
       "44800  6.06250      NaN  ...  NaN  NaN  NaN  NaN  NaN  NaN  NaN  NaN  NaN  NaN  \n",
       "\n",
       "[44801 rows x 140 columns]"
      ]
     },
     "execution_count": 202,
     "metadata": {},
     "output_type": "execute_result"
    }
   ],
   "source": [
    "train_matrix"
   ]
  },
  {
   "cell_type": "code",
   "execution_count": 206,
   "metadata": {
    "colab": {
     "base_uri": "https://localhost:8080/"
    },
    "id": "ifSEBZyo-l18",
    "outputId": "e94e74e7-c591-4210-80f0-2da6d6130410"
   },
   "outputs": [
    {
     "data": {
      "text/plain": [
       "44801"
      ]
     },
     "execution_count": 206,
     "metadata": {},
     "output_type": "execute_result"
    }
   ],
   "source": [
    "(train_matrix.isnull().sum(axis=1) - proc_filtered.isnull().sum(axis=1)).sum() #sanity check, should be equal to num of rows"
   ]
  },
  {
   "cell_type": "code",
   "execution_count": 216,
   "metadata": {
    "id": "e2So2xNdA5zu"
   },
   "outputs": [],
   "source": [
    "train_matrix.columns=true_cols"
   ]
  },
  {
   "cell_type": "code",
   "execution_count": 218,
   "metadata": {
    "id": "9UQbv4rY9LNH"
   },
   "outputs": [],
   "source": [
    "train_matrix.to_pickle('masked_for_train.pkl')"
   ]
  },
  {
   "cell_type": "code",
   "execution_count": 219,
   "metadata": {
    "id": "8piS8H7sBKok"
   },
   "outputs": [],
   "source": [
    "proc_filtered.columns=true_cols"
   ]
  },
  {
   "cell_type": "code",
   "execution_count": 220,
   "metadata": {
    "id": "BxOxDbX3A5OG"
   },
   "outputs": [],
   "source": [
    "proc_filtered.to_pickle('gt_matrix.pkl')"
   ]
  },
  {
   "cell_type": "code",
   "execution_count": null,
   "metadata": {
    "id": "_fW5TVkR-7Ai"
   },
   "outputs": [],
   "source": [
    "test_jokes"
   ]
  },
  {
   "cell_type": "code",
   "execution_count": 208,
   "metadata": {
    "colab": {
     "base_uri": "https://localhost:8080/"
    },
    "id": "Hh6Z5J3QkQ-k",
    "outputId": "fa11a3cb-1d4a-49d7-cfb4-00032b97183d"
   },
   "outputs": [
    {
     "data": {
      "text/plain": [
       "44801"
      ]
     },
     "execution_count": 208,
     "metadata": {},
     "output_type": "execute_result"
    }
   ],
   "source": [
    "len(test_jokes)"
   ]
  },
  {
   "cell_type": "code",
   "execution_count": 209,
   "metadata": {
    "colab": {
     "base_uri": "https://localhost:8080/"
    },
    "id": "DxVEDSoRAS6a",
    "outputId": "7d4f0722-0c2e-42b8-bd9d-af71c84e1fb5"
   },
   "outputs": [
    {
     "data": {
      "text/plain": [
       "Index(['5', '7', '8', '13', '15', '16', '17', '18', '19', '20',\n",
       "       ...\n",
       "       '141', '142', '143', '144', '145', '146', '147', '148', '149', '150'],\n",
       "      dtype='object', length=140)"
      ]
     },
     "execution_count": 209,
     "metadata": {},
     "output_type": "execute_result"
    }
   ],
   "source": [
    "true_cols"
   ]
  },
  {
   "cell_type": "code",
   "execution_count": 210,
   "metadata": {
    "colab": {
     "base_uri": "https://localhost:8080/"
    },
    "id": "OxTGzJrmkRDP",
    "outputId": "ab2dfcc6-30e2-457b-9c1d-ce0ebeadeac0"
   },
   "outputs": [
    {
     "data": {
      "text/plain": [
       "RangeIndex(start=0, stop=140, step=1)"
      ]
     },
     "execution_count": 210,
     "metadata": {},
     "output_type": "execute_result"
    }
   ],
   "source": [
    "proc_filtered.columns"
   ]
  },
  {
   "cell_type": "code",
   "execution_count": 214,
   "metadata": {
    "id": "jqvYU9-fkRFA"
   },
   "outputs": [],
   "source": [
    "columns_map_dict=dict(zip(proc_filtered.columns, true_cols))"
   ]
  },
  {
   "cell_type": "code",
   "execution_count": 223,
   "metadata": {
    "id": "hU2z7eI6CEyn"
   },
   "outputs": [],
   "source": [
    "test_jokes_mapped=[columns_map_dict[k] for k in test_jokes]"
   ]
  },
  {
   "cell_type": "code",
   "execution_count": 224,
   "metadata": {
    "colab": {
     "base_uri": "https://localhost:8080/"
    },
    "id": "ZxsU2l2yCPxa",
    "outputId": "d28b73bc-d054-45fd-cc4d-a3a6d7543d92"
   },
   "outputs": [
    {
     "data": {
      "text/plain": [
       "44801"
      ]
     },
     "execution_count": 224,
     "metadata": {},
     "output_type": "execute_result"
    }
   ],
   "source": [
    "len(test_jokes_mapped)"
   ]
  },
  {
   "cell_type": "code",
   "execution_count": 225,
   "metadata": {
    "id": "Ua-PhxBBCUN7"
   },
   "outputs": [],
   "source": [
    "proc_filtered['test_joke_idx']=test_jokes_mapped"
   ]
  },
  {
   "cell_type": "code",
   "execution_count": 226,
   "metadata": {
    "id": "Fi--UJ80CP1W"
   },
   "outputs": [],
   "source": [
    "proc_filtered.to_pickle('gt_matrix.pkl')"
   ]
  },
  {
   "cell_type": "code",
   "execution_count": 227,
   "metadata": {
    "colab": {
     "base_uri": "https://localhost:8080/",
     "height": 424
    },
    "id": "SniMMLEFCP3V",
    "outputId": "c2950071-3560-458b-849e-0c4f09ab82f6"
   },
   "outputs": [
    {
     "data": {
      "text/html": [
       "\n",
       "  <div id=\"df-c64701ad-eb60-4d9b-9077-09add69d9491\">\n",
       "    <div class=\"colab-df-container\">\n",
       "      <div>\n",
       "<style scoped>\n",
       "    .dataframe tbody tr th:only-of-type {\n",
       "        vertical-align: middle;\n",
       "    }\n",
       "\n",
       "    .dataframe tbody tr th {\n",
       "        vertical-align: top;\n",
       "    }\n",
       "\n",
       "    .dataframe thead th {\n",
       "        text-align: right;\n",
       "    }\n",
       "</style>\n",
       "<table border=\"1\" class=\"dataframe\">\n",
       "  <thead>\n",
       "    <tr style=\"text-align: right;\">\n",
       "      <th></th>\n",
       "      <th>5</th>\n",
       "      <th>7</th>\n",
       "      <th>8</th>\n",
       "      <th>13</th>\n",
       "      <th>15</th>\n",
       "      <th>16</th>\n",
       "      <th>17</th>\n",
       "      <th>18</th>\n",
       "      <th>19</th>\n",
       "      <th>20</th>\n",
       "      <th>...</th>\n",
       "      <th>142</th>\n",
       "      <th>143</th>\n",
       "      <th>144</th>\n",
       "      <th>145</th>\n",
       "      <th>146</th>\n",
       "      <th>147</th>\n",
       "      <th>148</th>\n",
       "      <th>149</th>\n",
       "      <th>150</th>\n",
       "      <th>test_joke_idx</th>\n",
       "    </tr>\n",
       "  </thead>\n",
       "  <tbody>\n",
       "    <tr>\n",
       "      <th>0</th>\n",
       "      <td>0.21875</td>\n",
       "      <td>-9.28125</td>\n",
       "      <td>-9.28125</td>\n",
       "      <td>-6.78125</td>\n",
       "      <td>0.87500</td>\n",
       "      <td>-9.65625</td>\n",
       "      <td>-9.03125</td>\n",
       "      <td>-7.46875</td>\n",
       "      <td>-8.71875</td>\n",
       "      <td>-9.15625</td>\n",
       "      <td>...</td>\n",
       "      <td>NaN</td>\n",
       "      <td>NaN</td>\n",
       "      <td>NaN</td>\n",
       "      <td>NaN</td>\n",
       "      <td>NaN</td>\n",
       "      <td>NaN</td>\n",
       "      <td>NaN</td>\n",
       "      <td>NaN</td>\n",
       "      <td>NaN</td>\n",
       "      <td>109</td>\n",
       "    </tr>\n",
       "    <tr>\n",
       "      <th>1</th>\n",
       "      <td>-9.68750</td>\n",
       "      <td>9.93750</td>\n",
       "      <td>9.53125</td>\n",
       "      <td>9.93750</td>\n",
       "      <td>0.40625</td>\n",
       "      <td>3.71875</td>\n",
       "      <td>9.65625</td>\n",
       "      <td>-2.68750</td>\n",
       "      <td>-9.56250</td>\n",
       "      <td>-9.12500</td>\n",
       "      <td>...</td>\n",
       "      <td>NaN</td>\n",
       "      <td>NaN</td>\n",
       "      <td>NaN</td>\n",
       "      <td>NaN</td>\n",
       "      <td>NaN</td>\n",
       "      <td>NaN</td>\n",
       "      <td>NaN</td>\n",
       "      <td>NaN</td>\n",
       "      <td>NaN</td>\n",
       "      <td>50</td>\n",
       "    </tr>\n",
       "    <tr>\n",
       "      <th>2</th>\n",
       "      <td>6.90625</td>\n",
       "      <td>4.75000</td>\n",
       "      <td>-5.90625</td>\n",
       "      <td>-0.40625</td>\n",
       "      <td>-4.03125</td>\n",
       "      <td>3.87500</td>\n",
       "      <td>6.21875</td>\n",
       "      <td>5.65625</td>\n",
       "      <td>6.09375</td>\n",
       "      <td>5.40625</td>\n",
       "      <td>...</td>\n",
       "      <td>NaN</td>\n",
       "      <td>NaN</td>\n",
       "      <td>NaN</td>\n",
       "      <td>NaN</td>\n",
       "      <td>NaN</td>\n",
       "      <td>NaN</td>\n",
       "      <td>NaN</td>\n",
       "      <td>NaN</td>\n",
       "      <td>NaN</td>\n",
       "      <td>22</td>\n",
       "    </tr>\n",
       "    <tr>\n",
       "      <th>3</th>\n",
       "      <td>-0.03125</td>\n",
       "      <td>-9.09375</td>\n",
       "      <td>-0.40625</td>\n",
       "      <td>7.50000</td>\n",
       "      <td>-7.21875</td>\n",
       "      <td>-9.43750</td>\n",
       "      <td>0.12500</td>\n",
       "      <td>-9.15625</td>\n",
       "      <td>3.65625</td>\n",
       "      <td>-9.43750</td>\n",
       "      <td>...</td>\n",
       "      <td>NaN</td>\n",
       "      <td>NaN</td>\n",
       "      <td>NaN</td>\n",
       "      <td>NaN</td>\n",
       "      <td>NaN</td>\n",
       "      <td>NaN</td>\n",
       "      <td>NaN</td>\n",
       "      <td>NaN</td>\n",
       "      <td>NaN</td>\n",
       "      <td>21</td>\n",
       "    </tr>\n",
       "    <tr>\n",
       "      <th>4</th>\n",
       "      <td>-2.90625</td>\n",
       "      <td>-2.34375</td>\n",
       "      <td>-0.50000</td>\n",
       "      <td>-0.96875</td>\n",
       "      <td>2.25000</td>\n",
       "      <td>0.40625</td>\n",
       "      <td>0.87500</td>\n",
       "      <td>0.40625</td>\n",
       "      <td>1.43750</td>\n",
       "      <td>-0.03125</td>\n",
       "      <td>...</td>\n",
       "      <td>NaN</td>\n",
       "      <td>NaN</td>\n",
       "      <td>NaN</td>\n",
       "      <td>NaN</td>\n",
       "      <td>NaN</td>\n",
       "      <td>NaN</td>\n",
       "      <td>NaN</td>\n",
       "      <td>NaN</td>\n",
       "      <td>NaN</td>\n",
       "      <td>93</td>\n",
       "    </tr>\n",
       "    <tr>\n",
       "      <th>...</th>\n",
       "      <td>...</td>\n",
       "      <td>...</td>\n",
       "      <td>...</td>\n",
       "      <td>...</td>\n",
       "      <td>...</td>\n",
       "      <td>...</td>\n",
       "      <td>...</td>\n",
       "      <td>...</td>\n",
       "      <td>...</td>\n",
       "      <td>...</td>\n",
       "      <td>...</td>\n",
       "      <td>...</td>\n",
       "      <td>...</td>\n",
       "      <td>...</td>\n",
       "      <td>...</td>\n",
       "      <td>...</td>\n",
       "      <td>...</td>\n",
       "      <td>...</td>\n",
       "      <td>...</td>\n",
       "      <td>...</td>\n",
       "      <td>...</td>\n",
       "    </tr>\n",
       "    <tr>\n",
       "      <th>44796</th>\n",
       "      <td>NaN</td>\n",
       "      <td>3.62500</td>\n",
       "      <td>-8.40625</td>\n",
       "      <td>-7.40625</td>\n",
       "      <td>5.28125</td>\n",
       "      <td>-8.93750</td>\n",
       "      <td>3.12500</td>\n",
       "      <td>-7.09375</td>\n",
       "      <td>-9.40625</td>\n",
       "      <td>NaN</td>\n",
       "      <td>...</td>\n",
       "      <td>NaN</td>\n",
       "      <td>NaN</td>\n",
       "      <td>NaN</td>\n",
       "      <td>NaN</td>\n",
       "      <td>NaN</td>\n",
       "      <td>NaN</td>\n",
       "      <td>NaN</td>\n",
       "      <td>NaN</td>\n",
       "      <td>NaN</td>\n",
       "      <td>7</td>\n",
       "    </tr>\n",
       "    <tr>\n",
       "      <th>44797</th>\n",
       "      <td>NaN</td>\n",
       "      <td>-6.53125</td>\n",
       "      <td>-2.34375</td>\n",
       "      <td>1.43750</td>\n",
       "      <td>-4.37500</td>\n",
       "      <td>-9.90625</td>\n",
       "      <td>-4.06250</td>\n",
       "      <td>-3.93750</td>\n",
       "      <td>-9.00000</td>\n",
       "      <td>NaN</td>\n",
       "      <td>...</td>\n",
       "      <td>NaN</td>\n",
       "      <td>NaN</td>\n",
       "      <td>NaN</td>\n",
       "      <td>NaN</td>\n",
       "      <td>NaN</td>\n",
       "      <td>NaN</td>\n",
       "      <td>NaN</td>\n",
       "      <td>NaN</td>\n",
       "      <td>NaN</td>\n",
       "      <td>69</td>\n",
       "    </tr>\n",
       "    <tr>\n",
       "      <th>44798</th>\n",
       "      <td>NaN</td>\n",
       "      <td>8.93750</td>\n",
       "      <td>9.78125</td>\n",
       "      <td>9.53125</td>\n",
       "      <td>9.50000</td>\n",
       "      <td>9.93750</td>\n",
       "      <td>9.87500</td>\n",
       "      <td>9.96875</td>\n",
       "      <td>9.96875</td>\n",
       "      <td>NaN</td>\n",
       "      <td>...</td>\n",
       "      <td>NaN</td>\n",
       "      <td>NaN</td>\n",
       "      <td>NaN</td>\n",
       "      <td>NaN</td>\n",
       "      <td>NaN</td>\n",
       "      <td>NaN</td>\n",
       "      <td>NaN</td>\n",
       "      <td>NaN</td>\n",
       "      <td>NaN</td>\n",
       "      <td>16</td>\n",
       "    </tr>\n",
       "    <tr>\n",
       "      <th>44799</th>\n",
       "      <td>NaN</td>\n",
       "      <td>-1.59375</td>\n",
       "      <td>4.53125</td>\n",
       "      <td>-9.21875</td>\n",
       "      <td>-3.09375</td>\n",
       "      <td>-1.96875</td>\n",
       "      <td>1.12500</td>\n",
       "      <td>-5.93750</td>\n",
       "      <td>-4.34375</td>\n",
       "      <td>NaN</td>\n",
       "      <td>...</td>\n",
       "      <td>NaN</td>\n",
       "      <td>NaN</td>\n",
       "      <td>NaN</td>\n",
       "      <td>NaN</td>\n",
       "      <td>NaN</td>\n",
       "      <td>NaN</td>\n",
       "      <td>NaN</td>\n",
       "      <td>NaN</td>\n",
       "      <td>NaN</td>\n",
       "      <td>8</td>\n",
       "    </tr>\n",
       "    <tr>\n",
       "      <th>44800</th>\n",
       "      <td>NaN</td>\n",
       "      <td>4.25000</td>\n",
       "      <td>6.59375</td>\n",
       "      <td>9.31250</td>\n",
       "      <td>8.25000</td>\n",
       "      <td>7.59375</td>\n",
       "      <td>6.84375</td>\n",
       "      <td>6.65625</td>\n",
       "      <td>6.06250</td>\n",
       "      <td>NaN</td>\n",
       "      <td>...</td>\n",
       "      <td>NaN</td>\n",
       "      <td>NaN</td>\n",
       "      <td>NaN</td>\n",
       "      <td>NaN</td>\n",
       "      <td>NaN</td>\n",
       "      <td>NaN</td>\n",
       "      <td>NaN</td>\n",
       "      <td>NaN</td>\n",
       "      <td>NaN</td>\n",
       "      <td>114</td>\n",
       "    </tr>\n",
       "  </tbody>\n",
       "</table>\n",
       "<p>44801 rows × 141 columns</p>\n",
       "</div>\n",
       "      <button class=\"colab-df-convert\" onclick=\"convertToInteractive('df-c64701ad-eb60-4d9b-9077-09add69d9491')\"\n",
       "              title=\"Convert this dataframe to an interactive table.\"\n",
       "              style=\"display:none;\">\n",
       "        \n",
       "  <svg xmlns=\"http://www.w3.org/2000/svg\" height=\"24px\"viewBox=\"0 0 24 24\"\n",
       "       width=\"24px\">\n",
       "    <path d=\"M0 0h24v24H0V0z\" fill=\"none\"/>\n",
       "    <path d=\"M18.56 5.44l.94 2.06.94-2.06 2.06-.94-2.06-.94-.94-2.06-.94 2.06-2.06.94zm-11 1L8.5 8.5l.94-2.06 2.06-.94-2.06-.94L8.5 2.5l-.94 2.06-2.06.94zm10 10l.94 2.06.94-2.06 2.06-.94-2.06-.94-.94-2.06-.94 2.06-2.06.94z\"/><path d=\"M17.41 7.96l-1.37-1.37c-.4-.4-.92-.59-1.43-.59-.52 0-1.04.2-1.43.59L10.3 9.45l-7.72 7.72c-.78.78-.78 2.05 0 2.83L4 21.41c.39.39.9.59 1.41.59.51 0 1.02-.2 1.41-.59l7.78-7.78 2.81-2.81c.8-.78.8-2.07 0-2.86zM5.41 20L4 18.59l7.72-7.72 1.47 1.35L5.41 20z\"/>\n",
       "  </svg>\n",
       "      </button>\n",
       "      \n",
       "  <style>\n",
       "    .colab-df-container {\n",
       "      display:flex;\n",
       "      flex-wrap:wrap;\n",
       "      gap: 12px;\n",
       "    }\n",
       "\n",
       "    .colab-df-convert {\n",
       "      background-color: #E8F0FE;\n",
       "      border: none;\n",
       "      border-radius: 50%;\n",
       "      cursor: pointer;\n",
       "      display: none;\n",
       "      fill: #1967D2;\n",
       "      height: 32px;\n",
       "      padding: 0 0 0 0;\n",
       "      width: 32px;\n",
       "    }\n",
       "\n",
       "    .colab-df-convert:hover {\n",
       "      background-color: #E2EBFA;\n",
       "      box-shadow: 0px 1px 2px rgba(60, 64, 67, 0.3), 0px 1px 3px 1px rgba(60, 64, 67, 0.15);\n",
       "      fill: #174EA6;\n",
       "    }\n",
       "\n",
       "    [theme=dark] .colab-df-convert {\n",
       "      background-color: #3B4455;\n",
       "      fill: #D2E3FC;\n",
       "    }\n",
       "\n",
       "    [theme=dark] .colab-df-convert:hover {\n",
       "      background-color: #434B5C;\n",
       "      box-shadow: 0px 1px 3px 1px rgba(0, 0, 0, 0.15);\n",
       "      filter: drop-shadow(0px 1px 2px rgba(0, 0, 0, 0.3));\n",
       "      fill: #FFFFFF;\n",
       "    }\n",
       "  </style>\n",
       "\n",
       "      <script>\n",
       "        const buttonEl =\n",
       "          document.querySelector('#df-c64701ad-eb60-4d9b-9077-09add69d9491 button.colab-df-convert');\n",
       "        buttonEl.style.display =\n",
       "          google.colab.kernel.accessAllowed ? 'block' : 'none';\n",
       "\n",
       "        async function convertToInteractive(key) {\n",
       "          const element = document.querySelector('#df-c64701ad-eb60-4d9b-9077-09add69d9491');\n",
       "          const dataTable =\n",
       "            await google.colab.kernel.invokeFunction('convertToInteractive',\n",
       "                                                     [key], {});\n",
       "          if (!dataTable) return;\n",
       "\n",
       "          const docLinkHtml = 'Like what you see? Visit the ' +\n",
       "            '<a target=\"_blank\" href=https://colab.research.google.com/notebooks/data_table.ipynb>data table notebook</a>'\n",
       "            + ' to learn more about interactive tables.';\n",
       "          element.innerHTML = '';\n",
       "          dataTable['output_type'] = 'display_data';\n",
       "          await google.colab.output.renderOutput(dataTable, element);\n",
       "          const docLink = document.createElement('div');\n",
       "          docLink.innerHTML = docLinkHtml;\n",
       "          element.appendChild(docLink);\n",
       "        }\n",
       "      </script>\n",
       "    </div>\n",
       "  </div>\n",
       "  "
      ],
      "text/plain": [
       "             5        7        8       13       15       16       17       18  \\\n",
       "0      0.21875 -9.28125 -9.28125 -6.78125  0.87500 -9.65625 -9.03125 -7.46875   \n",
       "1     -9.68750  9.93750  9.53125  9.93750  0.40625  3.71875  9.65625 -2.68750   \n",
       "2      6.90625  4.75000 -5.90625 -0.40625 -4.03125  3.87500  6.21875  5.65625   \n",
       "3     -0.03125 -9.09375 -0.40625  7.50000 -7.21875 -9.43750  0.12500 -9.15625   \n",
       "4     -2.90625 -2.34375 -0.50000 -0.96875  2.25000  0.40625  0.87500  0.40625   \n",
       "...        ...      ...      ...      ...      ...      ...      ...      ...   \n",
       "44796      NaN  3.62500 -8.40625 -7.40625  5.28125 -8.93750  3.12500 -7.09375   \n",
       "44797      NaN -6.53125 -2.34375  1.43750 -4.37500 -9.90625 -4.06250 -3.93750   \n",
       "44798      NaN  8.93750  9.78125  9.53125  9.50000  9.93750  9.87500  9.96875   \n",
       "44799      NaN -1.59375  4.53125 -9.21875 -3.09375 -1.96875  1.12500 -5.93750   \n",
       "44800      NaN  4.25000  6.59375  9.31250  8.25000  7.59375  6.84375  6.65625   \n",
       "\n",
       "            19       20  ...  142  143  144  145  146  147  148  149  150  \\\n",
       "0     -8.71875 -9.15625  ...  NaN  NaN  NaN  NaN  NaN  NaN  NaN  NaN  NaN   \n",
       "1     -9.56250 -9.12500  ...  NaN  NaN  NaN  NaN  NaN  NaN  NaN  NaN  NaN   \n",
       "2      6.09375  5.40625  ...  NaN  NaN  NaN  NaN  NaN  NaN  NaN  NaN  NaN   \n",
       "3      3.65625 -9.43750  ...  NaN  NaN  NaN  NaN  NaN  NaN  NaN  NaN  NaN   \n",
       "4      1.43750 -0.03125  ...  NaN  NaN  NaN  NaN  NaN  NaN  NaN  NaN  NaN   \n",
       "...        ...      ...  ...  ...  ...  ...  ...  ...  ...  ...  ...  ...   \n",
       "44796 -9.40625      NaN  ...  NaN  NaN  NaN  NaN  NaN  NaN  NaN  NaN  NaN   \n",
       "44797 -9.00000      NaN  ...  NaN  NaN  NaN  NaN  NaN  NaN  NaN  NaN  NaN   \n",
       "44798  9.96875      NaN  ...  NaN  NaN  NaN  NaN  NaN  NaN  NaN  NaN  NaN   \n",
       "44799 -4.34375      NaN  ...  NaN  NaN  NaN  NaN  NaN  NaN  NaN  NaN  NaN   \n",
       "44800  6.06250      NaN  ...  NaN  NaN  NaN  NaN  NaN  NaN  NaN  NaN  NaN   \n",
       "\n",
       "       test_joke_idx  \n",
       "0                109  \n",
       "1                 50  \n",
       "2                 22  \n",
       "3                 21  \n",
       "4                 93  \n",
       "...              ...  \n",
       "44796              7  \n",
       "44797             69  \n",
       "44798             16  \n",
       "44799              8  \n",
       "44800            114  \n",
       "\n",
       "[44801 rows x 141 columns]"
      ]
     },
     "execution_count": 227,
     "metadata": {},
     "output_type": "execute_result"
    }
   ],
   "source": [
    "proc_filtered"
   ]
  },
  {
   "cell_type": "code",
   "execution_count": 237,
   "metadata": {
    "id": "7uSft01cCg_Y"
   },
   "outputs": [],
   "source": [
    "test_rating=[]\n",
    "for i in range(44801):\n",
    "  idx=str(proc_filtered.loc[i,'test_joke_idx'])\n",
    "  test_rating.append(proc_filtered.loc[i,idx])"
   ]
  },
  {
   "cell_type": "code",
   "execution_count": 240,
   "metadata": {
    "colab": {
     "base_uri": "https://localhost:8080/"
    },
    "id": "vzpdly6jCwPm",
    "outputId": "7eda41af-5769-4fc0-e1a7-1bc004666256"
   },
   "outputs": [
    {
     "data": {
      "text/plain": [
       "0.03125"
      ]
     },
     "execution_count": 240,
     "metadata": {},
     "output_type": "execute_result"
    }
   ],
   "source": [
    "min(test_rating)"
   ]
  },
  {
   "cell_type": "code",
   "execution_count": null,
   "metadata": {
    "id": "gflkmMqqChBh"
   },
   "outputs": [],
   "source": []
  },
  {
   "cell_type": "markdown",
   "metadata": {
    "id": "iLh9bop_Cn99"
   },
   "source": [
    "# Evaluation"
   ]
  },
  {
   "cell_type": "code",
   "execution_count": null,
   "metadata": {
    "id": "X1dIcus_UU-Z"
   },
   "outputs": [],
   "source": [
    "from sklearn.metrics import ndcg_score"
   ]
  },
  {
   "cell_type": "code",
   "execution_count": null,
   "metadata": {
    "colab": {
     "base_uri": "https://localhost:8080/"
    },
    "id": "zTOI1fiUU9Jx",
    "outputId": "39430fae-2902-4bb4-e04c-4c894c940fec"
   },
   "outputs": [
    {
     "data": {
      "text/plain": [
       "0.8876414707651327"
      ]
     },
     "execution_count": 57,
     "metadata": {},
     "output_type": "execute_result"
    }
   ],
   "source": [
    "user_id=0\n",
    "ndcg_score(np.asarray([df_processed.loc[user_id]]), np.asarray([restored.loc[user_id]]))"
   ]
  },
  {
   "cell_type": "code",
   "execution_count": null,
   "metadata": {
    "colab": {
     "base_uri": "https://localhost:8080/"
    },
    "id": "uDUuYPI4mS_W",
    "outputId": "cf3b6b93-557d-4e5b-eb3c-a4e24d627651"
   },
   "outputs": [
    {
     "data": {
      "text/plain": [
       "array([2, 1, 4, 3])"
      ]
     },
     "execution_count": 59,
     "metadata": {},
     "output_type": "execute_result"
    }
   ],
   "source": [
    "arr=np.array([4,5,1,3])\n",
    "arr.argsort()[::-1].argsort()+1"
   ]
  },
  {
   "cell_type": "code",
   "execution_count": null,
   "metadata": {
    "id": "pHESYJt6o6Kl"
   },
   "outputs": [],
   "source": [
    "def get_rank(arr):\n",
    "  return arr.argsort()[::-1].argsort()+1"
   ]
  },
  {
   "cell_type": "code",
   "execution_count": null,
   "metadata": {
    "id": "6cNtzLzjpAcE"
   },
   "outputs": [],
   "source": [
    "gt_rank=get_rank(df_processed.loc[user_id])\n",
    "pred_rank=get_rank(restored.loc[user_id])"
   ]
  },
  {
   "cell_type": "code",
   "execution_count": null,
   "metadata": {
    "colab": {
     "base_uri": "https://localhost:8080/"
    },
    "id": "cgAfn3k3pAeg",
    "outputId": "c6b0fd8e-4dd4-447b-96da-97472042580c"
   },
   "outputs": [
    {
     "data": {
      "text/plain": [
       "array([[150,  72,  73,  74,  35,  75,  60,  61,  76,  77,  78,  79,  50,\n",
       "         80,  32,  62,  58,  52,  56,  59,  51,  57,  55,  54,  53,  43,\n",
       "         10,  81,  11,  82,  13,  14,  84,  48,  16,  17,  85,  86,  87,\n",
       "         88,  89,  39,  90,  71,  70,  67,  66,  63,  40,   1,  41,  37,\n",
       "         12,  24,  68,  65,  64,  91,  83,  93,  42,  34, 108, 125,  18,\n",
       "         22, 126,  46,  21, 127, 128,  15, 129, 130,  92,   5, 132, 133,\n",
       "        134,  38,  36, 135,   6, 136, 137, 138,  25, 139,   2, 140,  19,\n",
       "         27,   4, 141, 142, 143, 144, 145, 146, 147, 148,  33,  49,  29,\n",
       "         31,  47,  30,  26,   3, 149, 124, 123, 122, 121,  95,  96,  97,\n",
       "         44,   8,   7,  20,  98,   9,  99, 100, 101,  23,  45, 102, 103,\n",
       "        104, 105, 106,  28,  94, 107, 109, 110, 111, 112, 113, 114, 115,\n",
       "        116, 117, 118, 119, 120, 131,  69]])"
      ]
     },
     "execution_count": 64,
     "metadata": {},
     "output_type": "execute_result"
    }
   ],
   "source": [
    "np.asarray([gt_rank])"
   ]
  },
  {
   "cell_type": "code",
   "execution_count": null,
   "metadata": {
    "colab": {
     "base_uri": "https://localhost:8080/"
    },
    "id": "pJ0LKiFRpAi5",
    "outputId": "9a607f85-2e14-41dc-99fc-8c1850c15fcb"
   },
   "outputs": [
    {
     "data": {
      "text/plain": [
       "0.5190368261143826"
      ]
     },
     "execution_count": 71,
     "metadata": {},
     "output_type": "execute_result"
    }
   ],
   "source": [
    "ndcg_score(np.asarray([gt_rank]), np.asarray([pred_rank]), k=10)"
   ]
  },
  {
   "cell_type": "code",
   "execution_count": null,
   "metadata": {
    "id": "rRpshBmTpAk1"
   },
   "outputs": [],
   "source": [
    "ndcg_cum=0\n",
    "for user_id in range(len(df_processed)):\n",
    "  gt_rank=get_rank(df_processed.loc[user_id])\n",
    "  pred_rank=get_rank(restored.loc[user_id])\n",
    "  ndcg_cum+=ndcg_score(np.asarray([gt_rank]), np.asarray([pred_rank]), k=10)"
   ]
  },
  {
   "cell_type": "code",
   "execution_count": null,
   "metadata": {
    "colab": {
     "base_uri": "https://localhost:8080/"
    },
    "id": "dbnaIGZyq-Ki",
    "outputId": "ab8af6be-c298-4228-da28-40b1c2a20c51"
   },
   "outputs": [
    {
     "data": {
      "text/plain": [
       "0.605376949965302"
      ]
     },
     "execution_count": 80,
     "metadata": {},
     "output_type": "execute_result"
    }
   ],
   "source": [
    "ndcg_total=ndcg_cum/len(df_processed)\n",
    "ndcg_total #for k=5"
   ]
  },
  {
   "cell_type": "code",
   "execution_count": null,
   "metadata": {
    "colab": {
     "base_uri": "https://localhost:8080/"
    },
    "id": "-oGZQAYCq-HZ",
    "outputId": "a85e1e17-88a2-40a5-c8b0-7a312ace158c"
   },
   "outputs": [
    {
     "data": {
      "text/plain": [
       "0.6078611202443114"
      ]
     },
     "execution_count": 82,
     "metadata": {},
     "output_type": "execute_result"
    }
   ],
   "source": [
    "ndcg_total=ndcg_cum/len(df_processed)\n",
    "ndcg_total #for k=10"
   ]
  },
  {
   "cell_type": "code",
   "execution_count": null,
   "metadata": {
    "id": "cHxWeba2Cme4"
   },
   "outputs": [],
   "source": [
    "hit=0\n",
    "k=10\n",
    "for user_id in range(len(df_processed)):\n",
    "  top_k_pred=list(restored.loc[user_id].sort_values(ascending=False).index[:k])\n",
    "  top_true=df_processed.loc[user_id].sort_values(ascending=False).index[0]\n",
    "  if top_true in top_k_pred:\n",
    "    hit+=1"
   ]
  },
  {
   "cell_type": "code",
   "execution_count": null,
   "metadata": {
    "colab": {
     "base_uri": "https://localhost:8080/"
    },
    "id": "LKis-3ZACmiu",
    "outputId": "8ba7d715-d6cf-493f-8409-91bff93365b3"
   },
   "outputs": [
    {
     "data": {
      "text/plain": [
       "0.30601948820690283"
      ]
     },
     "execution_count": 44,
     "metadata": {},
     "output_type": "execute_result"
    }
   ],
   "source": [
    "hit_ratio=hit/len(df_processed)\n",
    "hit_ratio #for k=5"
   ]
  },
  {
   "cell_type": "code",
   "execution_count": null,
   "metadata": {
    "colab": {
     "base_uri": "https://localhost:8080/"
    },
    "id": "NjAMDk1ECmmP",
    "outputId": "028104cf-90d1-4001-a454-b08aeaf10496"
   },
   "outputs": [
    {
     "data": {
      "text/plain": [
       "0.5148893543393134"
      ]
     },
     "execution_count": 46,
     "metadata": {},
     "output_type": "execute_result"
    }
   ],
   "source": [
    "hit_ratio=hit/len(df_processed)\n",
    "hit_ratio #for k=10"
   ]
  },
  {
   "cell_type": "markdown",
   "metadata": {
    "id": "0ThOvqcAuX8Y"
   },
   "source": [
    "## Naive approach evaluation"
   ]
  },
  {
   "cell_type": "code",
   "execution_count": null,
   "metadata": {
    "colab": {
     "base_uri": "https://localhost:8080/"
    },
    "id": "uc6gSt7mue8F",
    "outputId": "3c5abb8f-58a9-4de4-fbdb-79a078d26d4e"
   },
   "outputs": [
    {
     "data": {
      "text/plain": [
       "1       0.000000\n",
       "2       0.000000\n",
       "3       0.000000\n",
       "4       0.000000\n",
       "5       0.288287\n",
       "         ...    \n",
       "146     2.824381\n",
       "147     5.914830\n",
       "148     9.696221\n",
       "149     6.799298\n",
       "150    11.493085\n",
       "Length: 150, dtype: float64"
      ]
     },
     "execution_count": 78,
     "metadata": {},
     "output_type": "execute_result"
    }
   ],
   "source": [
    "naive_pred=df_processed.mean()\n",
    "naive_pred"
   ]
  },
  {
   "cell_type": "code",
   "execution_count": null,
   "metadata": {
    "id": "0nFvZmbxuW20"
   },
   "outputs": [],
   "source": [
    "#ndcg\n",
    "ndcg_cum=0\n",
    "naive_rank=get_rank(naive_pred)\n",
    "for user_id in range(len(df_processed)):\n",
    "  gt_rank=get_rank(df_processed.loc[user_id])\n",
    "  ndcg_cum+=ndcg_score(np.asarray([gt_rank]), np.asarray([naive_rank]), k=10)"
   ]
  },
  {
   "cell_type": "code",
   "execution_count": null,
   "metadata": {
    "colab": {
     "base_uri": "https://localhost:8080/"
    },
    "id": "qm61NLMyuW5f",
    "outputId": "036b1923-7058-4997-a841-1fb1f713a478"
   },
   "outputs": [
    {
     "data": {
      "text/plain": [
       "0.6135019662129706"
      ]
     },
     "execution_count": 84,
     "metadata": {},
     "output_type": "execute_result"
    }
   ],
   "source": [
    "ndcg_total=ndcg_cum/len(df_processed)\n",
    "ndcg_total #for k=5"
   ]
  },
  {
   "cell_type": "code",
   "execution_count": null,
   "metadata": {
    "colab": {
     "base_uri": "https://localhost:8080/"
    },
    "id": "zvxTXZYYwJAq",
    "outputId": "d23ffbf7-5ae8-4a55-f384-1fc963b82ef8"
   },
   "outputs": [
    {
     "data": {
      "text/plain": [
       "0.5629028558834749"
      ]
     },
     "execution_count": 86,
     "metadata": {},
     "output_type": "execute_result"
    }
   ],
   "source": [
    "ndcg_total=ndcg_cum/len(df_processed)\n",
    "ndcg_total #for k=10"
   ]
  },
  {
   "cell_type": "code",
   "execution_count": null,
   "metadata": {
    "id": "wJ3wNGtCuW7_"
   },
   "outputs": [],
   "source": [
    "#hit ratio\n",
    "hit=0\n",
    "k=10\n",
    "naive_top_k_pred=list(naive_pred.sort_values(ascending=False).index[:k])\n",
    "for user_id in range(len(df_processed)):\n",
    "  top_true=df_processed.loc[user_id].sort_values(ascending=False).index[0]\n",
    "  if top_true in naive_top_k_pred:\n",
    "    hit+=1"
   ]
  },
  {
   "cell_type": "code",
   "execution_count": null,
   "metadata": {
    "colab": {
     "base_uri": "https://localhost:8080/"
    },
    "id": "A12_P-YBuW-R",
    "outputId": "89be2a94-8b28-4b02-e6ca-a73db20af768"
   },
   "outputs": [
    {
     "data": {
      "text/plain": [
       "0.260304161733904"
      ]
     },
     "execution_count": 89,
     "metadata": {},
     "output_type": "execute_result"
    }
   ],
   "source": [
    "hit_ratio=hit/len(df_processed)\n",
    "hit_ratio #for k=5"
   ]
  },
  {
   "cell_type": "code",
   "execution_count": null,
   "metadata": {
    "colab": {
     "base_uri": "https://localhost:8080/"
    },
    "id": "vYdR3vhEwont",
    "outputId": "6b36bbea-82b8-41c5-c2ae-108776db0ae3"
   },
   "outputs": [
    {
     "data": {
      "text/plain": [
       "0.44050632911392407"
      ]
     },
     "execution_count": 91,
     "metadata": {},
     "output_type": "execute_result"
    }
   ],
   "source": [
    "hit_ratio=hit/len(df_processed)\n",
    "hit_ratio #for k=10"
   ]
  },
  {
   "cell_type": "markdown",
   "metadata": {
    "id": "Mgifv95xxg3P"
   },
   "source": [
    "## Below here is just for reference\n",
    "- Codes we can refer for more advanced models:\n",
    "- https://github.com/microsoft/recommenders\n",
    "- https://github.com/microsoft/recommenders/blob/main/examples/02_model_collaborative_filtering/lightgcn_deep_dive.ipynb\n",
    "- https://github.com/microsoft/recommenders/blob/main/examples/02_model_collaborative_filtering/standard_vae_deep_dive.ipynb\n"
   ]
  },
  {
   "cell_type": "code",
   "execution_count": null,
   "metadata": {
    "id": "ZgDgNOzoKL5o"
   },
   "outputs": [],
   "source": [
    "df_svd_preds = pd.DataFrame(svd_user_predicted_link,index= ply_pivot1.index ,columns = ply_pivot1.columns)\n",
    "df_svd_preds"
   ]
  },
  {
   "cell_type": "code",
   "execution_count": null,
   "metadata": {
    "id": "XgwaqCJeKLzW"
   },
   "outputs": [],
   "source": [
    "#우리가 캡스톤에 사용했던 방식은 결국 leave one out인거암. \n",
    "def recommend_songs(df_svd_preds, user_id, ori_link_df, num_recommendations):\n",
    "    # 최종적으로 만든 pred_df에서 사용자 index에 따라 곡 데이터 정렬 -> 영화 유사도가 높은 순으로 정렬 됌\n",
    "    sorted_user_predictions = df_svd_preds.loc[user_id].sort_values(ascending=False)\n",
    "    # 원본 곡 데이터에서 user id에 해당하는 데이터를 뽑아낸다. \n",
    "    #user_data = ori_link_df.loc[user_id]\n",
    "    # 사용자의 곡 유사도가 높은 순으로 정렬된 데이터와 위 recommendations을 합친다. \n",
    "    recommendations = pd.DataFrame(sorted_user_predictions).reset_index()\n",
    "    # 컬럼 이름 바꾸고 정렬해서 return\n",
    "    recommendations = recommendations.rename(columns = {user_id: 'Predictions'}).sort_values('Predictions', ascending = False).iloc[:num_recommendations, :]\n",
    "    return recommendations"
   ]
  },
  {
   "cell_type": "code",
   "execution_count": null,
   "metadata": {
    "id": "Ne4XD6RuKLwy"
   },
   "outputs": [],
   "source": [
    "predictions = recommend_songs(df_svd_preds, 23431, ply_pivot1, 100)"
   ]
  },
  {
   "cell_type": "code",
   "execution_count": null,
   "metadata": {
    "id": "FqLbr3cWIMuv"
   },
   "outputs": [],
   "source": [
    "predictions"
   ]
  },
  {
   "cell_type": "code",
   "execution_count": null,
   "metadata": {
    "id": "Xm66_NpReTIw"
   },
   "outputs": [],
   "source": [
    "import json\n",
    " \n",
    "# Ready for data\n",
    "songs = []\n",
    "song = {}\n",
    "for name in ply_pivot_val.id:\n",
    "  song['id'] = name\n",
    "  song['songs'] = list(recommend_songs(df_svd_preds, name, ply_pivot1, 100)['song_id'])\n",
    "  songs.append(song)\n",
    "\n",
    " \n",
    "# Print JSON\n",
    "print(json.dumps(songs, indent=\"\\t\") )"
   ]
  },
  {
   "cell_type": "code",
   "execution_count": null,
   "metadata": {
    "id": "vKOuvmbHgZH1"
   },
   "outputs": [],
   "source": [
    "# Write JSON\n",
    "with open('./답안/res.json', 'w', encoding=\"utf-8\") as make_file:\n",
    "    json.dump(songs, make_file, ensure_ascii=False, indent=\"\\t\")"
   ]
  },
  {
   "cell_type": "code",
   "execution_count": null,
   "metadata": {
    "id": "R02IpfIpipo3"
   },
   "outputs": [],
   "source": [
    "f = open('./답안/res.json', encoding=\"UTF-8\")\n",
    "raw_data = json.loads(f.read())\n",
    "raw_data"
   ]
  },
  {
   "cell_type": "code",
   "execution_count": null,
   "metadata": {
    "id": "apsW0PU88TQU"
   },
   "outputs": [],
   "source": []
  },
  {
   "cell_type": "code",
   "execution_count": null,
   "metadata": {
    "id": "nsEwZ3yD8TKv"
   },
   "outputs": [],
   "source": []
  }
 ],
 "metadata": {
  "colab": {
   "collapsed_sections": [
    "iLh9bop_Cn99",
    "0ThOvqcAuX8Y",
    "Mgifv95xxg3P"
   ],
   "include_colab_link": true,
   "machine_shape": "hm",
   "provenance": []
  },
  "kernelspec": {
   "display_name": "Python 3 (ipykernel)",
   "language": "python",
   "name": "python3"
  },
  "language_info": {
   "codemirror_mode": {
    "name": "ipython",
    "version": 3
   },
   "file_extension": ".py",
   "mimetype": "text/x-python",
   "name": "python",
   "nbconvert_exporter": "python",
   "pygments_lexer": "ipython3",
   "version": "3.8.12"
  }
 },
 "nbformat": 4,
 "nbformat_minor": 1
}
