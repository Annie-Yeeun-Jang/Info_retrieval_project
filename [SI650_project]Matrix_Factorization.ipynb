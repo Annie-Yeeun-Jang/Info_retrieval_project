{
  "nbformat": 4,
  "nbformat_minor": 0,
  "metadata": {
    "colab": {
      "provenance": [],
      "machine_shape": "hm",
      "include_colab_link": true
    },
    "kernelspec": {
      "name": "python3",
      "display_name": "Python 3"
    }
  },
  "cells": [
    {
      "cell_type": "markdown",
      "metadata": {
        "id": "view-in-github",
        "colab_type": "text"
      },
      "source": [
        "<a href=\"https://colab.research.google.com/github/Annie-Yeeun-Jang/Info_retrieval_project/blob/master/%5BSI650_project%5DMatrix_Factorization.ipynb\" target=\"_parent\"><img src=\"https://colab.research.google.com/assets/colab-badge.svg\" alt=\"Open In Colab\"/></a>"
      ]
    },
    {
      "cell_type": "code",
      "metadata": {
        "id": "SvzCEzXtgq_F"
      },
      "source": [
        "import json\n",
        "import os\n",
        "import numpy as np\n",
        "import pandas as pd\n",
        "import matplotlib.pyplot as plt\n",
        "from scipy.sparse.linalg import svds\n",
        "\n",
        "from google.colab import drive\n",
        "drive.mount('/content/gdrive')\n",
        "\n",
        "import os\n",
        "os.chdir('/content/gdrive/MyDrive/650/team_proj')"
      ],
      "execution_count": null,
      "outputs": []
    },
    {
      "cell_type": "code",
      "source": [
        "!pip install --upgrade xlrd"
      ],
      "metadata": {
        "id": "qpsyTIbFkUkU"
      },
      "execution_count": null,
      "outputs": []
    },
    {
      "cell_type": "code",
      "source": [
        "!pip install surprise"
      ],
      "metadata": {
        "id": "pF5zxWgiF7bu"
      },
      "execution_count": null,
      "outputs": []
    },
    {
      "cell_type": "code",
      "source": [
        "jester=pd.read_excel('./data/FINAL jester 2006-15.xls', header=None)"
      ],
      "metadata": {
        "id": "5GtjY87ZjpNE"
      },
      "execution_count": null,
      "outputs": []
    },
    {
      "cell_type": "code",
      "source": [
        "jester"
      ],
      "metadata": {
        "id": "w08fTmvKkkCL"
      },
      "execution_count": null,
      "outputs": []
    },
    {
      "cell_type": "code",
      "source": [
        "jester.isnull().sum().sum()"
      ],
      "metadata": {
        "colab": {
          "base_uri": "https://localhost:8080/"
        },
        "id": "nPiovAjflsVn",
        "outputId": "e1736bdb-3dbd-4905-b35f-86e03d1b4acb"
      },
      "execution_count": null,
      "outputs": [
        {
          "output_type": "execute_result",
          "data": {
            "text/plain": [
              "28"
            ]
          },
          "metadata": {},
          "execution_count": 6
        }
      ]
    },
    {
      "cell_type": "code",
      "source": [
        "import numpy as np"
      ],
      "metadata": {
        "id": "cZs24I8O5TCr"
      },
      "execution_count": null,
      "outputs": []
    },
    {
      "cell_type": "code",
      "source": [
        "jester=jester.replace(99.0, np.nan)"
      ],
      "metadata": {
        "id": "h1baP7Xu4-lR"
      },
      "execution_count": null,
      "outputs": []
    },
    {
      "cell_type": "code",
      "source": [
        "jester.notnull().sum().sum()"
      ],
      "metadata": {
        "colab": {
          "base_uri": "https://localhost:8080/"
        },
        "id": "P2SloFwf6Fze",
        "outputId": "5a15b1be-3467-473c-a48d-aaf5162b164f"
      },
      "execution_count": null,
      "outputs": [
        {
          "output_type": "execute_result",
          "data": {
            "text/plain": [
              "1897190"
            ]
          },
          "metadata": {},
          "execution_count": 9
        }
      ]
    },
    {
      "cell_type": "code",
      "source": [
        "jester.notnull().sum()"
      ],
      "metadata": {
        "colab": {
          "base_uri": "https://localhost:8080/"
        },
        "id": "4IFGk9b16SKs",
        "outputId": "fdd834c5-0558-477d-80a9-53116848e11e"
      },
      "execution_count": null,
      "outputs": [
        {
          "output_type": "execute_result",
          "data": {
            "text/plain": [
              "0      54820\n",
              "1          0\n",
              "2          0\n",
              "3          0\n",
              "4          0\n",
              "       ...  \n",
              "146     5134\n",
              "147    10218\n",
              "148    16148\n",
              "149    11524\n",
              "150    19256\n",
              "Length: 151, dtype: int64"
            ]
          },
          "metadata": {},
          "execution_count": 10
        }
      ]
    },
    {
      "cell_type": "code",
      "source": [
        "import matplotlib.pyplot as plt\n"
      ],
      "metadata": {
        "id": "FgOvdXj36WgP"
      },
      "execution_count": null,
      "outputs": []
    },
    {
      "cell_type": "code",
      "source": [
        "jester.notnull().sum()"
      ],
      "metadata": {
        "colab": {
          "base_uri": "https://localhost:8080/"
        },
        "id": "qQgGvWbevAwe",
        "outputId": "7508e5b0-b807-4594-ffee-4f47a93d8701"
      },
      "execution_count": null,
      "outputs": [
        {
          "output_type": "execute_result",
          "data": {
            "text/plain": [
              "0      54820\n",
              "1          0\n",
              "2          0\n",
              "3          0\n",
              "4          0\n",
              "       ...  \n",
              "146     5134\n",
              "147    10218\n",
              "148    16148\n",
              "149    11524\n",
              "150    19256\n",
              "Length: 151, dtype: int64"
            ]
          },
          "metadata": {},
          "execution_count": 9
        }
      ]
    },
    {
      "cell_type": "code",
      "source": [
        "plt.hist(jester.notnull().sum()) #num of ratings each joke recieved\n",
        "plt.xlabel('# of ratings') #right skewed\n",
        "plt.ylabel('Counts') \n",
        "plt.title('Histogram of # each joke is rated')"
      ],
      "metadata": {
        "colab": {
          "base_uri": "https://localhost:8080/",
          "height": 312
        },
        "id": "KYwx0Zer6e6T",
        "outputId": "aae8249c-8d5a-4748-b9c3-c06d471ac455"
      },
      "execution_count": null,
      "outputs": [
        {
          "output_type": "execute_result",
          "data": {
            "text/plain": [
              "Text(0.5, 1.0, 'Histogram of # each joke is rated')"
            ]
          },
          "metadata": {},
          "execution_count": 11
        },
        {
          "output_type": "display_data",
          "data": {
            "text/plain": [
              "<Figure size 432x288 with 1 Axes>"
            ],
            "image/png": "[encoded data removed]"
          },
          "metadata": {
            "needs_background": "light"
          }
        }
      ]
    },
    {
      "cell_type": "code",
      "source": [
        "df_processed=jester.drop(columns=[0])+30\n",
        "df_processed"
      ],
      "metadata": {
        "colab": {
          "base_uri": "https://localhost:8080/",
          "height": 424
        },
        "id": "NM6JC3mU8gNP",
        "outputId": "86940d91-880a-4526-dcaa-8b067f754b46"
      },
      "execution_count": null,
      "outputs": [
        {
          "output_type": "execute_result",
          "data": {
            "text/plain": [
              "       1    2    3    4         5    6         7         8    9    10   ...  \\\n",
              "0      NaN  NaN  NaN  NaN  30.21875  NaN  20.71875  20.71875  NaN  NaN  ...   \n",
              "1      NaN  NaN  NaN  NaN  20.31250  NaN  39.93750  39.53125  NaN  NaN  ...   \n",
              "2      NaN  NaN  NaN  NaN  20.15625  NaN  20.15625  22.78125  NaN  NaN  ...   \n",
              "3      NaN  NaN  NaN  NaN  36.90625  NaN  34.75000  24.09375  NaN  NaN  ...   \n",
              "4      NaN  NaN  NaN  NaN  29.96875  NaN  20.90625  29.59375  NaN  NaN  ...   \n",
              "...    ...  ...  ...  ...       ...  ...       ...       ...  ...  ...  ...   \n",
              "54900  NaN  NaN  NaN  NaN       NaN  NaN  23.46875  27.65625  NaN  NaN  ...   \n",
              "54901  NaN  NaN  NaN  NaN       NaN  NaN  38.93750  39.78125  NaN  NaN  ...   \n",
              "54902  NaN  NaN  NaN  NaN       NaN  NaN  28.40625  34.53125  NaN  NaN  ...   \n",
              "54903  NaN  NaN  NaN  NaN       NaN  NaN  22.59375  36.93750  NaN  NaN  ...   \n",
              "54904  NaN  NaN  NaN  NaN       NaN  NaN  34.25000  36.59375  NaN  NaN  ...   \n",
              "\n",
              "       141  142  143  144  145  146  147  148  149  150  \n",
              "0      NaN  NaN  NaN  NaN  NaN  NaN  NaN  NaN  NaN  NaN  \n",
              "1      NaN  NaN  NaN  NaN  NaN  NaN  NaN  NaN  NaN  NaN  \n",
              "2      NaN  NaN  NaN  NaN  NaN  NaN  NaN  NaN  NaN  NaN  \n",
              "3      NaN  NaN  NaN  NaN  NaN  NaN  NaN  NaN  NaN  NaN  \n",
              "4      NaN  NaN  NaN  NaN  NaN  NaN  NaN  NaN  NaN  NaN  \n",
              "...    ...  ...  ...  ...  ...  ...  ...  ...  ...  ...  \n",
              "54900  NaN  NaN  NaN  NaN  NaN  NaN  NaN  NaN  NaN  NaN  \n",
              "54901  NaN  NaN  NaN  NaN  NaN  NaN  NaN  NaN  NaN  NaN  \n",
              "54902  NaN  NaN  NaN  NaN  NaN  NaN  NaN  NaN  NaN  NaN  \n",
              "54903  NaN  NaN  NaN  NaN  NaN  NaN  NaN  NaN  NaN  NaN  \n",
              "54904  NaN  NaN  NaN  NaN  NaN  NaN  NaN  NaN  NaN  NaN  \n",
              "\n",
              "[54905 rows x 150 columns]"
            ],
            "text/html": [
              "\n",
              "  <div id=\"df-11471d7b-f9e0-4699-ae3e-f9151a34a80f\">\n",
              "    <div class=\"colab-df-container\">\n",
              "      <div>\n",
              "<style scoped>\n",
              "    .dataframe tbody tr th:only-of-type {\n",
              "        vertical-align: middle;\n",
              "    }\n",
              "\n",
              "    .dataframe tbody tr th {\n",
              "        vertical-align: top;\n",
              "    }\n",
              "\n",
              "    .dataframe thead th {\n",
              "        text-align: right;\n",
              "    }\n",
              "</style>\n",
              "<table border=\"1\" class=\"dataframe\">\n",
              "  <thead>\n",
              "    <tr style=\"text-align: right;\">\n",
              "      <th></th>\n",
              "      <th>1</th>\n",
              "      <th>2</th>\n",
              "      <th>3</th>\n",
              "      <th>4</th>\n",
              "      <th>5</th>\n",
              "      <th>6</th>\n",
              "      <th>7</th>\n",
              "      <th>8</th>\n",
              "      <th>9</th>\n",
              "      <th>10</th>\n",
              "      <th>...</th>\n",
              "      <th>141</th>\n",
              "      <th>142</th>\n",
              "      <th>143</th>\n",
              "      <th>144</th>\n",
              "      <th>145</th>\n",
              "      <th>146</th>\n",
              "      <th>147</th>\n",
              "      <th>148</th>\n",
              "      <th>149</th>\n",
              "      <th>150</th>\n",
              "    </tr>\n",
              "  </thead>\n",
              "  <tbody>\n",
              "    <tr>\n",
              "      <th>0</th>\n",
              "      <td>NaN</td>\n",
              "      <td>NaN</td>\n",
              "      <td>NaN</td>\n",
              "      <td>NaN</td>\n",
              "      <td>30.21875</td>\n",
              "      <td>NaN</td>\n",
              "      <td>20.71875</td>\n",
              "      <td>20.71875</td>\n",
              "      <td>NaN</td>\n",
              "      <td>NaN</td>\n",
              "      <td>...</td>\n",
              "      <td>NaN</td>\n",
              "      <td>NaN</td>\n",
              "      <td>NaN</td>\n",
              "      <td>NaN</td>\n",
              "      <td>NaN</td>\n",
              "      <td>NaN</td>\n",
              "      <td>NaN</td>\n",
              "      <td>NaN</td>\n",
              "      <td>NaN</td>\n",
              "      <td>NaN</td>\n",
              "    </tr>\n",
              "    <tr>\n",
              "      <th>1</th>\n",
              "      <td>NaN</td>\n",
              "      <td>NaN</td>\n",
              "      <td>NaN</td>\n",
              "      <td>NaN</td>\n",
              "      <td>20.31250</td>\n",
              "      <td>NaN</td>\n",
              "      <td>39.93750</td>\n",
              "      <td>39.53125</td>\n",
              "      <td>NaN</td>\n",
              "      <td>NaN</td>\n",
              "      <td>...</td>\n",
              "      <td>NaN</td>\n",
              "      <td>NaN</td>\n",
              "      <td>NaN</td>\n",
              "      <td>NaN</td>\n",
              "      <td>NaN</td>\n",
              "      <td>NaN</td>\n",
              "      <td>NaN</td>\n",
              "      <td>NaN</td>\n",
              "      <td>NaN</td>\n",
              "      <td>NaN</td>\n",
              "    </tr>\n",
              "    <tr>\n",
              "      <th>2</th>\n",
              "      <td>NaN</td>\n",
              "      <td>NaN</td>\n",
              "      <td>NaN</td>\n",
              "      <td>NaN</td>\n",
              "      <td>20.15625</td>\n",
              "      <td>NaN</td>\n",
              "      <td>20.15625</td>\n",
              "      <td>22.78125</td>\n",
              "      <td>NaN</td>\n",
              "      <td>NaN</td>\n",
              "      <td>...</td>\n",
              "      <td>NaN</td>\n",
              "      <td>NaN</td>\n",
              "      <td>NaN</td>\n",
              "      <td>NaN</td>\n",
              "      <td>NaN</td>\n",
              "      <td>NaN</td>\n",
              "      <td>NaN</td>\n",
              "      <td>NaN</td>\n",
              "      <td>NaN</td>\n",
              "      <td>NaN</td>\n",
              "    </tr>\n",
              "    <tr>\n",
              "      <th>3</th>\n",
              "      <td>NaN</td>\n",
              "      <td>NaN</td>\n",
              "      <td>NaN</td>\n",
              "      <td>NaN</td>\n",
              "      <td>36.90625</td>\n",
              "      <td>NaN</td>\n",
              "      <td>34.75000</td>\n",
              "      <td>24.09375</td>\n",
              "      <td>NaN</td>\n",
              "      <td>NaN</td>\n",
              "      <td>...</td>\n",
              "      <td>NaN</td>\n",
              "      <td>NaN</td>\n",
              "      <td>NaN</td>\n",
              "      <td>NaN</td>\n",
              "      <td>NaN</td>\n",
              "      <td>NaN</td>\n",
              "      <td>NaN</td>\n",
              "      <td>NaN</td>\n",
              "      <td>NaN</td>\n",
              "      <td>NaN</td>\n",
              "    </tr>\n",
              "    <tr>\n",
              "      <th>4</th>\n",
              "      <td>NaN</td>\n",
              "      <td>NaN</td>\n",
              "      <td>NaN</td>\n",
              "      <td>NaN</td>\n",
              "      <td>29.96875</td>\n",
              "      <td>NaN</td>\n",
              "      <td>20.90625</td>\n",
              "      <td>29.59375</td>\n",
              "      <td>NaN</td>\n",
              "      <td>NaN</td>\n",
              "      <td>...</td>\n",
              "      <td>NaN</td>\n",
              "      <td>NaN</td>\n",
              "      <td>NaN</td>\n",
              "      <td>NaN</td>\n",
              "      <td>NaN</td>\n",
              "      <td>NaN</td>\n",
              "      <td>NaN</td>\n",
              "      <td>NaN</td>\n",
              "      <td>NaN</td>\n",
              "      <td>NaN</td>\n",
              "    </tr>\n",
              "    <tr>\n",
              "      <th>...</th>\n",
              "      <td>...</td>\n",
              "      <td>...</td>\n",
              "      <td>...</td>\n",
              "      <td>...</td>\n",
              "      <td>...</td>\n",
              "      <td>...</td>\n",
              "      <td>...</td>\n",
              "      <td>...</td>\n",
              "      <td>...</td>\n",
              "      <td>...</td>\n",
              "      <td>...</td>\n",
              "      <td>...</td>\n",
              "      <td>...</td>\n",
              "      <td>...</td>\n",
              "      <td>...</td>\n",
              "      <td>...</td>\n",
              "      <td>...</td>\n",
              "      <td>...</td>\n",
              "      <td>...</td>\n",
              "      <td>...</td>\n",
              "      <td>...</td>\n",
              "    </tr>\n",
              "    <tr>\n",
              "      <th>54900</th>\n",
              "      <td>NaN</td>\n",
              "      <td>NaN</td>\n",
              "      <td>NaN</td>\n",
              "      <td>NaN</td>\n",
              "      <td>NaN</td>\n",
              "      <td>NaN</td>\n",
              "      <td>23.46875</td>\n",
              "      <td>27.65625</td>\n",
              "      <td>NaN</td>\n",
              "      <td>NaN</td>\n",
              "      <td>...</td>\n",
              "      <td>NaN</td>\n",
              "      <td>NaN</td>\n",
              "      <td>NaN</td>\n",
              "      <td>NaN</td>\n",
              "      <td>NaN</td>\n",
              "      <td>NaN</td>\n",
              "      <td>NaN</td>\n",
              "      <td>NaN</td>\n",
              "      <td>NaN</td>\n",
              "      <td>NaN</td>\n",
              "    </tr>\n",
              "    <tr>\n",
              "      <th>54901</th>\n",
              "      <td>NaN</td>\n",
              "      <td>NaN</td>\n",
              "      <td>NaN</td>\n",
              "      <td>NaN</td>\n",
              "      <td>NaN</td>\n",
              "      <td>NaN</td>\n",
              "      <td>38.93750</td>\n",
              "      <td>39.78125</td>\n",
              "      <td>NaN</td>\n",
              "      <td>NaN</td>\n",
              "      <td>...</td>\n",
              "      <td>NaN</td>\n",
              "      <td>NaN</td>\n",
              "      <td>NaN</td>\n",
              "      <td>NaN</td>\n",
              "      <td>NaN</td>\n",
              "      <td>NaN</td>\n",
              "      <td>NaN</td>\n",
              "      <td>NaN</td>\n",
              "      <td>NaN</td>\n",
              "      <td>NaN</td>\n",
              "    </tr>\n",
              "    <tr>\n",
              "      <th>54902</th>\n",
              "      <td>NaN</td>\n",
              "      <td>NaN</td>\n",
              "      <td>NaN</td>\n",
              "      <td>NaN</td>\n",
              "      <td>NaN</td>\n",
              "      <td>NaN</td>\n",
              "      <td>28.40625</td>\n",
              "      <td>34.53125</td>\n",
              "      <td>NaN</td>\n",
              "      <td>NaN</td>\n",
              "      <td>...</td>\n",
              "      <td>NaN</td>\n",
              "      <td>NaN</td>\n",
              "      <td>NaN</td>\n",
              "      <td>NaN</td>\n",
              "      <td>NaN</td>\n",
              "      <td>NaN</td>\n",
              "      <td>NaN</td>\n",
              "      <td>NaN</td>\n",
              "      <td>NaN</td>\n",
              "      <td>NaN</td>\n",
              "    </tr>\n",
              "    <tr>\n",
              "      <th>54903</th>\n",
              "      <td>NaN</td>\n",
              "      <td>NaN</td>\n",
              "      <td>NaN</td>\n",
              "      <td>NaN</td>\n",
              "      <td>NaN</td>\n",
              "      <td>NaN</td>\n",
              "      <td>22.59375</td>\n",
              "      <td>36.93750</td>\n",
              "      <td>NaN</td>\n",
              "      <td>NaN</td>\n",
              "      <td>...</td>\n",
              "      <td>NaN</td>\n",
              "      <td>NaN</td>\n",
              "      <td>NaN</td>\n",
              "      <td>NaN</td>\n",
              "      <td>NaN</td>\n",
              "      <td>NaN</td>\n",
              "      <td>NaN</td>\n",
              "      <td>NaN</td>\n",
              "      <td>NaN</td>\n",
              "      <td>NaN</td>\n",
              "    </tr>\n",
              "    <tr>\n",
              "      <th>54904</th>\n",
              "      <td>NaN</td>\n",
              "      <td>NaN</td>\n",
              "      <td>NaN</td>\n",
              "      <td>NaN</td>\n",
              "      <td>NaN</td>\n",
              "      <td>NaN</td>\n",
              "      <td>34.25000</td>\n",
              "      <td>36.59375</td>\n",
              "      <td>NaN</td>\n",
              "      <td>NaN</td>\n",
              "      <td>...</td>\n",
              "      <td>NaN</td>\n",
              "      <td>NaN</td>\n",
              "      <td>NaN</td>\n",
              "      <td>NaN</td>\n",
              "      <td>NaN</td>\n",
              "      <td>NaN</td>\n",
              "      <td>NaN</td>\n",
              "      <td>NaN</td>\n",
              "      <td>NaN</td>\n",
              "      <td>NaN</td>\n",
              "    </tr>\n",
              "  </tbody>\n",
              "</table>\n",
              "<p>54905 rows × 150 columns</p>\n",
              "</div>\n",
              "      <button class=\"colab-df-convert\" onclick=\"convertToInteractive('df-11471d7b-f9e0-4699-ae3e-f9151a34a80f')\"\n",
              "              title=\"Convert this dataframe to an interactive table.\"\n",
              "              style=\"display:none;\">\n",
              "        \n",
              "  <svg xmlns=\"http://www.w3.org/2000/svg\" height=\"24px\"viewBox=\"0 0 24 24\"\n",
              "       width=\"24px\">\n",
              "    <path d=\"M0 0h24v24H0V0z\" fill=\"none\"/>\n",
              "    <path d=\"M18.56 5.44l.94 2.06.94-2.06 2.06-.94-2.06-.94-.94-2.06-.94 2.06-2.06.94zm-11 1L8.5 8.5l.94-2.06 2.06-.94-2.06-.94L8.5 2.5l-.94 2.06-2.06.94zm10 10l.94 2.06.94-2.06 2.06-.94-2.06-.94-.94-2.06-.94 2.06-2.06.94z\"/><path d=\"M17.41 7.96l-1.37-1.37c-.4-.4-.92-.59-1.43-.59-.52 0-1.04.2-1.43.59L10.3 9.45l-7.72 7.72c-.78.78-.78 2.05 0 2.83L4 21.41c.39.39.9.59 1.41.59.51 0 1.02-.2 1.41-.59l7.78-7.78 2.81-2.81c.8-.78.8-2.07 0-2.86zM5.41 20L4 18.59l7.72-7.72 1.47 1.35L5.41 20z\"/>\n",
              "  </svg>\n",
              "      </button>\n",
              "      \n",
              "  <style>\n",
              "    .colab-df-container {\n",
              "      display:flex;\n",
              "      flex-wrap:wrap;\n",
              "      gap: 12px;\n",
              "    }\n",
              "\n",
              "    .colab-df-convert {\n",
              "      background-color: #E8F0FE;\n",
              "      border: none;\n",
              "      border-radius: 50%;\n",
              "      cursor: pointer;\n",
              "      display: none;\n",
              "      fill: #1967D2;\n",
              "      height: 32px;\n",
              "      padding: 0 0 0 0;\n",
              "      width: 32px;\n",
              "    }\n",
              "\n",
              "    .colab-df-convert:hover {\n",
              "      background-color: #E2EBFA;\n",
              "      box-shadow: 0px 1px 2px rgba(60, 64, 67, 0.3), 0px 1px 3px 1px rgba(60, 64, 67, 0.15);\n",
              "      fill: #174EA6;\n",
              "    }\n",
              "\n",
              "    [theme=dark] .colab-df-convert {\n",
              "      background-color: #3B4455;\n",
              "      fill: #D2E3FC;\n",
              "    }\n",
              "\n",
              "    [theme=dark] .colab-df-convert:hover {\n",
              "      background-color: #434B5C;\n",
              "      box-shadow: 0px 1px 3px 1px rgba(0, 0, 0, 0.15);\n",
              "      filter: drop-shadow(0px 1px 2px rgba(0, 0, 0, 0.3));\n",
              "      fill: #FFFFFF;\n",
              "    }\n",
              "  </style>\n",
              "\n",
              "      <script>\n",
              "        const buttonEl =\n",
              "          document.querySelector('#df-11471d7b-f9e0-4699-ae3e-f9151a34a80f button.colab-df-convert');\n",
              "        buttonEl.style.display =\n",
              "          google.colab.kernel.accessAllowed ? 'block' : 'none';\n",
              "\n",
              "        async function convertToInteractive(key) {\n",
              "          const element = document.querySelector('#df-11471d7b-f9e0-4699-ae3e-f9151a34a80f');\n",
              "          const dataTable =\n",
              "            await google.colab.kernel.invokeFunction('convertToInteractive',\n",
              "                                                     [key], {});\n",
              "          if (!dataTable) return;\n",
              "\n",
              "          const docLinkHtml = 'Like what you see? Visit the ' +\n",
              "            '<a target=\"_blank\" href=https://colab.research.google.com/notebooks/data_table.ipynb>data table notebook</a>'\n",
              "            + ' to learn more about interactive tables.';\n",
              "          element.innerHTML = '';\n",
              "          dataTable['output_type'] = 'display_data';\n",
              "          await google.colab.output.renderOutput(dataTable, element);\n",
              "          const docLink = document.createElement('div');\n",
              "          docLink.innerHTML = docLinkHtml;\n",
              "          element.appendChild(docLink);\n",
              "        }\n",
              "      </script>\n",
              "    </div>\n",
              "  </div>\n",
              "  "
            ]
          },
          "metadata": {},
          "execution_count": 12
        }
      ]
    },
    {
      "cell_type": "code",
      "source": [
        "df_processed.fillna(0, inplace=True)\n",
        "df_processed #0: unrated, rating 20-40"
      ],
      "metadata": {
        "colab": {
          "base_uri": "https://localhost:8080/",
          "height": 424
        },
        "id": "vxgpMrTL_QSa",
        "outputId": "c5496a15-5631-4693-ea57-269ab26e6d8c"
      },
      "execution_count": null,
      "outputs": [
        {
          "output_type": "execute_result",
          "data": {
            "text/plain": [
              "       1    2    3    4         5    6         7         8    9    10   ...  \\\n",
              "0      0.0  0.0  0.0  0.0  30.21875  0.0  20.71875  20.71875  0.0  0.0  ...   \n",
              "1      0.0  0.0  0.0  0.0  20.31250  0.0  39.93750  39.53125  0.0  0.0  ...   \n",
              "2      0.0  0.0  0.0  0.0  20.15625  0.0  20.15625  22.78125  0.0  0.0  ...   \n",
              "3      0.0  0.0  0.0  0.0  36.90625  0.0  34.75000  24.09375  0.0  0.0  ...   \n",
              "4      0.0  0.0  0.0  0.0  29.96875  0.0  20.90625  29.59375  0.0  0.0  ...   \n",
              "...    ...  ...  ...  ...       ...  ...       ...       ...  ...  ...  ...   \n",
              "54900  0.0  0.0  0.0  0.0   0.00000  0.0  23.46875  27.65625  0.0  0.0  ...   \n",
              "54901  0.0  0.0  0.0  0.0   0.00000  0.0  38.93750  39.78125  0.0  0.0  ...   \n",
              "54902  0.0  0.0  0.0  0.0   0.00000  0.0  28.40625  34.53125  0.0  0.0  ...   \n",
              "54903  0.0  0.0  0.0  0.0   0.00000  0.0  22.59375  36.93750  0.0  0.0  ...   \n",
              "54904  0.0  0.0  0.0  0.0   0.00000  0.0  34.25000  36.59375  0.0  0.0  ...   \n",
              "\n",
              "       141  142  143  144  145  146  147  148  149  150  \n",
              "0      0.0  0.0  0.0  0.0  0.0  0.0  0.0  0.0  0.0  0.0  \n",
              "1      0.0  0.0  0.0  0.0  0.0  0.0  0.0  0.0  0.0  0.0  \n",
              "2      0.0  0.0  0.0  0.0  0.0  0.0  0.0  0.0  0.0  0.0  \n",
              "3      0.0  0.0  0.0  0.0  0.0  0.0  0.0  0.0  0.0  0.0  \n",
              "4      0.0  0.0  0.0  0.0  0.0  0.0  0.0  0.0  0.0  0.0  \n",
              "...    ...  ...  ...  ...  ...  ...  ...  ...  ...  ...  \n",
              "54900  0.0  0.0  0.0  0.0  0.0  0.0  0.0  0.0  0.0  0.0  \n",
              "54901  0.0  0.0  0.0  0.0  0.0  0.0  0.0  0.0  0.0  0.0  \n",
              "54902  0.0  0.0  0.0  0.0  0.0  0.0  0.0  0.0  0.0  0.0  \n",
              "54903  0.0  0.0  0.0  0.0  0.0  0.0  0.0  0.0  0.0  0.0  \n",
              "54904  0.0  0.0  0.0  0.0  0.0  0.0  0.0  0.0  0.0  0.0  \n",
              "\n",
              "[54905 rows x 150 columns]"
            ],
            "text/html": [
              "\n",
              "  <div id=\"df-866d1354-7489-48b7-8946-8f88a98ddf1a\">\n",
              "    <div class=\"colab-df-container\">\n",
              "      <div>\n",
              "<style scoped>\n",
              "    .dataframe tbody tr th:only-of-type {\n",
              "        vertical-align: middle;\n",
              "    }\n",
              "\n",
              "    .dataframe tbody tr th {\n",
              "        vertical-align: top;\n",
              "    }\n",
              "\n",
              "    .dataframe thead th {\n",
              "        text-align: right;\n",
              "    }\n",
              "</style>\n",
              "<table border=\"1\" class=\"dataframe\">\n",
              "  <thead>\n",
              "    <tr style=\"text-align: right;\">\n",
              "      <th></th>\n",
              "      <th>1</th>\n",
              "      <th>2</th>\n",
              "      <th>3</th>\n",
              "      <th>4</th>\n",
              "      <th>5</th>\n",
              "      <th>6</th>\n",
              "      <th>7</th>\n",
              "      <th>8</th>\n",
              "      <th>9</th>\n",
              "      <th>10</th>\n",
              "      <th>...</th>\n",
              "      <th>141</th>\n",
              "      <th>142</th>\n",
              "      <th>143</th>\n",
              "      <th>144</th>\n",
              "      <th>145</th>\n",
              "      <th>146</th>\n",
              "      <th>147</th>\n",
              "      <th>148</th>\n",
              "      <th>149</th>\n",
              "      <th>150</th>\n",
              "    </tr>\n",
              "  </thead>\n",
              "  <tbody>\n",
              "    <tr>\n",
              "      <th>0</th>\n",
              "      <td>0.0</td>\n",
              "      <td>0.0</td>\n",
              "      <td>0.0</td>\n",
              "      <td>0.0</td>\n",
              "      <td>30.21875</td>\n",
              "      <td>0.0</td>\n",
              "      <td>20.71875</td>\n",
              "      <td>20.71875</td>\n",
              "      <td>0.0</td>\n",
              "      <td>0.0</td>\n",
              "      <td>...</td>\n",
              "      <td>0.0</td>\n",
              "      <td>0.0</td>\n",
              "      <td>0.0</td>\n",
              "      <td>0.0</td>\n",
              "      <td>0.0</td>\n",
              "      <td>0.0</td>\n",
              "      <td>0.0</td>\n",
              "      <td>0.0</td>\n",
              "      <td>0.0</td>\n",
              "      <td>0.0</td>\n",
              "    </tr>\n",
              "    <tr>\n",
              "      <th>1</th>\n",
              "      <td>0.0</td>\n",
              "      <td>0.0</td>\n",
              "      <td>0.0</td>\n",
              "      <td>0.0</td>\n",
              "      <td>20.31250</td>\n",
              "      <td>0.0</td>\n",
              "      <td>39.93750</td>\n",
              "      <td>39.53125</td>\n",
              "      <td>0.0</td>\n",
              "      <td>0.0</td>\n",
              "      <td>...</td>\n",
              "      <td>0.0</td>\n",
              "      <td>0.0</td>\n",
              "      <td>0.0</td>\n",
              "      <td>0.0</td>\n",
              "      <td>0.0</td>\n",
              "      <td>0.0</td>\n",
              "      <td>0.0</td>\n",
              "      <td>0.0</td>\n",
              "      <td>0.0</td>\n",
              "      <td>0.0</td>\n",
              "    </tr>\n",
              "    <tr>\n",
              "      <th>2</th>\n",
              "      <td>0.0</td>\n",
              "      <td>0.0</td>\n",
              "      <td>0.0</td>\n",
              "      <td>0.0</td>\n",
              "      <td>20.15625</td>\n",
              "      <td>0.0</td>\n",
              "      <td>20.15625</td>\n",
              "      <td>22.78125</td>\n",
              "      <td>0.0</td>\n",
              "      <td>0.0</td>\n",
              "      <td>...</td>\n",
              "      <td>0.0</td>\n",
              "      <td>0.0</td>\n",
              "      <td>0.0</td>\n",
              "      <td>0.0</td>\n",
              "      <td>0.0</td>\n",
              "      <td>0.0</td>\n",
              "      <td>0.0</td>\n",
              "      <td>0.0</td>\n",
              "      <td>0.0</td>\n",
              "      <td>0.0</td>\n",
              "    </tr>\n",
              "    <tr>\n",
              "      <th>3</th>\n",
              "      <td>0.0</td>\n",
              "      <td>0.0</td>\n",
              "      <td>0.0</td>\n",
              "      <td>0.0</td>\n",
              "      <td>36.90625</td>\n",
              "      <td>0.0</td>\n",
              "      <td>34.75000</td>\n",
              "      <td>24.09375</td>\n",
              "      <td>0.0</td>\n",
              "      <td>0.0</td>\n",
              "      <td>...</td>\n",
              "      <td>0.0</td>\n",
              "      <td>0.0</td>\n",
              "      <td>0.0</td>\n",
              "      <td>0.0</td>\n",
              "      <td>0.0</td>\n",
              "      <td>0.0</td>\n",
              "      <td>0.0</td>\n",
              "      <td>0.0</td>\n",
              "      <td>0.0</td>\n",
              "      <td>0.0</td>\n",
              "    </tr>\n",
              "    <tr>\n",
              "      <th>4</th>\n",
              "      <td>0.0</td>\n",
              "      <td>0.0</td>\n",
              "      <td>0.0</td>\n",
              "      <td>0.0</td>\n",
              "      <td>29.96875</td>\n",
              "      <td>0.0</td>\n",
              "      <td>20.90625</td>\n",
              "      <td>29.59375</td>\n",
              "      <td>0.0</td>\n",
              "      <td>0.0</td>\n",
              "      <td>...</td>\n",
              "      <td>0.0</td>\n",
              "      <td>0.0</td>\n",
              "      <td>0.0</td>\n",
              "      <td>0.0</td>\n",
              "      <td>0.0</td>\n",
              "      <td>0.0</td>\n",
              "      <td>0.0</td>\n",
              "      <td>0.0</td>\n",
              "      <td>0.0</td>\n",
              "      <td>0.0</td>\n",
              "    </tr>\n",
              "    <tr>\n",
              "      <th>...</th>\n",
              "      <td>...</td>\n",
              "      <td>...</td>\n",
              "      <td>...</td>\n",
              "      <td>...</td>\n",
              "      <td>...</td>\n",
              "      <td>...</td>\n",
              "      <td>...</td>\n",
              "      <td>...</td>\n",
              "      <td>...</td>\n",
              "      <td>...</td>\n",
              "      <td>...</td>\n",
              "      <td>...</td>\n",
              "      <td>...</td>\n",
              "      <td>...</td>\n",
              "      <td>...</td>\n",
              "      <td>...</td>\n",
              "      <td>...</td>\n",
              "      <td>...</td>\n",
              "      <td>...</td>\n",
              "      <td>...</td>\n",
              "      <td>...</td>\n",
              "    </tr>\n",
              "    <tr>\n",
              "      <th>54900</th>\n",
              "      <td>0.0</td>\n",
              "      <td>0.0</td>\n",
              "      <td>0.0</td>\n",
              "      <td>0.0</td>\n",
              "      <td>0.00000</td>\n",
              "      <td>0.0</td>\n",
              "      <td>23.46875</td>\n",
              "      <td>27.65625</td>\n",
              "      <td>0.0</td>\n",
              "      <td>0.0</td>\n",
              "      <td>...</td>\n",
              "      <td>0.0</td>\n",
              "      <td>0.0</td>\n",
              "      <td>0.0</td>\n",
              "      <td>0.0</td>\n",
              "      <td>0.0</td>\n",
              "      <td>0.0</td>\n",
              "      <td>0.0</td>\n",
              "      <td>0.0</td>\n",
              "      <td>0.0</td>\n",
              "      <td>0.0</td>\n",
              "    </tr>\n",
              "    <tr>\n",
              "      <th>54901</th>\n",
              "      <td>0.0</td>\n",
              "      <td>0.0</td>\n",
              "      <td>0.0</td>\n",
              "      <td>0.0</td>\n",
              "      <td>0.00000</td>\n",
              "      <td>0.0</td>\n",
              "      <td>38.93750</td>\n",
              "      <td>39.78125</td>\n",
              "      <td>0.0</td>\n",
              "      <td>0.0</td>\n",
              "      <td>...</td>\n",
              "      <td>0.0</td>\n",
              "      <td>0.0</td>\n",
              "      <td>0.0</td>\n",
              "      <td>0.0</td>\n",
              "      <td>0.0</td>\n",
              "      <td>0.0</td>\n",
              "      <td>0.0</td>\n",
              "      <td>0.0</td>\n",
              "      <td>0.0</td>\n",
              "      <td>0.0</td>\n",
              "    </tr>\n",
              "    <tr>\n",
              "      <th>54902</th>\n",
              "      <td>0.0</td>\n",
              "      <td>0.0</td>\n",
              "      <td>0.0</td>\n",
              "      <td>0.0</td>\n",
              "      <td>0.00000</td>\n",
              "      <td>0.0</td>\n",
              "      <td>28.40625</td>\n",
              "      <td>34.53125</td>\n",
              "      <td>0.0</td>\n",
              "      <td>0.0</td>\n",
              "      <td>...</td>\n",
              "      <td>0.0</td>\n",
              "      <td>0.0</td>\n",
              "      <td>0.0</td>\n",
              "      <td>0.0</td>\n",
              "      <td>0.0</td>\n",
              "      <td>0.0</td>\n",
              "      <td>0.0</td>\n",
              "      <td>0.0</td>\n",
              "      <td>0.0</td>\n",
              "      <td>0.0</td>\n",
              "    </tr>\n",
              "    <tr>\n",
              "      <th>54903</th>\n",
              "      <td>0.0</td>\n",
              "      <td>0.0</td>\n",
              "      <td>0.0</td>\n",
              "      <td>0.0</td>\n",
              "      <td>0.00000</td>\n",
              "      <td>0.0</td>\n",
              "      <td>22.59375</td>\n",
              "      <td>36.93750</td>\n",
              "      <td>0.0</td>\n",
              "      <td>0.0</td>\n",
              "      <td>...</td>\n",
              "      <td>0.0</td>\n",
              "      <td>0.0</td>\n",
              "      <td>0.0</td>\n",
              "      <td>0.0</td>\n",
              "      <td>0.0</td>\n",
              "      <td>0.0</td>\n",
              "      <td>0.0</td>\n",
              "      <td>0.0</td>\n",
              "      <td>0.0</td>\n",
              "      <td>0.0</td>\n",
              "    </tr>\n",
              "    <tr>\n",
              "      <th>54904</th>\n",
              "      <td>0.0</td>\n",
              "      <td>0.0</td>\n",
              "      <td>0.0</td>\n",
              "      <td>0.0</td>\n",
              "      <td>0.00000</td>\n",
              "      <td>0.0</td>\n",
              "      <td>34.25000</td>\n",
              "      <td>36.59375</td>\n",
              "      <td>0.0</td>\n",
              "      <td>0.0</td>\n",
              "      <td>...</td>\n",
              "      <td>0.0</td>\n",
              "      <td>0.0</td>\n",
              "      <td>0.0</td>\n",
              "      <td>0.0</td>\n",
              "      <td>0.0</td>\n",
              "      <td>0.0</td>\n",
              "      <td>0.0</td>\n",
              "      <td>0.0</td>\n",
              "      <td>0.0</td>\n",
              "      <td>0.0</td>\n",
              "    </tr>\n",
              "  </tbody>\n",
              "</table>\n",
              "<p>54905 rows × 150 columns</p>\n",
              "</div>\n",
              "      <button class=\"colab-df-convert\" onclick=\"convertToInteractive('df-866d1354-7489-48b7-8946-8f88a98ddf1a')\"\n",
              "              title=\"Convert this dataframe to an interactive table.\"\n",
              "              style=\"display:none;\">\n",
              "        \n",
              "  <svg xmlns=\"http://www.w3.org/2000/svg\" height=\"24px\"viewBox=\"0 0 24 24\"\n",
              "       width=\"24px\">\n",
              "    <path d=\"M0 0h24v24H0V0z\" fill=\"none\"/>\n",
              "    <path d=\"M18.56 5.44l.94 2.06.94-2.06 2.06-.94-2.06-.94-.94-2.06-.94 2.06-2.06.94zm-11 1L8.5 8.5l.94-2.06 2.06-.94-2.06-.94L8.5 2.5l-.94 2.06-2.06.94zm10 10l.94 2.06.94-2.06 2.06-.94-2.06-.94-.94-2.06-.94 2.06-2.06.94z\"/><path d=\"M17.41 7.96l-1.37-1.37c-.4-.4-.92-.59-1.43-.59-.52 0-1.04.2-1.43.59L10.3 9.45l-7.72 7.72c-.78.78-.78 2.05 0 2.83L4 21.41c.39.39.9.59 1.41.59.51 0 1.02-.2 1.41-.59l7.78-7.78 2.81-2.81c.8-.78.8-2.07 0-2.86zM5.41 20L4 18.59l7.72-7.72 1.47 1.35L5.41 20z\"/>\n",
              "  </svg>\n",
              "      </button>\n",
              "      \n",
              "  <style>\n",
              "    .colab-df-container {\n",
              "      display:flex;\n",
              "      flex-wrap:wrap;\n",
              "      gap: 12px;\n",
              "    }\n",
              "\n",
              "    .colab-df-convert {\n",
              "      background-color: #E8F0FE;\n",
              "      border: none;\n",
              "      border-radius: 50%;\n",
              "      cursor: pointer;\n",
              "      display: none;\n",
              "      fill: #1967D2;\n",
              "      height: 32px;\n",
              "      padding: 0 0 0 0;\n",
              "      width: 32px;\n",
              "    }\n",
              "\n",
              "    .colab-df-convert:hover {\n",
              "      background-color: #E2EBFA;\n",
              "      box-shadow: 0px 1px 2px rgba(60, 64, 67, 0.3), 0px 1px 3px 1px rgba(60, 64, 67, 0.15);\n",
              "      fill: #174EA6;\n",
              "    }\n",
              "\n",
              "    [theme=dark] .colab-df-convert {\n",
              "      background-color: #3B4455;\n",
              "      fill: #D2E3FC;\n",
              "    }\n",
              "\n",
              "    [theme=dark] .colab-df-convert:hover {\n",
              "      background-color: #434B5C;\n",
              "      box-shadow: 0px 1px 3px 1px rgba(0, 0, 0, 0.15);\n",
              "      filter: drop-shadow(0px 1px 2px rgba(0, 0, 0, 0.3));\n",
              "      fill: #FFFFFF;\n",
              "    }\n",
              "  </style>\n",
              "\n",
              "      <script>\n",
              "        const buttonEl =\n",
              "          document.querySelector('#df-866d1354-7489-48b7-8946-8f88a98ddf1a button.colab-df-convert');\n",
              "        buttonEl.style.display =\n",
              "          google.colab.kernel.accessAllowed ? 'block' : 'none';\n",
              "\n",
              "        async function convertToInteractive(key) {\n",
              "          const element = document.querySelector('#df-866d1354-7489-48b7-8946-8f88a98ddf1a');\n",
              "          const dataTable =\n",
              "            await google.colab.kernel.invokeFunction('convertToInteractive',\n",
              "                                                     [key], {});\n",
              "          if (!dataTable) return;\n",
              "\n",
              "          const docLinkHtml = 'Like what you see? Visit the ' +\n",
              "            '<a target=\"_blank\" href=https://colab.research.google.com/notebooks/data_table.ipynb>data table notebook</a>'\n",
              "            + ' to learn more about interactive tables.';\n",
              "          element.innerHTML = '';\n",
              "          dataTable['output_type'] = 'display_data';\n",
              "          await google.colab.output.renderOutput(dataTable, element);\n",
              "          const docLink = document.createElement('div');\n",
              "          docLink.innerHTML = docLinkHtml;\n",
              "          element.appendChild(docLink);\n",
              "        }\n",
              "      </script>\n",
              "    </div>\n",
              "  </div>\n",
              "  "
            ]
          },
          "metadata": {},
          "execution_count": 13
        }
      ]
    },
    {
      "cell_type": "code",
      "metadata": {
        "id": "nG1ZNu74GE5B",
        "colab": {
          "base_uri": "https://localhost:8080/",
          "height": 70
        },
        "outputId": "493fdac3-a9d7-48d1-f2bb-56883b67f78a"
      },
      "source": [
        "#reference code\n",
        "'''\n",
        "# MF\n",
        "ply_pivot1 = ply_pivot1.pivot_table(\"link\",index=\"id\",columns=\"song_id\")\n",
        "ply_pivot1.fillna(0,inplace=True)\n",
        "ply_pivot1\n",
        "\n",
        "# matrix는 pivot_table 값을 numpy matrix로 만든 것 \n",
        "matrix = ply_pivot1.values\n",
        "# user_link_mean은 사용자의 평균 연결 \n",
        "user_link_mean = np.mean(matrix, axis = 1)\n",
        "# R_user_mean : 사용자-노래에 대해 사용자 평균 연결을 뺀 것.\n",
        "matrix_user_mean = matrix - user_link_mean.reshape(-1, 1)\n",
        "'''"
      ],
      "execution_count": null,
      "outputs": [
        {
          "output_type": "execute_result",
          "data": {
            "text/plain": [
              "'\\n# MF\\nply_pivot1 = ply_pivot1.pivot_table(\"link\",index=\"id\",columns=\"song_id\")\\nply_pivot1.fillna(0,inplace=True)\\nply_pivot1\\n\\n# matrix는 pivot_table 값을 numpy matrix로 만든 것 \\nmatrix = ply_pivot1.values\\n# user_link_mean은 사용자의 평균 연결 \\nuser_link_mean = np.mean(matrix, axis = 1)\\n# R_user_mean : 사용자-노래에 대해 사용자 평균 연결을 뺀 것.\\nmatrix_user_mean = matrix - user_link_mean.reshape(-1, 1)\\n'"
            ],
            "application/vnd.google.colaboratory.intrinsic+json": {
              "type": "string"
            }
          },
          "metadata": {},
          "execution_count": 14
        }
      ]
    },
    {
      "cell_type": "code",
      "source": [
        "import surprise"
      ],
      "metadata": {
        "id": "udxVa6xTGvqo"
      },
      "execution_count": null,
      "outputs": []
    },
    {
      "cell_type": "code",
      "metadata": {
        "id": "ruHL3DBRINM5",
        "colab": {
          "base_uri": "https://localhost:8080/"
        },
        "outputId": "f257bc42-69aa-4d6d-ad4d-c2b349c7ab85"
      },
      "source": [
        "# scipy에서 제공해주는 svd.  \n",
        "# U 행렬, sigma 행렬, V 전치 행렬을 반환.\n",
        "# https://seing.tistory.com/67\n",
        "U, sigma, Vt = svds(df_processed, k = 6)\n",
        "print(U.shape)\n",
        "print(sigma.shape)\n",
        "print(Vt.shape)"
      ],
      "execution_count": null,
      "outputs": [
        {
          "output_type": "stream",
          "name": "stdout",
          "text": [
            "(54905, 6)\n",
            "(6,)\n",
            "(6, 150)\n"
          ]
        }
      ]
    },
    {
      "cell_type": "code",
      "source": [],
      "metadata": {
        "id": "K7bEjjJzF5N2"
      },
      "execution_count": null,
      "outputs": []
    },
    {
      "cell_type": "code",
      "source": [
        "sigma = np.diag(sigma)\n",
        "sigma"
      ],
      "metadata": {
        "colab": {
          "base_uri": "https://localhost:8080/"
        },
        "id": "x7eBCPCNCJxV",
        "outputId": "05daf434-6237-46f2-c2e2-9091426e1763"
      },
      "execution_count": null,
      "outputs": [
        {
          "output_type": "execute_result",
          "data": {
            "text/plain": [
              "array([[ 4659.72916827,     0.        ,     0.        ,     0.        ,\n",
              "            0.        ,     0.        ],\n",
              "       [    0.        ,  4780.60385469,     0.        ,     0.        ,\n",
              "            0.        ,     0.        ],\n",
              "       [    0.        ,     0.        ,  5853.78499448,     0.        ,\n",
              "            0.        ,     0.        ],\n",
              "       [    0.        ,     0.        ,     0.        ,  7866.11251163,\n",
              "            0.        ,     0.        ],\n",
              "       [    0.        ,     0.        ,     0.        ,     0.        ,\n",
              "        14620.45187991,     0.        ],\n",
              "       [    0.        ,     0.        ,     0.        ,     0.        ,\n",
              "            0.        , 33298.93526555]])"
            ]
          },
          "metadata": {},
          "execution_count": 20
        }
      ]
    },
    {
      "cell_type": "code",
      "metadata": {
        "id": "ktpdfvZ8KL8U"
      },
      "source": [
        "# U, Sigma, Vt의 내적을 수행하면, 다시 원본 행렬로 복원이 된다.\n",
        "# 거기에 + 사용자 평균 rating을 적용한다.\n",
        "svd_user_predicted_link = np.dot(np.dot(U, sigma), Vt) #+ user_link_mean.reshape(-1, 1)"
      ],
      "execution_count": null,
      "outputs": []
    },
    {
      "cell_type": "code",
      "source": [
        "restored=pd.DataFrame(svd_user_predicted_link, columns=df_processed.columns)\n",
        "restored"
      ],
      "metadata": {
        "colab": {
          "base_uri": "https://localhost:8080/",
          "height": 661
        },
        "id": "K-VGuC4vlmiB",
        "outputId": "3ebc5456-8c1f-4e77-f973-300ff0e590e5"
      },
      "execution_count": null,
      "outputs": [
        {
          "output_type": "execute_result",
          "data": {
            "text/plain": [
              "                1             2             3             4         5    \\\n",
              "0     -5.621303e-16 -1.431471e-18  2.172711e-15  1.564589e-15 -0.061563   \n",
              "1     -7.391970e-16 -1.462044e-18  2.076942e-15  2.040240e-15  0.213950   \n",
              "2      3.869112e-16  8.931903e-19 -1.046857e-15 -6.558897e-16  0.367451   \n",
              "3     -4.171327e-17  3.495508e-19 -8.123667e-16  5.784127e-16  0.777911   \n",
              "4     -1.820123e-16 -3.411677e-19  6.937694e-16  7.847727e-16  0.207491   \n",
              "...             ...           ...           ...           ...       ...   \n",
              "54900  6.808836e-16  1.209547e-18 -1.089165e-15 -1.441091e-15  0.255771   \n",
              "54901  8.110740e-17  3.546695e-19 -3.018547e-16  2.145005e-16  0.510115   \n",
              "54902 -6.062737e-16 -1.181782e-18  2.198679e-15  1.346369e-15  0.193563   \n",
              "54903  4.790133e-17  2.301563e-19 -1.925419e-16  1.873730e-16  0.367198   \n",
              "54904 -4.749477e-16 -7.926143e-19  1.218997e-15  1.355262e-15  0.396715   \n",
              "\n",
              "                6          7          8             9             10   ...  \\\n",
              "0      3.444703e-16  21.491919  22.954783 -5.464180e-16  5.678827e-16  ...   \n",
              "1      5.639126e-16  32.511836  33.984606 -6.539461e-16  6.274817e-16  ...   \n",
              "2     -2.513665e-16  20.569600  21.270989  2.225463e-16 -2.196482e-16  ...   \n",
              "3      2.097236e-16  30.997035  32.239658 -1.440191e-16  1.218932e-16  ...   \n",
              "4      1.704702e-16  26.325158  27.460811 -2.168089e-16  2.176403e-16  ...   \n",
              "...             ...        ...        ...           ...           ...  ...   \n",
              "54900 -6.185643e-16  24.118398  25.101039  3.988116e-16 -3.640832e-16  ...   \n",
              "54901  1.371876e-17  37.459574  38.768393 -4.070652e-17  1.515625e-17  ...   \n",
              "54902  2.196976e-16  28.093879  29.126403 -5.136475e-16  5.319970e-16  ...   \n",
              "54903  2.177448e-17  27.403017  28.371135 -3.944245e-17  1.942293e-17  ...   \n",
              "54904  3.573379e-16  36.519254  37.842826 -4.448728e-16  4.060095e-16  ...   \n",
              "\n",
              "             141        142        143        144        145        146  \\\n",
              "0       0.808038  13.937860  21.635803  11.212838  19.353277   2.188978   \n",
              "1      -0.140972   6.691937   6.947350   4.413169   5.589077   0.278221   \n",
              "2       2.172464   0.830057   1.878139   2.198559   1.315186   2.498591   \n",
              "3      12.580915  15.572949  11.139889  17.959691  11.166403  15.384678   \n",
              "4      -0.534457   4.474365   4.267207   2.443344   3.218539  -0.315018   \n",
              "...          ...        ...        ...        ...        ...        ...   \n",
              "54900  -0.331245  -1.266125   9.749301   1.659620   7.671794  -0.257924   \n",
              "54901   0.809217   0.110303  -1.133300  -0.031248  -1.960042   0.731013   \n",
              "54902  -2.875090  -3.134864   6.626129   2.396519   4.165215  -3.045810   \n",
              "54903   0.581365   0.270336  -0.738202  -0.035343  -1.333574   0.526020   \n",
              "54904  -0.554807  -0.414162  -0.248105  -0.041419  -1.383552  -0.775636   \n",
              "\n",
              "             147        148        149        150  \n",
              "0      12.005038  25.059045  17.270679  18.564294  \n",
              "1       4.499228  12.594306   7.568637  11.572120  \n",
              "2       1.465165  -0.595302   0.044715  -1.217906  \n",
              "3      18.360061  17.636160  17.887743  20.245297  \n",
              "4       2.150462   7.489605   4.227100   2.653657  \n",
              "...          ...        ...        ...        ...  \n",
              "54900   0.541249   0.440366  -0.884006  -1.566555  \n",
              "54901  -1.122497  -1.936431  -2.166097  -1.769229  \n",
              "54902   2.238721  11.105435   4.270249  14.825221  \n",
              "54903  -0.823494  -1.376155  -1.543955  -1.303465  \n",
              "54904  -0.691286   1.966452  -0.458385   5.515836  \n",
              "\n",
              "[54905 rows x 150 columns]"
            ],
            "text/html": [
              "\n",
              "  <div id=\"df-c1a730d4-1199-4200-b2fa-1967ffa55011\">\n",
              "    <div class=\"colab-df-container\">\n",
              "      <div>\n",
              "<style scoped>\n",
              "    .dataframe tbody tr th:only-of-type {\n",
              "        vertical-align: middle;\n",
              "    }\n",
              "\n",
              "    .dataframe tbody tr th {\n",
              "        vertical-align: top;\n",
              "    }\n",
              "\n",
              "    .dataframe thead th {\n",
              "        text-align: right;\n",
              "    }\n",
              "</style>\n",
              "<table border=\"1\" class=\"dataframe\">\n",
              "  <thead>\n",
              "    <tr style=\"text-align: right;\">\n",
              "      <th></th>\n",
              "      <th>1</th>\n",
              "      <th>2</th>\n",
              "      <th>3</th>\n",
              "      <th>4</th>\n",
              "      <th>5</th>\n",
              "      <th>6</th>\n",
              "      <th>7</th>\n",
              "      <th>8</th>\n",
              "      <th>9</th>\n",
              "      <th>10</th>\n",
              "      <th>...</th>\n",
              "      <th>141</th>\n",
              "      <th>142</th>\n",
              "      <th>143</th>\n",
              "      <th>144</th>\n",
              "      <th>145</th>\n",
              "      <th>146</th>\n",
              "      <th>147</th>\n",
              "      <th>148</th>\n",
              "      <th>149</th>\n",
              "      <th>150</th>\n",
              "    </tr>\n",
              "  </thead>\n",
              "  <tbody>\n",
              "    <tr>\n",
              "      <th>0</th>\n",
              "      <td>-5.621303e-16</td>\n",
              "      <td>-1.431471e-18</td>\n",
              "      <td>2.172711e-15</td>\n",
              "      <td>1.564589e-15</td>\n",
              "      <td>-0.061563</td>\n",
              "      <td>3.444703e-16</td>\n",
              "      <td>21.491919</td>\n",
              "      <td>22.954783</td>\n",
              "      <td>-5.464180e-16</td>\n",
              "      <td>5.678827e-16</td>\n",
              "      <td>...</td>\n",
              "      <td>0.808038</td>\n",
              "      <td>13.937860</td>\n",
              "      <td>21.635803</td>\n",
              "      <td>11.212838</td>\n",
              "      <td>19.353277</td>\n",
              "      <td>2.188978</td>\n",
              "      <td>12.005038</td>\n",
              "      <td>25.059045</td>\n",
              "      <td>17.270679</td>\n",
              "      <td>18.564294</td>\n",
              "    </tr>\n",
              "    <tr>\n",
              "      <th>1</th>\n",
              "      <td>-7.391970e-16</td>\n",
              "      <td>-1.462044e-18</td>\n",
              "      <td>2.076942e-15</td>\n",
              "      <td>2.040240e-15</td>\n",
              "      <td>0.213950</td>\n",
              "      <td>5.639126e-16</td>\n",
              "      <td>32.511836</td>\n",
              "      <td>33.984606</td>\n",
              "      <td>-6.539461e-16</td>\n",
              "      <td>6.274817e-16</td>\n",
              "      <td>...</td>\n",
              "      <td>-0.140972</td>\n",
              "      <td>6.691937</td>\n",
              "      <td>6.947350</td>\n",
              "      <td>4.413169</td>\n",
              "      <td>5.589077</td>\n",
              "      <td>0.278221</td>\n",
              "      <td>4.499228</td>\n",
              "      <td>12.594306</td>\n",
              "      <td>7.568637</td>\n",
              "      <td>11.572120</td>\n",
              "    </tr>\n",
              "    <tr>\n",
              "      <th>2</th>\n",
              "      <td>3.869112e-16</td>\n",
              "      <td>8.931903e-19</td>\n",
              "      <td>-1.046857e-15</td>\n",
              "      <td>-6.558897e-16</td>\n",
              "      <td>0.367451</td>\n",
              "      <td>-2.513665e-16</td>\n",
              "      <td>20.569600</td>\n",
              "      <td>21.270989</td>\n",
              "      <td>2.225463e-16</td>\n",
              "      <td>-2.196482e-16</td>\n",
              "      <td>...</td>\n",
              "      <td>2.172464</td>\n",
              "      <td>0.830057</td>\n",
              "      <td>1.878139</td>\n",
              "      <td>2.198559</td>\n",
              "      <td>1.315186</td>\n",
              "      <td>2.498591</td>\n",
              "      <td>1.465165</td>\n",
              "      <td>-0.595302</td>\n",
              "      <td>0.044715</td>\n",
              "      <td>-1.217906</td>\n",
              "    </tr>\n",
              "    <tr>\n",
              "      <th>3</th>\n",
              "      <td>-4.171327e-17</td>\n",
              "      <td>3.495508e-19</td>\n",
              "      <td>-8.123667e-16</td>\n",
              "      <td>5.784127e-16</td>\n",
              "      <td>0.777911</td>\n",
              "      <td>2.097236e-16</td>\n",
              "      <td>30.997035</td>\n",
              "      <td>32.239658</td>\n",
              "      <td>-1.440191e-16</td>\n",
              "      <td>1.218932e-16</td>\n",
              "      <td>...</td>\n",
              "      <td>12.580915</td>\n",
              "      <td>15.572949</td>\n",
              "      <td>11.139889</td>\n",
              "      <td>17.959691</td>\n",
              "      <td>11.166403</td>\n",
              "      <td>15.384678</td>\n",
              "      <td>18.360061</td>\n",
              "      <td>17.636160</td>\n",
              "      <td>17.887743</td>\n",
              "      <td>20.245297</td>\n",
              "    </tr>\n",
              "    <tr>\n",
              "      <th>4</th>\n",
              "      <td>-1.820123e-16</td>\n",
              "      <td>-3.411677e-19</td>\n",
              "      <td>6.937694e-16</td>\n",
              "      <td>7.847727e-16</td>\n",
              "      <td>0.207491</td>\n",
              "      <td>1.704702e-16</td>\n",
              "      <td>26.325158</td>\n",
              "      <td>27.460811</td>\n",
              "      <td>-2.168089e-16</td>\n",
              "      <td>2.176403e-16</td>\n",
              "      <td>...</td>\n",
              "      <td>-0.534457</td>\n",
              "      <td>4.474365</td>\n",
              "      <td>4.267207</td>\n",
              "      <td>2.443344</td>\n",
              "      <td>3.218539</td>\n",
              "      <td>-0.315018</td>\n",
              "      <td>2.150462</td>\n",
              "      <td>7.489605</td>\n",
              "      <td>4.227100</td>\n",
              "      <td>2.653657</td>\n",
              "    </tr>\n",
              "    <tr>\n",
              "      <th>...</th>\n",
              "      <td>...</td>\n",
              "      <td>...</td>\n",
              "      <td>...</td>\n",
              "      <td>...</td>\n",
              "      <td>...</td>\n",
              "      <td>...</td>\n",
              "      <td>...</td>\n",
              "      <td>...</td>\n",
              "      <td>...</td>\n",
              "      <td>...</td>\n",
              "      <td>...</td>\n",
              "      <td>...</td>\n",
              "      <td>...</td>\n",
              "      <td>...</td>\n",
              "      <td>...</td>\n",
              "      <td>...</td>\n",
              "      <td>...</td>\n",
              "      <td>...</td>\n",
              "      <td>...</td>\n",
              "      <td>...</td>\n",
              "      <td>...</td>\n",
              "    </tr>\n",
              "    <tr>\n",
              "      <th>54900</th>\n",
              "      <td>6.808836e-16</td>\n",
              "      <td>1.209547e-18</td>\n",
              "      <td>-1.089165e-15</td>\n",
              "      <td>-1.441091e-15</td>\n",
              "      <td>0.255771</td>\n",
              "      <td>-6.185643e-16</td>\n",
              "      <td>24.118398</td>\n",
              "      <td>25.101039</td>\n",
              "      <td>3.988116e-16</td>\n",
              "      <td>-3.640832e-16</td>\n",
              "      <td>...</td>\n",
              "      <td>-0.331245</td>\n",
              "      <td>-1.266125</td>\n",
              "      <td>9.749301</td>\n",
              "      <td>1.659620</td>\n",
              "      <td>7.671794</td>\n",
              "      <td>-0.257924</td>\n",
              "      <td>0.541249</td>\n",
              "      <td>0.440366</td>\n",
              "      <td>-0.884006</td>\n",
              "      <td>-1.566555</td>\n",
              "    </tr>\n",
              "    <tr>\n",
              "      <th>54901</th>\n",
              "      <td>8.110740e-17</td>\n",
              "      <td>3.546695e-19</td>\n",
              "      <td>-3.018547e-16</td>\n",
              "      <td>2.145005e-16</td>\n",
              "      <td>0.510115</td>\n",
              "      <td>1.371876e-17</td>\n",
              "      <td>37.459574</td>\n",
              "      <td>38.768393</td>\n",
              "      <td>-4.070652e-17</td>\n",
              "      <td>1.515625e-17</td>\n",
              "      <td>...</td>\n",
              "      <td>0.809217</td>\n",
              "      <td>0.110303</td>\n",
              "      <td>-1.133300</td>\n",
              "      <td>-0.031248</td>\n",
              "      <td>-1.960042</td>\n",
              "      <td>0.731013</td>\n",
              "      <td>-1.122497</td>\n",
              "      <td>-1.936431</td>\n",
              "      <td>-2.166097</td>\n",
              "      <td>-1.769229</td>\n",
              "    </tr>\n",
              "    <tr>\n",
              "      <th>54902</th>\n",
              "      <td>-6.062737e-16</td>\n",
              "      <td>-1.181782e-18</td>\n",
              "      <td>2.198679e-15</td>\n",
              "      <td>1.346369e-15</td>\n",
              "      <td>0.193563</td>\n",
              "      <td>2.196976e-16</td>\n",
              "      <td>28.093879</td>\n",
              "      <td>29.126403</td>\n",
              "      <td>-5.136475e-16</td>\n",
              "      <td>5.319970e-16</td>\n",
              "      <td>...</td>\n",
              "      <td>-2.875090</td>\n",
              "      <td>-3.134864</td>\n",
              "      <td>6.626129</td>\n",
              "      <td>2.396519</td>\n",
              "      <td>4.165215</td>\n",
              "      <td>-3.045810</td>\n",
              "      <td>2.238721</td>\n",
              "      <td>11.105435</td>\n",
              "      <td>4.270249</td>\n",
              "      <td>14.825221</td>\n",
              "    </tr>\n",
              "    <tr>\n",
              "      <th>54903</th>\n",
              "      <td>4.790133e-17</td>\n",
              "      <td>2.301563e-19</td>\n",
              "      <td>-1.925419e-16</td>\n",
              "      <td>1.873730e-16</td>\n",
              "      <td>0.367198</td>\n",
              "      <td>2.177448e-17</td>\n",
              "      <td>27.403017</td>\n",
              "      <td>28.371135</td>\n",
              "      <td>-3.944245e-17</td>\n",
              "      <td>1.942293e-17</td>\n",
              "      <td>...</td>\n",
              "      <td>0.581365</td>\n",
              "      <td>0.270336</td>\n",
              "      <td>-0.738202</td>\n",
              "      <td>-0.035343</td>\n",
              "      <td>-1.333574</td>\n",
              "      <td>0.526020</td>\n",
              "      <td>-0.823494</td>\n",
              "      <td>-1.376155</td>\n",
              "      <td>-1.543955</td>\n",
              "      <td>-1.303465</td>\n",
              "    </tr>\n",
              "    <tr>\n",
              "      <th>54904</th>\n",
              "      <td>-4.749477e-16</td>\n",
              "      <td>-7.926143e-19</td>\n",
              "      <td>1.218997e-15</td>\n",
              "      <td>1.355262e-15</td>\n",
              "      <td>0.396715</td>\n",
              "      <td>3.573379e-16</td>\n",
              "      <td>36.519254</td>\n",
              "      <td>37.842826</td>\n",
              "      <td>-4.448728e-16</td>\n",
              "      <td>4.060095e-16</td>\n",
              "      <td>...</td>\n",
              "      <td>-0.554807</td>\n",
              "      <td>-0.414162</td>\n",
              "      <td>-0.248105</td>\n",
              "      <td>-0.041419</td>\n",
              "      <td>-1.383552</td>\n",
              "      <td>-0.775636</td>\n",
              "      <td>-0.691286</td>\n",
              "      <td>1.966452</td>\n",
              "      <td>-0.458385</td>\n",
              "      <td>5.515836</td>\n",
              "    </tr>\n",
              "  </tbody>\n",
              "</table>\n",
              "<p>54905 rows × 150 columns</p>\n",
              "</div>\n",
              "      <button class=\"colab-df-convert\" onclick=\"convertToInteractive('df-c1a730d4-1199-4200-b2fa-1967ffa55011')\"\n",
              "              title=\"Convert this dataframe to an interactive table.\"\n",
              "              style=\"display:none;\">\n",
              "        \n",
              "  <svg xmlns=\"http://www.w3.org/2000/svg\" height=\"24px\"viewBox=\"0 0 24 24\"\n",
              "       width=\"24px\">\n",
              "    <path d=\"M0 0h24v24H0V0z\" fill=\"none\"/>\n",
              "    <path d=\"M18.56 5.44l.94 2.06.94-2.06 2.06-.94-2.06-.94-.94-2.06-.94 2.06-2.06.94zm-11 1L8.5 8.5l.94-2.06 2.06-.94-2.06-.94L8.5 2.5l-.94 2.06-2.06.94zm10 10l.94 2.06.94-2.06 2.06-.94-2.06-.94-.94-2.06-.94 2.06-2.06.94z\"/><path d=\"M17.41 7.96l-1.37-1.37c-.4-.4-.92-.59-1.43-.59-.52 0-1.04.2-1.43.59L10.3 9.45l-7.72 7.72c-.78.78-.78 2.05 0 2.83L4 21.41c.39.39.9.59 1.41.59.51 0 1.02-.2 1.41-.59l7.78-7.78 2.81-2.81c.8-.78.8-2.07 0-2.86zM5.41 20L4 18.59l7.72-7.72 1.47 1.35L5.41 20z\"/>\n",
              "  </svg>\n",
              "      </button>\n",
              "      \n",
              "  <style>\n",
              "    .colab-df-container {\n",
              "      display:flex;\n",
              "      flex-wrap:wrap;\n",
              "      gap: 12px;\n",
              "    }\n",
              "\n",
              "    .colab-df-convert {\n",
              "      background-color: #E8F0FE;\n",
              "      border: none;\n",
              "      border-radius: 50%;\n",
              "      cursor: pointer;\n",
              "      display: none;\n",
              "      fill: #1967D2;\n",
              "      height: 32px;\n",
              "      padding: 0 0 0 0;\n",
              "      width: 32px;\n",
              "    }\n",
              "\n",
              "    .colab-df-convert:hover {\n",
              "      background-color: #E2EBFA;\n",
              "      box-shadow: 0px 1px 2px rgba(60, 64, 67, 0.3), 0px 1px 3px 1px rgba(60, 64, 67, 0.15);\n",
              "      fill: #174EA6;\n",
              "    }\n",
              "\n",
              "    [theme=dark] .colab-df-convert {\n",
              "      background-color: #3B4455;\n",
              "      fill: #D2E3FC;\n",
              "    }\n",
              "\n",
              "    [theme=dark] .colab-df-convert:hover {\n",
              "      background-color: #434B5C;\n",
              "      box-shadow: 0px 1px 3px 1px rgba(0, 0, 0, 0.15);\n",
              "      filter: drop-shadow(0px 1px 2px rgba(0, 0, 0, 0.3));\n",
              "      fill: #FFFFFF;\n",
              "    }\n",
              "  </style>\n",
              "\n",
              "      <script>\n",
              "        const buttonEl =\n",
              "          document.querySelector('#df-c1a730d4-1199-4200-b2fa-1967ffa55011 button.colab-df-convert');\n",
              "        buttonEl.style.display =\n",
              "          google.colab.kernel.accessAllowed ? 'block' : 'none';\n",
              "\n",
              "        async function convertToInteractive(key) {\n",
              "          const element = document.querySelector('#df-c1a730d4-1199-4200-b2fa-1967ffa55011');\n",
              "          const dataTable =\n",
              "            await google.colab.kernel.invokeFunction('convertToInteractive',\n",
              "                                                     [key], {});\n",
              "          if (!dataTable) return;\n",
              "\n",
              "          const docLinkHtml = 'Like what you see? Visit the ' +\n",
              "            '<a target=\"_blank\" href=https://colab.research.google.com/notebooks/data_table.ipynb>data table notebook</a>'\n",
              "            + ' to learn more about interactive tables.';\n",
              "          element.innerHTML = '';\n",
              "          dataTable['output_type'] = 'display_data';\n",
              "          await google.colab.output.renderOutput(dataTable, element);\n",
              "          const docLink = document.createElement('div');\n",
              "          docLink.innerHTML = docLinkHtml;\n",
              "          element.appendChild(docLink);\n",
              "        }\n",
              "      </script>\n",
              "    </div>\n",
              "  </div>\n",
              "  "
            ]
          },
          "metadata": {},
          "execution_count": 22
        }
      ]
    },
    {
      "cell_type": "code",
      "source": [
        "df_processed"
      ],
      "metadata": {
        "colab": {
          "base_uri": "https://localhost:8080/",
          "height": 424
        },
        "id": "Iov-tNSN4JSD",
        "outputId": "4ea7387c-48a1-4964-86f3-a63fb50406fc"
      },
      "execution_count": null,
      "outputs": [
        {
          "output_type": "execute_result",
          "data": {
            "text/plain": [
              "       1    2    3    4         5    6         7         8    9    10   ...  \\\n",
              "0      0.0  0.0  0.0  0.0  30.21875  0.0  20.71875  20.71875  0.0  0.0  ...   \n",
              "1      0.0  0.0  0.0  0.0  20.31250  0.0  39.93750  39.53125  0.0  0.0  ...   \n",
              "2      0.0  0.0  0.0  0.0  20.15625  0.0  20.15625  22.78125  0.0  0.0  ...   \n",
              "3      0.0  0.0  0.0  0.0  36.90625  0.0  34.75000  24.09375  0.0  0.0  ...   \n",
              "4      0.0  0.0  0.0  0.0  29.96875  0.0  20.90625  29.59375  0.0  0.0  ...   \n",
              "...    ...  ...  ...  ...       ...  ...       ...       ...  ...  ...  ...   \n",
              "54900  0.0  0.0  0.0  0.0   0.00000  0.0  23.46875  27.65625  0.0  0.0  ...   \n",
              "54901  0.0  0.0  0.0  0.0   0.00000  0.0  38.93750  39.78125  0.0  0.0  ...   \n",
              "54902  0.0  0.0  0.0  0.0   0.00000  0.0  28.40625  34.53125  0.0  0.0  ...   \n",
              "54903  0.0  0.0  0.0  0.0   0.00000  0.0  22.59375  36.93750  0.0  0.0  ...   \n",
              "54904  0.0  0.0  0.0  0.0   0.00000  0.0  34.25000  36.59375  0.0  0.0  ...   \n",
              "\n",
              "       141  142  143  144  145  146  147  148  149  150  \n",
              "0      0.0  0.0  0.0  0.0  0.0  0.0  0.0  0.0  0.0  0.0  \n",
              "1      0.0  0.0  0.0  0.0  0.0  0.0  0.0  0.0  0.0  0.0  \n",
              "2      0.0  0.0  0.0  0.0  0.0  0.0  0.0  0.0  0.0  0.0  \n",
              "3      0.0  0.0  0.0  0.0  0.0  0.0  0.0  0.0  0.0  0.0  \n",
              "4      0.0  0.0  0.0  0.0  0.0  0.0  0.0  0.0  0.0  0.0  \n",
              "...    ...  ...  ...  ...  ...  ...  ...  ...  ...  ...  \n",
              "54900  0.0  0.0  0.0  0.0  0.0  0.0  0.0  0.0  0.0  0.0  \n",
              "54901  0.0  0.0  0.0  0.0  0.0  0.0  0.0  0.0  0.0  0.0  \n",
              "54902  0.0  0.0  0.0  0.0  0.0  0.0  0.0  0.0  0.0  0.0  \n",
              "54903  0.0  0.0  0.0  0.0  0.0  0.0  0.0  0.0  0.0  0.0  \n",
              "54904  0.0  0.0  0.0  0.0  0.0  0.0  0.0  0.0  0.0  0.0  \n",
              "\n",
              "[54905 rows x 150 columns]"
            ],
            "text/html": [
              "\n",
              "  <div id=\"df-3b4e00b2-0644-4c0b-8fde-a87ce36d4ec9\">\n",
              "    <div class=\"colab-df-container\">\n",
              "      <div>\n",
              "<style scoped>\n",
              "    .dataframe tbody tr th:only-of-type {\n",
              "        vertical-align: middle;\n",
              "    }\n",
              "\n",
              "    .dataframe tbody tr th {\n",
              "        vertical-align: top;\n",
              "    }\n",
              "\n",
              "    .dataframe thead th {\n",
              "        text-align: right;\n",
              "    }\n",
              "</style>\n",
              "<table border=\"1\" class=\"dataframe\">\n",
              "  <thead>\n",
              "    <tr style=\"text-align: right;\">\n",
              "      <th></th>\n",
              "      <th>1</th>\n",
              "      <th>2</th>\n",
              "      <th>3</th>\n",
              "      <th>4</th>\n",
              "      <th>5</th>\n",
              "      <th>6</th>\n",
              "      <th>7</th>\n",
              "      <th>8</th>\n",
              "      <th>9</th>\n",
              "      <th>10</th>\n",
              "      <th>...</th>\n",
              "      <th>141</th>\n",
              "      <th>142</th>\n",
              "      <th>143</th>\n",
              "      <th>144</th>\n",
              "      <th>145</th>\n",
              "      <th>146</th>\n",
              "      <th>147</th>\n",
              "      <th>148</th>\n",
              "      <th>149</th>\n",
              "      <th>150</th>\n",
              "    </tr>\n",
              "  </thead>\n",
              "  <tbody>\n",
              "    <tr>\n",
              "      <th>0</th>\n",
              "      <td>0.0</td>\n",
              "      <td>0.0</td>\n",
              "      <td>0.0</td>\n",
              "      <td>0.0</td>\n",
              "      <td>30.21875</td>\n",
              "      <td>0.0</td>\n",
              "      <td>20.71875</td>\n",
              "      <td>20.71875</td>\n",
              "      <td>0.0</td>\n",
              "      <td>0.0</td>\n",
              "      <td>...</td>\n",
              "      <td>0.0</td>\n",
              "      <td>0.0</td>\n",
              "      <td>0.0</td>\n",
              "      <td>0.0</td>\n",
              "      <td>0.0</td>\n",
              "      <td>0.0</td>\n",
              "      <td>0.0</td>\n",
              "      <td>0.0</td>\n",
              "      <td>0.0</td>\n",
              "      <td>0.0</td>\n",
              "    </tr>\n",
              "    <tr>\n",
              "      <th>1</th>\n",
              "      <td>0.0</td>\n",
              "      <td>0.0</td>\n",
              "      <td>0.0</td>\n",
              "      <td>0.0</td>\n",
              "      <td>20.31250</td>\n",
              "      <td>0.0</td>\n",
              "      <td>39.93750</td>\n",
              "      <td>39.53125</td>\n",
              "      <td>0.0</td>\n",
              "      <td>0.0</td>\n",
              "      <td>...</td>\n",
              "      <td>0.0</td>\n",
              "      <td>0.0</td>\n",
              "      <td>0.0</td>\n",
              "      <td>0.0</td>\n",
              "      <td>0.0</td>\n",
              "      <td>0.0</td>\n",
              "      <td>0.0</td>\n",
              "      <td>0.0</td>\n",
              "      <td>0.0</td>\n",
              "      <td>0.0</td>\n",
              "    </tr>\n",
              "    <tr>\n",
              "      <th>2</th>\n",
              "      <td>0.0</td>\n",
              "      <td>0.0</td>\n",
              "      <td>0.0</td>\n",
              "      <td>0.0</td>\n",
              "      <td>20.15625</td>\n",
              "      <td>0.0</td>\n",
              "      <td>20.15625</td>\n",
              "      <td>22.78125</td>\n",
              "      <td>0.0</td>\n",
              "      <td>0.0</td>\n",
              "      <td>...</td>\n",
              "      <td>0.0</td>\n",
              "      <td>0.0</td>\n",
              "      <td>0.0</td>\n",
              "      <td>0.0</td>\n",
              "      <td>0.0</td>\n",
              "      <td>0.0</td>\n",
              "      <td>0.0</td>\n",
              "      <td>0.0</td>\n",
              "      <td>0.0</td>\n",
              "      <td>0.0</td>\n",
              "    </tr>\n",
              "    <tr>\n",
              "      <th>3</th>\n",
              "      <td>0.0</td>\n",
              "      <td>0.0</td>\n",
              "      <td>0.0</td>\n",
              "      <td>0.0</td>\n",
              "      <td>36.90625</td>\n",
              "      <td>0.0</td>\n",
              "      <td>34.75000</td>\n",
              "      <td>24.09375</td>\n",
              "      <td>0.0</td>\n",
              "      <td>0.0</td>\n",
              "      <td>...</td>\n",
              "      <td>0.0</td>\n",
              "      <td>0.0</td>\n",
              "      <td>0.0</td>\n",
              "      <td>0.0</td>\n",
              "      <td>0.0</td>\n",
              "      <td>0.0</td>\n",
              "      <td>0.0</td>\n",
              "      <td>0.0</td>\n",
              "      <td>0.0</td>\n",
              "      <td>0.0</td>\n",
              "    </tr>\n",
              "    <tr>\n",
              "      <th>4</th>\n",
              "      <td>0.0</td>\n",
              "      <td>0.0</td>\n",
              "      <td>0.0</td>\n",
              "      <td>0.0</td>\n",
              "      <td>29.96875</td>\n",
              "      <td>0.0</td>\n",
              "      <td>20.90625</td>\n",
              "      <td>29.59375</td>\n",
              "      <td>0.0</td>\n",
              "      <td>0.0</td>\n",
              "      <td>...</td>\n",
              "      <td>0.0</td>\n",
              "      <td>0.0</td>\n",
              "      <td>0.0</td>\n",
              "      <td>0.0</td>\n",
              "      <td>0.0</td>\n",
              "      <td>0.0</td>\n",
              "      <td>0.0</td>\n",
              "      <td>0.0</td>\n",
              "      <td>0.0</td>\n",
              "      <td>0.0</td>\n",
              "    </tr>\n",
              "    <tr>\n",
              "      <th>...</th>\n",
              "      <td>...</td>\n",
              "      <td>...</td>\n",
              "      <td>...</td>\n",
              "      <td>...</td>\n",
              "      <td>...</td>\n",
              "      <td>...</td>\n",
              "      <td>...</td>\n",
              "      <td>...</td>\n",
              "      <td>...</td>\n",
              "      <td>...</td>\n",
              "      <td>...</td>\n",
              "      <td>...</td>\n",
              "      <td>...</td>\n",
              "      <td>...</td>\n",
              "      <td>...</td>\n",
              "      <td>...</td>\n",
              "      <td>...</td>\n",
              "      <td>...</td>\n",
              "      <td>...</td>\n",
              "      <td>...</td>\n",
              "      <td>...</td>\n",
              "    </tr>\n",
              "    <tr>\n",
              "      <th>54900</th>\n",
              "      <td>0.0</td>\n",
              "      <td>0.0</td>\n",
              "      <td>0.0</td>\n",
              "      <td>0.0</td>\n",
              "      <td>0.00000</td>\n",
              "      <td>0.0</td>\n",
              "      <td>23.46875</td>\n",
              "      <td>27.65625</td>\n",
              "      <td>0.0</td>\n",
              "      <td>0.0</td>\n",
              "      <td>...</td>\n",
              "      <td>0.0</td>\n",
              "      <td>0.0</td>\n",
              "      <td>0.0</td>\n",
              "      <td>0.0</td>\n",
              "      <td>0.0</td>\n",
              "      <td>0.0</td>\n",
              "      <td>0.0</td>\n",
              "      <td>0.0</td>\n",
              "      <td>0.0</td>\n",
              "      <td>0.0</td>\n",
              "    </tr>\n",
              "    <tr>\n",
              "      <th>54901</th>\n",
              "      <td>0.0</td>\n",
              "      <td>0.0</td>\n",
              "      <td>0.0</td>\n",
              "      <td>0.0</td>\n",
              "      <td>0.00000</td>\n",
              "      <td>0.0</td>\n",
              "      <td>38.93750</td>\n",
              "      <td>39.78125</td>\n",
              "      <td>0.0</td>\n",
              "      <td>0.0</td>\n",
              "      <td>...</td>\n",
              "      <td>0.0</td>\n",
              "      <td>0.0</td>\n",
              "      <td>0.0</td>\n",
              "      <td>0.0</td>\n",
              "      <td>0.0</td>\n",
              "      <td>0.0</td>\n",
              "      <td>0.0</td>\n",
              "      <td>0.0</td>\n",
              "      <td>0.0</td>\n",
              "      <td>0.0</td>\n",
              "    </tr>\n",
              "    <tr>\n",
              "      <th>54902</th>\n",
              "      <td>0.0</td>\n",
              "      <td>0.0</td>\n",
              "      <td>0.0</td>\n",
              "      <td>0.0</td>\n",
              "      <td>0.00000</td>\n",
              "      <td>0.0</td>\n",
              "      <td>28.40625</td>\n",
              "      <td>34.53125</td>\n",
              "      <td>0.0</td>\n",
              "      <td>0.0</td>\n",
              "      <td>...</td>\n",
              "      <td>0.0</td>\n",
              "      <td>0.0</td>\n",
              "      <td>0.0</td>\n",
              "      <td>0.0</td>\n",
              "      <td>0.0</td>\n",
              "      <td>0.0</td>\n",
              "      <td>0.0</td>\n",
              "      <td>0.0</td>\n",
              "      <td>0.0</td>\n",
              "      <td>0.0</td>\n",
              "    </tr>\n",
              "    <tr>\n",
              "      <th>54903</th>\n",
              "      <td>0.0</td>\n",
              "      <td>0.0</td>\n",
              "      <td>0.0</td>\n",
              "      <td>0.0</td>\n",
              "      <td>0.00000</td>\n",
              "      <td>0.0</td>\n",
              "      <td>22.59375</td>\n",
              "      <td>36.93750</td>\n",
              "      <td>0.0</td>\n",
              "      <td>0.0</td>\n",
              "      <td>...</td>\n",
              "      <td>0.0</td>\n",
              "      <td>0.0</td>\n",
              "      <td>0.0</td>\n",
              "      <td>0.0</td>\n",
              "      <td>0.0</td>\n",
              "      <td>0.0</td>\n",
              "      <td>0.0</td>\n",
              "      <td>0.0</td>\n",
              "      <td>0.0</td>\n",
              "      <td>0.0</td>\n",
              "    </tr>\n",
              "    <tr>\n",
              "      <th>54904</th>\n",
              "      <td>0.0</td>\n",
              "      <td>0.0</td>\n",
              "      <td>0.0</td>\n",
              "      <td>0.0</td>\n",
              "      <td>0.00000</td>\n",
              "      <td>0.0</td>\n",
              "      <td>34.25000</td>\n",
              "      <td>36.59375</td>\n",
              "      <td>0.0</td>\n",
              "      <td>0.0</td>\n",
              "      <td>...</td>\n",
              "      <td>0.0</td>\n",
              "      <td>0.0</td>\n",
              "      <td>0.0</td>\n",
              "      <td>0.0</td>\n",
              "      <td>0.0</td>\n",
              "      <td>0.0</td>\n",
              "      <td>0.0</td>\n",
              "      <td>0.0</td>\n",
              "      <td>0.0</td>\n",
              "      <td>0.0</td>\n",
              "    </tr>\n",
              "  </tbody>\n",
              "</table>\n",
              "<p>54905 rows × 150 columns</p>\n",
              "</div>\n",
              "      <button class=\"colab-df-convert\" onclick=\"convertToInteractive('df-3b4e00b2-0644-4c0b-8fde-a87ce36d4ec9')\"\n",
              "              title=\"Convert this dataframe to an interactive table.\"\n",
              "              style=\"display:none;\">\n",
              "        \n",
              "  <svg xmlns=\"http://www.w3.org/2000/svg\" height=\"24px\"viewBox=\"0 0 24 24\"\n",
              "       width=\"24px\">\n",
              "    <path d=\"M0 0h24v24H0V0z\" fill=\"none\"/>\n",
              "    <path d=\"M18.56 5.44l.94 2.06.94-2.06 2.06-.94-2.06-.94-.94-2.06-.94 2.06-2.06.94zm-11 1L8.5 8.5l.94-2.06 2.06-.94-2.06-.94L8.5 2.5l-.94 2.06-2.06.94zm10 10l.94 2.06.94-2.06 2.06-.94-2.06-.94-.94-2.06-.94 2.06-2.06.94z\"/><path d=\"M17.41 7.96l-1.37-1.37c-.4-.4-.92-.59-1.43-.59-.52 0-1.04.2-1.43.59L10.3 9.45l-7.72 7.72c-.78.78-.78 2.05 0 2.83L4 21.41c.39.39.9.59 1.41.59.51 0 1.02-.2 1.41-.59l7.78-7.78 2.81-2.81c.8-.78.8-2.07 0-2.86zM5.41 20L4 18.59l7.72-7.72 1.47 1.35L5.41 20z\"/>\n",
              "  </svg>\n",
              "      </button>\n",
              "      \n",
              "  <style>\n",
              "    .colab-df-container {\n",
              "      display:flex;\n",
              "      flex-wrap:wrap;\n",
              "      gap: 12px;\n",
              "    }\n",
              "\n",
              "    .colab-df-convert {\n",
              "      background-color: #E8F0FE;\n",
              "      border: none;\n",
              "      border-radius: 50%;\n",
              "      cursor: pointer;\n",
              "      display: none;\n",
              "      fill: #1967D2;\n",
              "      height: 32px;\n",
              "      padding: 0 0 0 0;\n",
              "      width: 32px;\n",
              "    }\n",
              "\n",
              "    .colab-df-convert:hover {\n",
              "      background-color: #E2EBFA;\n",
              "      box-shadow: 0px 1px 2px rgba(60, 64, 67, 0.3), 0px 1px 3px 1px rgba(60, 64, 67, 0.15);\n",
              "      fill: #174EA6;\n",
              "    }\n",
              "\n",
              "    [theme=dark] .colab-df-convert {\n",
              "      background-color: #3B4455;\n",
              "      fill: #D2E3FC;\n",
              "    }\n",
              "\n",
              "    [theme=dark] .colab-df-convert:hover {\n",
              "      background-color: #434B5C;\n",
              "      box-shadow: 0px 1px 3px 1px rgba(0, 0, 0, 0.15);\n",
              "      filter: drop-shadow(0px 1px 2px rgba(0, 0, 0, 0.3));\n",
              "      fill: #FFFFFF;\n",
              "    }\n",
              "  </style>\n",
              "\n",
              "      <script>\n",
              "        const buttonEl =\n",
              "          document.querySelector('#df-3b4e00b2-0644-4c0b-8fde-a87ce36d4ec9 button.colab-df-convert');\n",
              "        buttonEl.style.display =\n",
              "          google.colab.kernel.accessAllowed ? 'block' : 'none';\n",
              "\n",
              "        async function convertToInteractive(key) {\n",
              "          const element = document.querySelector('#df-3b4e00b2-0644-4c0b-8fde-a87ce36d4ec9');\n",
              "          const dataTable =\n",
              "            await google.colab.kernel.invokeFunction('convertToInteractive',\n",
              "                                                     [key], {});\n",
              "          if (!dataTable) return;\n",
              "\n",
              "          const docLinkHtml = 'Like what you see? Visit the ' +\n",
              "            '<a target=\"_blank\" href=https://colab.research.google.com/notebooks/data_table.ipynb>data table notebook</a>'\n",
              "            + ' to learn more about interactive tables.';\n",
              "          element.innerHTML = '';\n",
              "          dataTable['output_type'] = 'display_data';\n",
              "          await google.colab.output.renderOutput(dataTable, element);\n",
              "          const docLink = document.createElement('div');\n",
              "          docLink.innerHTML = docLinkHtml;\n",
              "          element.appendChild(docLink);\n",
              "        }\n",
              "      </script>\n",
              "    </div>\n",
              "  </div>\n",
              "  "
            ]
          },
          "metadata": {},
          "execution_count": 48
        }
      ]
    },
    {
      "cell_type": "markdown",
      "source": [
        "# Evaluation"
      ],
      "metadata": {
        "id": "iLh9bop_Cn99"
      }
    },
    {
      "cell_type": "code",
      "source": [
        "from sklearn.metrics import ndcg_score"
      ],
      "metadata": {
        "id": "X1dIcus_UU-Z"
      },
      "execution_count": null,
      "outputs": []
    },
    {
      "cell_type": "code",
      "source": [
        "user_id=0\n",
        "ndcg_score(np.asarray([df_processed.loc[user_id]]), np.asarray([restored.loc[user_id]]))"
      ],
      "metadata": {
        "colab": {
          "base_uri": "https://localhost:8080/"
        },
        "id": "zTOI1fiUU9Jx",
        "outputId": "39430fae-2902-4bb4-e04c-4c894c940fec"
      },
      "execution_count": null,
      "outputs": [
        {
          "output_type": "execute_result",
          "data": {
            "text/plain": [
              "0.8876414707651327"
            ]
          },
          "metadata": {},
          "execution_count": 57
        }
      ]
    },
    {
      "cell_type": "code",
      "source": [
        "arr=np.array([4,5,1,3])\n",
        "arr.argsort()[::-1].argsort()+1"
      ],
      "metadata": {
        "colab": {
          "base_uri": "https://localhost:8080/"
        },
        "id": "uDUuYPI4mS_W",
        "outputId": "cf3b6b93-557d-4e5b-eb3c-a4e24d627651"
      },
      "execution_count": null,
      "outputs": [
        {
          "output_type": "execute_result",
          "data": {
            "text/plain": [
              "array([2, 1, 4, 3])"
            ]
          },
          "metadata": {},
          "execution_count": 59
        }
      ]
    },
    {
      "cell_type": "code",
      "source": [
        "def get_rank(arr):\n",
        "  return arr.argsort()[::-1].argsort()+1"
      ],
      "metadata": {
        "id": "pHESYJt6o6Kl"
      },
      "execution_count": null,
      "outputs": []
    },
    {
      "cell_type": "code",
      "source": [
        "gt_rank=get_rank(df_processed.loc[user_id])\n",
        "pred_rank=get_rank(restored.loc[user_id])"
      ],
      "metadata": {
        "id": "6cNtzLzjpAcE"
      },
      "execution_count": null,
      "outputs": []
    },
    {
      "cell_type": "code",
      "source": [
        "np.asarray([gt_rank])"
      ],
      "metadata": {
        "colab": {
          "base_uri": "https://localhost:8080/"
        },
        "id": "cgAfn3k3pAeg",
        "outputId": "c6b0fd8e-4dd4-447b-96da-97472042580c"
      },
      "execution_count": null,
      "outputs": [
        {
          "output_type": "execute_result",
          "data": {
            "text/plain": [
              "array([[150,  72,  73,  74,  35,  75,  60,  61,  76,  77,  78,  79,  50,\n",
              "         80,  32,  62,  58,  52,  56,  59,  51,  57,  55,  54,  53,  43,\n",
              "         10,  81,  11,  82,  13,  14,  84,  48,  16,  17,  85,  86,  87,\n",
              "         88,  89,  39,  90,  71,  70,  67,  66,  63,  40,   1,  41,  37,\n",
              "         12,  24,  68,  65,  64,  91,  83,  93,  42,  34, 108, 125,  18,\n",
              "         22, 126,  46,  21, 127, 128,  15, 129, 130,  92,   5, 132, 133,\n",
              "        134,  38,  36, 135,   6, 136, 137, 138,  25, 139,   2, 140,  19,\n",
              "         27,   4, 141, 142, 143, 144, 145, 146, 147, 148,  33,  49,  29,\n",
              "         31,  47,  30,  26,   3, 149, 124, 123, 122, 121,  95,  96,  97,\n",
              "         44,   8,   7,  20,  98,   9,  99, 100, 101,  23,  45, 102, 103,\n",
              "        104, 105, 106,  28,  94, 107, 109, 110, 111, 112, 113, 114, 115,\n",
              "        116, 117, 118, 119, 120, 131,  69]])"
            ]
          },
          "metadata": {},
          "execution_count": 64
        }
      ]
    },
    {
      "cell_type": "code",
      "source": [
        "ndcg_score(np.asarray([gt_rank]), np.asarray([pred_rank]), k=10)"
      ],
      "metadata": {
        "colab": {
          "base_uri": "https://localhost:8080/"
        },
        "id": "pJ0LKiFRpAi5",
        "outputId": "9a607f85-2e14-41dc-99fc-8c1850c15fcb"
      },
      "execution_count": null,
      "outputs": [
        {
          "output_type": "execute_result",
          "data": {
            "text/plain": [
              "0.5190368261143826"
            ]
          },
          "metadata": {},
          "execution_count": 71
        }
      ]
    },
    {
      "cell_type": "code",
      "source": [
        "ndcg_cum=0\n",
        "for user_id in range(len(df_processed)):\n",
        "  gt_rank=get_rank(df_processed.loc[user_id])\n",
        "  pred_rank=get_rank(restored.loc[user_id])\n",
        "  ndcg_cum+=ndcg_score(np.asarray([gt_rank]), np.asarray([pred_rank]), k=10)"
      ],
      "metadata": {
        "id": "rRpshBmTpAk1"
      },
      "execution_count": null,
      "outputs": []
    },
    {
      "cell_type": "code",
      "source": [
        "ndcg_total=ndcg_cum/len(df_processed)\n",
        "ndcg_total #for k=5"
      ],
      "metadata": {
        "colab": {
          "base_uri": "https://localhost:8080/"
        },
        "id": "dbnaIGZyq-Ki",
        "outputId": "ab8af6be-c298-4228-da28-40b1c2a20c51"
      },
      "execution_count": null,
      "outputs": [
        {
          "output_type": "execute_result",
          "data": {
            "text/plain": [
              "0.605376949965302"
            ]
          },
          "metadata": {},
          "execution_count": 80
        }
      ]
    },
    {
      "cell_type": "code",
      "source": [
        "ndcg_total=ndcg_cum/len(df_processed)\n",
        "ndcg_total #for k=10"
      ],
      "metadata": {
        "colab": {
          "base_uri": "https://localhost:8080/"
        },
        "id": "-oGZQAYCq-HZ",
        "outputId": "a85e1e17-88a2-40a5-c8b0-7a312ace158c"
      },
      "execution_count": null,
      "outputs": [
        {
          "output_type": "execute_result",
          "data": {
            "text/plain": [
              "0.6078611202443114"
            ]
          },
          "metadata": {},
          "execution_count": 82
        }
      ]
    },
    {
      "cell_type": "code",
      "source": [
        "hit=0\n",
        "k=10\n",
        "for user_id in range(len(df_processed)):\n",
        "  top_k_pred=list(restored.loc[user_id].sort_values(ascending=False).index[:k])\n",
        "  top_true=df_processed.loc[user_id].sort_values(ascending=False).index[0]\n",
        "  if top_true in top_k_pred:\n",
        "    hit+=1"
      ],
      "metadata": {
        "id": "cHxWeba2Cme4"
      },
      "execution_count": null,
      "outputs": []
    },
    {
      "cell_type": "code",
      "source": [
        "hit_ratio=hit/len(df_processed)\n",
        "hit_ratio #for k=5"
      ],
      "metadata": {
        "colab": {
          "base_uri": "https://localhost:8080/"
        },
        "id": "LKis-3ZACmiu",
        "outputId": "8ba7d715-d6cf-493f-8409-91bff93365b3"
      },
      "execution_count": null,
      "outputs": [
        {
          "output_type": "execute_result",
          "data": {
            "text/plain": [
              "0.30601948820690283"
            ]
          },
          "metadata": {},
          "execution_count": 44
        }
      ]
    },
    {
      "cell_type": "code",
      "source": [
        "hit_ratio=hit/len(df_processed)\n",
        "hit_ratio #for k=10"
      ],
      "metadata": {
        "colab": {
          "base_uri": "https://localhost:8080/"
        },
        "id": "NjAMDk1ECmmP",
        "outputId": "028104cf-90d1-4001-a454-b08aeaf10496"
      },
      "execution_count": null,
      "outputs": [
        {
          "output_type": "execute_result",
          "data": {
            "text/plain": [
              "0.5148893543393134"
            ]
          },
          "metadata": {},
          "execution_count": 46
        }
      ]
    },
    {
      "cell_type": "markdown",
      "source": [
        "## Naive approach evaluation"
      ],
      "metadata": {
        "id": "0ThOvqcAuX8Y"
      }
    },
    {
      "cell_type": "code",
      "source": [
        "naive_pred=df_processed.mean()\n",
        "naive_pred"
      ],
      "metadata": {
        "colab": {
          "base_uri": "https://localhost:8080/"
        },
        "id": "uc6gSt7mue8F",
        "outputId": "3c5abb8f-58a9-4de4-fbdb-79a078d26d4e"
      },
      "execution_count": null,
      "outputs": [
        {
          "output_type": "execute_result",
          "data": {
            "text/plain": [
              "1       0.000000\n",
              "2       0.000000\n",
              "3       0.000000\n",
              "4       0.000000\n",
              "5       0.288287\n",
              "         ...    \n",
              "146     2.824381\n",
              "147     5.914830\n",
              "148     9.696221\n",
              "149     6.799298\n",
              "150    11.493085\n",
              "Length: 150, dtype: float64"
            ]
          },
          "metadata": {},
          "execution_count": 78
        }
      ]
    },
    {
      "cell_type": "code",
      "source": [
        "#ndcg\n",
        "ndcg_cum=0\n",
        "naive_rank=get_rank(naive_pred)\n",
        "for user_id in range(len(df_processed)):\n",
        "  gt_rank=get_rank(df_processed.loc[user_id])\n",
        "  ndcg_cum+=ndcg_score(np.asarray([gt_rank]), np.asarray([naive_rank]), k=10)"
      ],
      "metadata": {
        "id": "0nFvZmbxuW20"
      },
      "execution_count": null,
      "outputs": []
    },
    {
      "cell_type": "code",
      "source": [
        "ndcg_total=ndcg_cum/len(df_processed)\n",
        "ndcg_total #for k=5"
      ],
      "metadata": {
        "colab": {
          "base_uri": "https://localhost:8080/"
        },
        "id": "qm61NLMyuW5f",
        "outputId": "036b1923-7058-4997-a841-1fb1f713a478"
      },
      "execution_count": null,
      "outputs": [
        {
          "output_type": "execute_result",
          "data": {
            "text/plain": [
              "0.6135019662129706"
            ]
          },
          "metadata": {},
          "execution_count": 84
        }
      ]
    },
    {
      "cell_type": "code",
      "source": [
        "ndcg_total=ndcg_cum/len(df_processed)\n",
        "ndcg_total #for k=10"
      ],
      "metadata": {
        "colab": {
          "base_uri": "https://localhost:8080/"
        },
        "id": "zvxTXZYYwJAq",
        "outputId": "d23ffbf7-5ae8-4a55-f384-1fc963b82ef8"
      },
      "execution_count": null,
      "outputs": [
        {
          "output_type": "execute_result",
          "data": {
            "text/plain": [
              "0.5629028558834749"
            ]
          },
          "metadata": {},
          "execution_count": 86
        }
      ]
    },
    {
      "cell_type": "code",
      "source": [
        "#hit ratio\n",
        "hit=0\n",
        "k=10\n",
        "naive_top_k_pred=list(naive_pred.sort_values(ascending=False).index[:k])\n",
        "for user_id in range(len(df_processed)):\n",
        "  top_true=df_processed.loc[user_id].sort_values(ascending=False).index[0]\n",
        "  if top_true in naive_top_k_pred:\n",
        "    hit+=1"
      ],
      "metadata": {
        "id": "wJ3wNGtCuW7_"
      },
      "execution_count": null,
      "outputs": []
    },
    {
      "cell_type": "code",
      "source": [
        "hit_ratio=hit/len(df_processed)\n",
        "hit_ratio #for k=5"
      ],
      "metadata": {
        "colab": {
          "base_uri": "https://localhost:8080/"
        },
        "id": "A12_P-YBuW-R",
        "outputId": "89be2a94-8b28-4b02-e6ca-a73db20af768"
      },
      "execution_count": null,
      "outputs": [
        {
          "output_type": "execute_result",
          "data": {
            "text/plain": [
              "0.260304161733904"
            ]
          },
          "metadata": {},
          "execution_count": 89
        }
      ]
    },
    {
      "cell_type": "code",
      "source": [
        "hit_ratio=hit/len(df_processed)\n",
        "hit_ratio #for k=10"
      ],
      "metadata": {
        "colab": {
          "base_uri": "https://localhost:8080/"
        },
        "id": "vYdR3vhEwont",
        "outputId": "6b36bbea-82b8-41c5-c2ae-108776db0ae3"
      },
      "execution_count": null,
      "outputs": [
        {
          "output_type": "execute_result",
          "data": {
            "text/plain": [
              "0.44050632911392407"
            ]
          },
          "metadata": {},
          "execution_count": 91
        }
      ]
    },
    {
      "cell_type": "markdown",
      "source": [
        "## Below here is just for reference\n",
        "- Codes we can refer for more advanced models:\n",
        "- https://github.com/microsoft/recommenders\n",
        "- https://github.com/microsoft/recommenders/blob/main/examples/02_model_collaborative_filtering/lightgcn_deep_dive.ipynb\n",
        "- https://github.com/microsoft/recommenders/blob/main/examples/02_model_collaborative_filtering/standard_vae_deep_dive.ipynb\n"
      ],
      "metadata": {
        "id": "Mgifv95xxg3P"
      }
    },
    {
      "cell_type": "code",
      "metadata": {
        "id": "ZgDgNOzoKL5o"
      },
      "source": [
        "df_svd_preds = pd.DataFrame(svd_user_predicted_link,index= ply_pivot1.index ,columns = ply_pivot1.columns)\n",
        "df_svd_preds"
      ],
      "execution_count": null,
      "outputs": []
    },
    {
      "cell_type": "code",
      "metadata": {
        "id": "XgwaqCJeKLzW"
      },
      "source": [
        "#우리가 캡스톤에 사용했던 방식은 결국 leave one out인거암. \n",
        "def recommend_songs(df_svd_preds, user_id, ori_link_df, num_recommendations):\n",
        "    # 최종적으로 만든 pred_df에서 사용자 index에 따라 곡 데이터 정렬 -> 영화 유사도가 높은 순으로 정렬 됌\n",
        "    sorted_user_predictions = df_svd_preds.loc[user_id].sort_values(ascending=False)\n",
        "    # 원본 곡 데이터에서 user id에 해당하는 데이터를 뽑아낸다. \n",
        "    #user_data = ori_link_df.loc[user_id]\n",
        "    # 사용자의 곡 유사도가 높은 순으로 정렬된 데이터와 위 recommendations을 합친다. \n",
        "    recommendations = pd.DataFrame(sorted_user_predictions).reset_index()\n",
        "    # 컬럼 이름 바꾸고 정렬해서 return\n",
        "    recommendations = recommendations.rename(columns = {user_id: 'Predictions'}).sort_values('Predictions', ascending = False).iloc[:num_recommendations, :]\n",
        "    return recommendations"
      ],
      "execution_count": null,
      "outputs": []
    },
    {
      "cell_type": "code",
      "metadata": {
        "id": "Ne4XD6RuKLwy"
      },
      "source": [
        "predictions = recommend_songs(df_svd_preds, 23431, ply_pivot1, 100)"
      ],
      "execution_count": null,
      "outputs": []
    },
    {
      "cell_type": "code",
      "metadata": {
        "id": "FqLbr3cWIMuv"
      },
      "source": [
        "predictions"
      ],
      "execution_count": null,
      "outputs": []
    },
    {
      "cell_type": "code",
      "metadata": {
        "id": "Xm66_NpReTIw"
      },
      "source": [
        "import json\n",
        " \n",
        "# Ready for data\n",
        "songs = []\n",
        "song = {}\n",
        "for name in ply_pivot_val.id:\n",
        "  song['id'] = name\n",
        "  song['songs'] = list(recommend_songs(df_svd_preds, name, ply_pivot1, 100)['song_id'])\n",
        "  songs.append(song)\n",
        "\n",
        " \n",
        "# Print JSON\n",
        "print(json.dumps(songs, indent=\"\\t\") )"
      ],
      "execution_count": null,
      "outputs": []
    },
    {
      "cell_type": "code",
      "metadata": {
        "id": "vKOuvmbHgZH1"
      },
      "source": [
        "# Write JSON\n",
        "with open('./답안/res.json', 'w', encoding=\"utf-8\") as make_file:\n",
        "    json.dump(songs, make_file, ensure_ascii=False, indent=\"\\t\")"
      ],
      "execution_count": null,
      "outputs": []
    },
    {
      "cell_type": "code",
      "metadata": {
        "id": "R02IpfIpipo3"
      },
      "source": [
        "f = open('./답안/res.json', encoding=\"UTF-8\")\n",
        "raw_data = json.loads(f.read())\n",
        "raw_data"
      ],
      "execution_count": null,
      "outputs": []
    },
    {
      "cell_type": "code",
      "metadata": {
        "id": "apsW0PU88TQU"
      },
      "source": [],
      "execution_count": null,
      "outputs": []
    },
    {
      "cell_type": "code",
      "metadata": {
        "id": "nsEwZ3yD8TKv"
      },
      "source": [],
      "execution_count": null,
      "outputs": []
    }
  ]
}